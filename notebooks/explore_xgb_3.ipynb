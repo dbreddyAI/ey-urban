{
 "cells": [
  {
   "cell_type": "code",
   "execution_count": 2,
   "metadata": {},
   "outputs": [],
   "source": [
    "import xgboost as xgb\n",
    "import pandas as pd\n",
    "import numpy as np\n",
    "import math\n",
    "import matplotlib.pyplot as plt\n",
    "from matplotlib.path import Path\n",
    "import matplotlib.patches as patches\n",
    "import seaborn as sns\n",
    "%matplotlib inline"
   ]
  },
  {
   "cell_type": "markdown",
   "metadata": {},
   "source": [
    "## 1. Preprocessing"
   ]
  },
  {
   "cell_type": "code",
   "execution_count": 3,
   "metadata": {},
   "outputs": [],
   "source": [
    "data = pd.read_csv(\"data_train.csv\")"
   ]
  },
  {
   "cell_type": "code",
   "execution_count": 4,
   "metadata": {},
   "outputs": [],
   "source": [
    "data['time_entry'] = pd.to_datetime(data['time_entry'], format='%H:%M:%S')\n",
    "data['time_exit']  = pd.to_datetime(data['time_exit'], format='%H:%M:%S')"
   ]
  },
  {
   "cell_type": "code",
   "execution_count": 6,
   "metadata": {},
   "outputs": [],
   "source": [
    "data = data[data['time_exit'].dt.hour.between(15,16)]"
   ]
  },
  {
   "cell_type": "code",
   "execution_count": 7,
   "metadata": {},
   "outputs": [
    {
     "data": {
      "text/html": [
       "<div>\n",
       "<style scoped>\n",
       "    .dataframe tbody tr th:only-of-type {\n",
       "        vertical-align: middle;\n",
       "    }\n",
       "\n",
       "    .dataframe tbody tr th {\n",
       "        vertical-align: top;\n",
       "    }\n",
       "\n",
       "    .dataframe thead th {\n",
       "        text-align: right;\n",
       "    }\n",
       "</style>\n",
       "<table border=\"1\" class=\"dataframe\">\n",
       "  <thead>\n",
       "    <tr style=\"text-align: right;\">\n",
       "      <th></th>\n",
       "      <th>Unnamed: 0</th>\n",
       "      <th>hash</th>\n",
       "      <th>trajectory_id</th>\n",
       "      <th>time_entry</th>\n",
       "      <th>time_exit</th>\n",
       "      <th>vmax</th>\n",
       "      <th>vmin</th>\n",
       "      <th>vmean</th>\n",
       "      <th>x_entry</th>\n",
       "      <th>y_entry</th>\n",
       "      <th>x_exit</th>\n",
       "      <th>y_exit</th>\n",
       "      <th>duration</th>\n",
       "    </tr>\n",
       "  </thead>\n",
       "  <tbody>\n",
       "    <tr>\n",
       "      <th>5</th>\n",
       "      <td>5</td>\n",
       "      <td>0000a8602cf2def930488dee7cdad104_1</td>\n",
       "      <td>traj_0000a8602cf2def930488dee7cdad104_1_5</td>\n",
       "      <td>1900-01-01 15:02:31</td>\n",
       "      <td>1900-01-01 15:18:33</td>\n",
       "      <td>NaN</td>\n",
       "      <td>NaN</td>\n",
       "      <td>NaN</td>\n",
       "      <td>3.744945e+06</td>\n",
       "      <td>-1.928183e+07</td>\n",
       "      <td>3.744785e+06</td>\n",
       "      <td>-1.928148e+07</td>\n",
       "      <td>962</td>\n",
       "    </tr>\n",
       "    <tr>\n",
       "      <th>9</th>\n",
       "      <td>9</td>\n",
       "      <td>0000cf177130469eeac79f67b6bcf3df_9</td>\n",
       "      <td>traj_0000cf177130469eeac79f67b6bcf3df_9_3</td>\n",
       "      <td>1900-01-01 15:00:32</td>\n",
       "      <td>1900-01-01 15:29:48</td>\n",
       "      <td>1.149404</td>\n",
       "      <td>1.149404</td>\n",
       "      <td>1.149404</td>\n",
       "      <td>3.749088e+06</td>\n",
       "      <td>-1.926605e+07</td>\n",
       "      <td>3.749610e+06</td>\n",
       "      <td>-1.926594e+07</td>\n",
       "      <td>1756</td>\n",
       "    </tr>\n",
       "    <tr>\n",
       "      <th>11</th>\n",
       "      <td>11</td>\n",
       "      <td>0001f97b99a80f18f62e2d44e54ef33d_3</td>\n",
       "      <td>traj_0001f97b99a80f18f62e2d44e54ef33d_3_1</td>\n",
       "      <td>1900-01-01 14:34:35</td>\n",
       "      <td>1900-01-01 15:19:51</td>\n",
       "      <td>30.167742</td>\n",
       "      <td>30.167742</td>\n",
       "      <td>30.167742</td>\n",
       "      <td>3.758738e+06</td>\n",
       "      <td>-1.937594e+07</td>\n",
       "      <td>3.769687e+06</td>\n",
       "      <td>-1.914258e+07</td>\n",
       "      <td>2716</td>\n",
       "    </tr>\n",
       "    <tr>\n",
       "      <th>20</th>\n",
       "      <td>20</td>\n",
       "      <td>0002124248b0ca510dea42824723ccac_31</td>\n",
       "      <td>traj_0002124248b0ca510dea42824723ccac_31_10</td>\n",
       "      <td>1900-01-01 15:28:54</td>\n",
       "      <td>1900-01-01 15:28:54</td>\n",
       "      <td>NaN</td>\n",
       "      <td>NaN</td>\n",
       "      <td>NaN</td>\n",
       "      <td>3.767866e+06</td>\n",
       "      <td>-1.917797e+07</td>\n",
       "      <td>3.767866e+06</td>\n",
       "      <td>-1.917797e+07</td>\n",
       "      <td>0</td>\n",
       "    </tr>\n",
       "    <tr>\n",
       "      <th>28</th>\n",
       "      <td>28</td>\n",
       "      <td>000219c2a6380c307e8bffd85b5e404b_23</td>\n",
       "      <td>traj_000219c2a6380c307e8bffd85b5e404b_23_16</td>\n",
       "      <td>1900-01-01 15:08:05</td>\n",
       "      <td>1900-01-01 15:08:05</td>\n",
       "      <td>NaN</td>\n",
       "      <td>NaN</td>\n",
       "      <td>NaN</td>\n",
       "      <td>3.747641e+06</td>\n",
       "      <td>-1.922695e+07</td>\n",
       "      <td>3.747641e+06</td>\n",
       "      <td>-1.922695e+07</td>\n",
       "      <td>0</td>\n",
       "    </tr>\n",
       "  </tbody>\n",
       "</table>\n",
       "</div>"
      ],
      "text/plain": [
       "    Unnamed: 0                                 hash  \\\n",
       "5            5   0000a8602cf2def930488dee7cdad104_1   \n",
       "9            9   0000cf177130469eeac79f67b6bcf3df_9   \n",
       "11          11   0001f97b99a80f18f62e2d44e54ef33d_3   \n",
       "20          20  0002124248b0ca510dea42824723ccac_31   \n",
       "28          28  000219c2a6380c307e8bffd85b5e404b_23   \n",
       "\n",
       "                                  trajectory_id          time_entry  \\\n",
       "5     traj_0000a8602cf2def930488dee7cdad104_1_5 1900-01-01 15:02:31   \n",
       "9     traj_0000cf177130469eeac79f67b6bcf3df_9_3 1900-01-01 15:00:32   \n",
       "11    traj_0001f97b99a80f18f62e2d44e54ef33d_3_1 1900-01-01 14:34:35   \n",
       "20  traj_0002124248b0ca510dea42824723ccac_31_10 1900-01-01 15:28:54   \n",
       "28  traj_000219c2a6380c307e8bffd85b5e404b_23_16 1900-01-01 15:08:05   \n",
       "\n",
       "             time_exit       vmax       vmin      vmean       x_entry  \\\n",
       "5  1900-01-01 15:18:33        NaN        NaN        NaN  3.744945e+06   \n",
       "9  1900-01-01 15:29:48   1.149404   1.149404   1.149404  3.749088e+06   \n",
       "11 1900-01-01 15:19:51  30.167742  30.167742  30.167742  3.758738e+06   \n",
       "20 1900-01-01 15:28:54        NaN        NaN        NaN  3.767866e+06   \n",
       "28 1900-01-01 15:08:05        NaN        NaN        NaN  3.747641e+06   \n",
       "\n",
       "         y_entry        x_exit        y_exit  duration  \n",
       "5  -1.928183e+07  3.744785e+06 -1.928148e+07       962  \n",
       "9  -1.926605e+07  3.749610e+06 -1.926594e+07      1756  \n",
       "11 -1.937594e+07  3.769687e+06 -1.914258e+07      2716  \n",
       "20 -1.917797e+07  3.767866e+06 -1.917797e+07         0  \n",
       "28 -1.922695e+07  3.747641e+06 -1.922695e+07         0  "
      ]
     },
     "execution_count": 7,
     "metadata": {},
     "output_type": "execute_result"
    }
   ],
   "source": [
    "data[:5]"
   ]
  },
  {
   "cell_type": "markdown",
   "metadata": {},
   "source": [
    "## 1.2 Time Features"
   ]
  },
  {
   "cell_type": "code",
   "execution_count": 5,
   "metadata": {},
   "outputs": [],
   "source": [
    "data['duration'] = (data['time_exit'] - data['time_entry']).dt.total_seconds().astype(int)"
   ]
  },
  {
   "cell_type": "code",
   "execution_count": 8,
   "metadata": {},
   "outputs": [],
   "source": [
    "data['entry_hour'] = data['time_entry'].dt.hour\n",
    "data['entry_minute'] = data['time_entry'].dt.minute\n",
    "data['entry_second'] = data['time_entry'].dt.second\n",
    "data['exit_hour'] = data['time_exit'].dt.hour\n",
    "data['exit_minute'] = data['time_exit'].dt.minute\n",
    "data['exit_second'] = data['time_exit'].dt.second"
   ]
  },
  {
   "cell_type": "code",
   "execution_count": null,
   "metadata": {},
   "outputs": [],
   "source": []
  },
  {
   "cell_type": "markdown",
   "metadata": {},
   "source": [
    "## 1.4 Train/Test Split"
   ]
  },
  {
   "cell_type": "code",
   "execution_count": 9,
   "metadata": {},
   "outputs": [],
   "source": [
    "Y = data['x_exit'].between(3750901.5068, 3770901.5068) & data['y_exit'].between((-19268905.6133), -19208905.6133)"
   ]
  },
  {
   "cell_type": "code",
   "execution_count": 12,
   "metadata": {},
   "outputs": [],
   "source": [
    "X = data.drop(['Unnamed: 0', 'hash', 'trajectory_id', 'time_entry', 'time_exit', 'x_exit', 'y_exit'\n",
    "              ,'vmax', 'vmin', 'vmean'], axis=1)\n"
   ]
  },
  {
   "cell_type": "code",
   "execution_count": 1,
   "metadata": {},
   "outputs": [
    {
     "ename": "NameError",
     "evalue": "name 'X' is not defined",
     "output_type": "error",
     "traceback": [
      "\u001b[0;31m---------------------------------------------------------------------------\u001b[0m",
      "\u001b[0;31mNameError\u001b[0m                                 Traceback (most recent call last)",
      "\u001b[0;32m<ipython-input-1-32615e294569>\u001b[0m in \u001b[0;36m<module>\u001b[0;34m()\u001b[0m\n\u001b[0;32m----> 1\u001b[0;31m \u001b[0mX\u001b[0m\u001b[0;34m[\u001b[0m\u001b[0;34m:\u001b[0m\u001b[0;36m5\u001b[0m\u001b[0;34m]\u001b[0m\u001b[0;34m\u001b[0m\u001b[0m\n\u001b[0m",
      "\u001b[0;31mNameError\u001b[0m: name 'X' is not defined"
     ]
    }
   ],
   "source": [
    "X[:5]"
   ]
  },
  {
   "cell_type": "code",
   "execution_count": 14,
   "metadata": {},
   "outputs": [],
   "source": [
    "from sklearn.model_selection import train_test_split"
   ]
  },
  {
   "cell_type": "code",
   "execution_count": 15,
   "metadata": {},
   "outputs": [],
   "source": [
    "train_x, test_x, train_y, test_y = train_test_split(X, Y, test_size=0.2, random_state=42)"
   ]
  },
  {
   "cell_type": "code",
   "execution_count": 16,
   "metadata": {},
   "outputs": [
    {
     "data": {
      "text/plain": [
       "(107250, 9)"
      ]
     },
     "execution_count": 16,
     "metadata": {},
     "output_type": "execute_result"
    }
   ],
   "source": [
    "train_x.shape"
   ]
  },
  {
   "cell_type": "markdown",
   "metadata": {},
   "source": [
    "# Model Building"
   ]
  },
  {
   "cell_type": "code",
   "execution_count": 27,
   "metadata": {},
   "outputs": [],
   "source": [
    "# 228 rounds\n",
    "models = xgb.XGBClassifier(max_depth=10, learning_rate=0.03, n_estimators=20000, n_jobs=-1,\n",
    "                           subsample=0.8, colsample_bytree=0.8, seed=420)\n",
    "# 3035\n",
    "# models = xgb.XGBClassifier(max_depth=6, learning_rate=0.05, n_estimators=20000,\n",
    "#                            subsample=0.8, colsample_bytree=0.9, reg_alpha=65, seed=420, n_jobs=-1)"
   ]
  },
  {
   "cell_type": "code",
   "execution_count": 28,
   "metadata": {
    "scrolled": true
   },
   "outputs": [
    {
     "name": "stdout",
     "output_type": "stream",
     "text": [
      "[0]\tvalidation_0-auc:0.949732\tvalidation_1-auc:0.94383\n",
      "Multiple eval metrics have been passed: 'validation_1-auc' will be used for early stopping.\n",
      "\n",
      "Will train until validation_1-auc hasn't improved in 100 rounds.\n",
      "[1]\tvalidation_0-auc:0.95157\tvalidation_1-auc:0.945216\n",
      "[2]\tvalidation_0-auc:0.971434\tvalidation_1-auc:0.965452\n",
      "[3]\tvalidation_0-auc:0.975089\tvalidation_1-auc:0.969431\n",
      "[4]\tvalidation_0-auc:0.973711\tvalidation_1-auc:0.967885\n",
      "[5]\tvalidation_0-auc:0.973943\tvalidation_1-auc:0.965631\n",
      "[6]\tvalidation_0-auc:0.976369\tvalidation_1-auc:0.96834\n",
      "[7]\tvalidation_0-auc:0.977861\tvalidation_1-auc:0.969929\n",
      "[8]\tvalidation_0-auc:0.978966\tvalidation_1-auc:0.971236\n",
      "[9]\tvalidation_0-auc:0.979822\tvalidation_1-auc:0.972076\n",
      "[10]\tvalidation_0-auc:0.979724\tvalidation_1-auc:0.970594\n",
      "[11]\tvalidation_0-auc:0.979238\tvalidation_1-auc:0.970387\n",
      "[12]\tvalidation_0-auc:0.979047\tvalidation_1-auc:0.968751\n",
      "[13]\tvalidation_0-auc:0.97876\tvalidation_1-auc:0.96868\n",
      "[14]\tvalidation_0-auc:0.978402\tvalidation_1-auc:0.96853\n",
      "[15]\tvalidation_0-auc:0.977958\tvalidation_1-auc:0.968129\n",
      "[16]\tvalidation_0-auc:0.978936\tvalidation_1-auc:0.969168\n",
      "[17]\tvalidation_0-auc:0.979038\tvalidation_1-auc:0.968277\n",
      "[18]\tvalidation_0-auc:0.979922\tvalidation_1-auc:0.969301\n",
      "[19]\tvalidation_0-auc:0.98064\tvalidation_1-auc:0.970113\n",
      "[20]\tvalidation_0-auc:0.980623\tvalidation_1-auc:0.969291\n",
      "[21]\tvalidation_0-auc:0.981265\tvalidation_1-auc:0.970139\n",
      "[22]\tvalidation_0-auc:0.981807\tvalidation_1-auc:0.970844\n",
      "[23]\tvalidation_0-auc:0.982312\tvalidation_1-auc:0.971659\n",
      "[24]\tvalidation_0-auc:0.982743\tvalidation_1-auc:0.972243\n",
      "[25]\tvalidation_0-auc:0.983168\tvalidation_1-auc:0.97278\n",
      "[26]\tvalidation_0-auc:0.983531\tvalidation_1-auc:0.973216\n",
      "[27]\tvalidation_0-auc:0.983839\tvalidation_1-auc:0.973601\n",
      "[28]\tvalidation_0-auc:0.983676\tvalidation_1-auc:0.973333\n",
      "[29]\tvalidation_0-auc:0.983959\tvalidation_1-auc:0.973735\n",
      "[30]\tvalidation_0-auc:0.984176\tvalidation_1-auc:0.974018\n",
      "[31]\tvalidation_0-auc:0.984396\tvalidation_1-auc:0.97429\n",
      "[32]\tvalidation_0-auc:0.984575\tvalidation_1-auc:0.974578\n",
      "[33]\tvalidation_0-auc:0.984718\tvalidation_1-auc:0.974547\n",
      "[34]\tvalidation_0-auc:0.984849\tvalidation_1-auc:0.974719\n",
      "[35]\tvalidation_0-auc:0.984988\tvalidation_1-auc:0.974933\n",
      "[36]\tvalidation_0-auc:0.984918\tvalidation_1-auc:0.974776\n",
      "[37]\tvalidation_0-auc:0.985007\tvalidation_1-auc:0.974767\n",
      "[38]\tvalidation_0-auc:0.985104\tvalidation_1-auc:0.974621\n",
      "[39]\tvalidation_0-auc:0.985279\tvalidation_1-auc:0.974835\n",
      "[40]\tvalidation_0-auc:0.985434\tvalidation_1-auc:0.975077\n",
      "[41]\tvalidation_0-auc:0.985536\tvalidation_1-auc:0.974907\n",
      "[42]\tvalidation_0-auc:0.985705\tvalidation_1-auc:0.975145\n",
      "[43]\tvalidation_0-auc:0.985825\tvalidation_1-auc:0.975157\n",
      "[44]\tvalidation_0-auc:0.985958\tvalidation_1-auc:0.97536\n",
      "[45]\tvalidation_0-auc:0.986031\tvalidation_1-auc:0.975367\n",
      "[46]\tvalidation_0-auc:0.986153\tvalidation_1-auc:0.975594\n",
      "[47]\tvalidation_0-auc:0.986228\tvalidation_1-auc:0.975479\n",
      "[48]\tvalidation_0-auc:0.986319\tvalidation_1-auc:0.975494\n",
      "[49]\tvalidation_0-auc:0.986316\tvalidation_1-auc:0.975551\n",
      "[50]\tvalidation_0-auc:0.986327\tvalidation_1-auc:0.975411\n",
      "[51]\tvalidation_0-auc:0.986371\tvalidation_1-auc:0.975293\n",
      "[52]\tvalidation_0-auc:0.986441\tvalidation_1-auc:0.975174\n",
      "[53]\tvalidation_0-auc:0.986528\tvalidation_1-auc:0.975153\n",
      "[54]\tvalidation_0-auc:0.986614\tvalidation_1-auc:0.97532\n",
      "[55]\tvalidation_0-auc:0.986668\tvalidation_1-auc:0.975187\n",
      "[56]\tvalidation_0-auc:0.986669\tvalidation_1-auc:0.975264\n",
      "[57]\tvalidation_0-auc:0.986717\tvalidation_1-auc:0.975078\n",
      "[58]\tvalidation_0-auc:0.986777\tvalidation_1-auc:0.975196\n",
      "[59]\tvalidation_0-auc:0.986911\tvalidation_1-auc:0.975419\n",
      "[60]\tvalidation_0-auc:0.986919\tvalidation_1-auc:0.975469\n",
      "[61]\tvalidation_0-auc:0.986986\tvalidation_1-auc:0.975463\n",
      "[62]\tvalidation_0-auc:0.987024\tvalidation_1-auc:0.975467\n",
      "[63]\tvalidation_0-auc:0.987144\tvalidation_1-auc:0.975647\n",
      "[64]\tvalidation_0-auc:0.987251\tvalidation_1-auc:0.975819\n",
      "[65]\tvalidation_0-auc:0.987358\tvalidation_1-auc:0.976015\n",
      "[66]\tvalidation_0-auc:0.987449\tvalidation_1-auc:0.976151\n",
      "[67]\tvalidation_0-auc:0.987557\tvalidation_1-auc:0.976303\n",
      "[68]\tvalidation_0-auc:0.98764\tvalidation_1-auc:0.976444\n",
      "[69]\tvalidation_0-auc:0.987681\tvalidation_1-auc:0.976376\n",
      "[70]\tvalidation_0-auc:0.987699\tvalidation_1-auc:0.976318\n",
      "[71]\tvalidation_0-auc:0.987786\tvalidation_1-auc:0.976449\n",
      "[72]\tvalidation_0-auc:0.987856\tvalidation_1-auc:0.976557\n",
      "[73]\tvalidation_0-auc:0.987867\tvalidation_1-auc:0.976588\n",
      "[74]\tvalidation_0-auc:0.987913\tvalidation_1-auc:0.97664\n",
      "[75]\tvalidation_0-auc:0.987952\tvalidation_1-auc:0.976596\n",
      "[76]\tvalidation_0-auc:0.988016\tvalidation_1-auc:0.976709\n",
      "[77]\tvalidation_0-auc:0.988095\tvalidation_1-auc:0.976827\n",
      "[78]\tvalidation_0-auc:0.988106\tvalidation_1-auc:0.976859\n",
      "[79]\tvalidation_0-auc:0.988182\tvalidation_1-auc:0.976954\n",
      "[80]\tvalidation_0-auc:0.988249\tvalidation_1-auc:0.977064\n",
      "[81]\tvalidation_0-auc:0.988286\tvalidation_1-auc:0.977029\n",
      "[82]\tvalidation_0-auc:0.988353\tvalidation_1-auc:0.97711\n",
      "[83]\tvalidation_0-auc:0.988419\tvalidation_1-auc:0.977202\n",
      "[84]\tvalidation_0-auc:0.988466\tvalidation_1-auc:0.977158\n",
      "[85]\tvalidation_0-auc:0.988521\tvalidation_1-auc:0.97713\n",
      "[86]\tvalidation_0-auc:0.988575\tvalidation_1-auc:0.97722\n",
      "[87]\tvalidation_0-auc:0.988641\tvalidation_1-auc:0.977285\n",
      "[88]\tvalidation_0-auc:0.988671\tvalidation_1-auc:0.977275\n",
      "[89]\tvalidation_0-auc:0.988728\tvalidation_1-auc:0.977329\n",
      "[90]\tvalidation_0-auc:0.988783\tvalidation_1-auc:0.977407\n",
      "[91]\tvalidation_0-auc:0.988833\tvalidation_1-auc:0.977473\n",
      "[92]\tvalidation_0-auc:0.988888\tvalidation_1-auc:0.977543\n",
      "[93]\tvalidation_0-auc:0.988932\tvalidation_1-auc:0.977516\n",
      "[94]\tvalidation_0-auc:0.988993\tvalidation_1-auc:0.977575\n",
      "[95]\tvalidation_0-auc:0.989042\tvalidation_1-auc:0.977636\n",
      "[96]\tvalidation_0-auc:0.989071\tvalidation_1-auc:0.977642\n",
      "[97]\tvalidation_0-auc:0.989124\tvalidation_1-auc:0.977641\n",
      "[98]\tvalidation_0-auc:0.989165\tvalidation_1-auc:0.977625\n",
      "[99]\tvalidation_0-auc:0.989209\tvalidation_1-auc:0.977669\n",
      "[100]\tvalidation_0-auc:0.989265\tvalidation_1-auc:0.977728\n",
      "[101]\tvalidation_0-auc:0.989311\tvalidation_1-auc:0.977777\n",
      "[102]\tvalidation_0-auc:0.989355\tvalidation_1-auc:0.977833\n",
      "[103]\tvalidation_0-auc:0.989415\tvalidation_1-auc:0.977821\n",
      "[104]\tvalidation_0-auc:0.989469\tvalidation_1-auc:0.977865\n",
      "[105]\tvalidation_0-auc:0.989516\tvalidation_1-auc:0.977905\n",
      "[106]\tvalidation_0-auc:0.989571\tvalidation_1-auc:0.977898\n",
      "[107]\tvalidation_0-auc:0.989609\tvalidation_1-auc:0.977886\n",
      "[108]\tvalidation_0-auc:0.98966\tvalidation_1-auc:0.977879\n",
      "[109]\tvalidation_0-auc:0.98971\tvalidation_1-auc:0.977887\n",
      "[110]\tvalidation_0-auc:0.989757\tvalidation_1-auc:0.977926\n",
      "[111]\tvalidation_0-auc:0.989787\tvalidation_1-auc:0.977923\n",
      "[112]\tvalidation_0-auc:0.989827\tvalidation_1-auc:0.977967\n",
      "[113]\tvalidation_0-auc:0.989866\tvalidation_1-auc:0.978018\n",
      "[114]\tvalidation_0-auc:0.989915\tvalidation_1-auc:0.978038\n",
      "[115]\tvalidation_0-auc:0.989963\tvalidation_1-auc:0.978047\n",
      "[116]\tvalidation_0-auc:0.990001\tvalidation_1-auc:0.978033\n",
      "[117]\tvalidation_0-auc:0.990027\tvalidation_1-auc:0.978048\n",
      "[118]\tvalidation_0-auc:0.990077\tvalidation_1-auc:0.978042\n",
      "[119]\tvalidation_0-auc:0.990105\tvalidation_1-auc:0.978076\n",
      "[120]\tvalidation_0-auc:0.990146\tvalidation_1-auc:0.978096\n",
      "[121]\tvalidation_0-auc:0.990178\tvalidation_1-auc:0.978098\n",
      "[122]\tvalidation_0-auc:0.99022\tvalidation_1-auc:0.978088\n",
      "[123]\tvalidation_0-auc:0.990261\tvalidation_1-auc:0.978124\n",
      "[124]\tvalidation_0-auc:0.990296\tvalidation_1-auc:0.978112\n",
      "[125]\tvalidation_0-auc:0.990329\tvalidation_1-auc:0.978142\n",
      "[126]\tvalidation_0-auc:0.990357\tvalidation_1-auc:0.978173\n",
      "[127]\tvalidation_0-auc:0.990375\tvalidation_1-auc:0.978187\n",
      "[128]\tvalidation_0-auc:0.990402\tvalidation_1-auc:0.978184\n",
      "[129]\tvalidation_0-auc:0.990432\tvalidation_1-auc:0.978185\n",
      "[130]\tvalidation_0-auc:0.990456\tvalidation_1-auc:0.97819\n",
      "[131]\tvalidation_0-auc:0.990492\tvalidation_1-auc:0.978215\n",
      "[132]\tvalidation_0-auc:0.990522\tvalidation_1-auc:0.978219\n",
      "[133]\tvalidation_0-auc:0.990558\tvalidation_1-auc:0.978213\n",
      "[134]\tvalidation_0-auc:0.990597\tvalidation_1-auc:0.978212\n",
      "[135]\tvalidation_0-auc:0.990631\tvalidation_1-auc:0.978212\n",
      "[136]\tvalidation_0-auc:0.990664\tvalidation_1-auc:0.978195\n",
      "[137]\tvalidation_0-auc:0.990702\tvalidation_1-auc:0.978213\n",
      "[138]\tvalidation_0-auc:0.990732\tvalidation_1-auc:0.978237\n",
      "[139]\tvalidation_0-auc:0.990771\tvalidation_1-auc:0.97827\n",
      "[140]\tvalidation_0-auc:0.990805\tvalidation_1-auc:0.978291\n"
     ]
    },
    {
     "name": "stdout",
     "output_type": "stream",
     "text": [
      "[141]\tvalidation_0-auc:0.990847\tvalidation_1-auc:0.978325\n",
      "[142]\tvalidation_0-auc:0.990875\tvalidation_1-auc:0.978358\n",
      "[143]\tvalidation_0-auc:0.990905\tvalidation_1-auc:0.978387\n",
      "[144]\tvalidation_0-auc:0.990938\tvalidation_1-auc:0.978396\n",
      "[145]\tvalidation_0-auc:0.990961\tvalidation_1-auc:0.978417\n",
      "[146]\tvalidation_0-auc:0.99099\tvalidation_1-auc:0.978428\n",
      "[147]\tvalidation_0-auc:0.991019\tvalidation_1-auc:0.978468\n",
      "[148]\tvalidation_0-auc:0.991043\tvalidation_1-auc:0.978487\n",
      "[149]\tvalidation_0-auc:0.991068\tvalidation_1-auc:0.9785\n",
      "[150]\tvalidation_0-auc:0.991092\tvalidation_1-auc:0.978514\n",
      "[151]\tvalidation_0-auc:0.991126\tvalidation_1-auc:0.978539\n",
      "[152]\tvalidation_0-auc:0.991155\tvalidation_1-auc:0.978563\n",
      "[153]\tvalidation_0-auc:0.991177\tvalidation_1-auc:0.978584\n",
      "[154]\tvalidation_0-auc:0.991206\tvalidation_1-auc:0.978583\n",
      "[155]\tvalidation_0-auc:0.991235\tvalidation_1-auc:0.978581\n",
      "[156]\tvalidation_0-auc:0.991262\tvalidation_1-auc:0.978595\n",
      "[157]\tvalidation_0-auc:0.991288\tvalidation_1-auc:0.978617\n",
      "[158]\tvalidation_0-auc:0.991319\tvalidation_1-auc:0.978623\n",
      "[159]\tvalidation_0-auc:0.991346\tvalidation_1-auc:0.978626\n",
      "[160]\tvalidation_0-auc:0.991381\tvalidation_1-auc:0.978639\n",
      "[161]\tvalidation_0-auc:0.991407\tvalidation_1-auc:0.978651\n",
      "[162]\tvalidation_0-auc:0.991426\tvalidation_1-auc:0.978667\n",
      "[163]\tvalidation_0-auc:0.991443\tvalidation_1-auc:0.978677\n",
      "[164]\tvalidation_0-auc:0.991469\tvalidation_1-auc:0.97869\n",
      "[165]\tvalidation_0-auc:0.991514\tvalidation_1-auc:0.978709\n",
      "[166]\tvalidation_0-auc:0.991544\tvalidation_1-auc:0.978717\n",
      "[167]\tvalidation_0-auc:0.991565\tvalidation_1-auc:0.978724\n",
      "[168]\tvalidation_0-auc:0.99159\tvalidation_1-auc:0.978728\n",
      "[169]\tvalidation_0-auc:0.991611\tvalidation_1-auc:0.978733\n",
      "[170]\tvalidation_0-auc:0.991633\tvalidation_1-auc:0.978731\n",
      "[171]\tvalidation_0-auc:0.991659\tvalidation_1-auc:0.978732\n",
      "[172]\tvalidation_0-auc:0.991678\tvalidation_1-auc:0.978751\n",
      "[173]\tvalidation_0-auc:0.991699\tvalidation_1-auc:0.978759\n",
      "[174]\tvalidation_0-auc:0.991722\tvalidation_1-auc:0.978761\n",
      "[175]\tvalidation_0-auc:0.991743\tvalidation_1-auc:0.978767\n",
      "[176]\tvalidation_0-auc:0.991767\tvalidation_1-auc:0.978772\n",
      "[177]\tvalidation_0-auc:0.991783\tvalidation_1-auc:0.978773\n",
      "[178]\tvalidation_0-auc:0.991806\tvalidation_1-auc:0.978768\n",
      "[179]\tvalidation_0-auc:0.991822\tvalidation_1-auc:0.978793\n",
      "[180]\tvalidation_0-auc:0.991852\tvalidation_1-auc:0.978819\n",
      "[181]\tvalidation_0-auc:0.991881\tvalidation_1-auc:0.978821\n",
      "[182]\tvalidation_0-auc:0.991902\tvalidation_1-auc:0.978824\n",
      "[183]\tvalidation_0-auc:0.991923\tvalidation_1-auc:0.978829\n",
      "[184]\tvalidation_0-auc:0.991944\tvalidation_1-auc:0.978816\n",
      "[185]\tvalidation_0-auc:0.991975\tvalidation_1-auc:0.978816\n",
      "[186]\tvalidation_0-auc:0.991995\tvalidation_1-auc:0.978815\n",
      "[187]\tvalidation_0-auc:0.992016\tvalidation_1-auc:0.978826\n",
      "[188]\tvalidation_0-auc:0.992039\tvalidation_1-auc:0.978827\n",
      "[189]\tvalidation_0-auc:0.992064\tvalidation_1-auc:0.978834\n",
      "[190]\tvalidation_0-auc:0.992082\tvalidation_1-auc:0.978837\n",
      "[191]\tvalidation_0-auc:0.9921\tvalidation_1-auc:0.978844\n",
      "[192]\tvalidation_0-auc:0.992135\tvalidation_1-auc:0.978842\n",
      "[193]\tvalidation_0-auc:0.992152\tvalidation_1-auc:0.978849\n",
      "[194]\tvalidation_0-auc:0.99218\tvalidation_1-auc:0.978854\n",
      "[195]\tvalidation_0-auc:0.992209\tvalidation_1-auc:0.978858\n",
      "[196]\tvalidation_0-auc:0.992229\tvalidation_1-auc:0.978868\n",
      "[197]\tvalidation_0-auc:0.992242\tvalidation_1-auc:0.978877\n",
      "[198]\tvalidation_0-auc:0.992266\tvalidation_1-auc:0.978874\n",
      "[199]\tvalidation_0-auc:0.992282\tvalidation_1-auc:0.97888\n",
      "[200]\tvalidation_0-auc:0.992296\tvalidation_1-auc:0.978893\n",
      "[201]\tvalidation_0-auc:0.99231\tvalidation_1-auc:0.978893\n",
      "[202]\tvalidation_0-auc:0.992335\tvalidation_1-auc:0.978883\n",
      "[203]\tvalidation_0-auc:0.992351\tvalidation_1-auc:0.978882\n",
      "[204]\tvalidation_0-auc:0.992375\tvalidation_1-auc:0.978873\n",
      "[205]\tvalidation_0-auc:0.992393\tvalidation_1-auc:0.978875\n",
      "[206]\tvalidation_0-auc:0.992407\tvalidation_1-auc:0.978885\n",
      "[207]\tvalidation_0-auc:0.992426\tvalidation_1-auc:0.978886\n",
      "[208]\tvalidation_0-auc:0.992442\tvalidation_1-auc:0.978882\n",
      "[209]\tvalidation_0-auc:0.992466\tvalidation_1-auc:0.978875\n",
      "[210]\tvalidation_0-auc:0.992487\tvalidation_1-auc:0.978882\n",
      "[211]\tvalidation_0-auc:0.992498\tvalidation_1-auc:0.978893\n",
      "[212]\tvalidation_0-auc:0.992509\tvalidation_1-auc:0.978895\n",
      "[213]\tvalidation_0-auc:0.992527\tvalidation_1-auc:0.978901\n",
      "[214]\tvalidation_0-auc:0.992547\tvalidation_1-auc:0.978908\n",
      "[215]\tvalidation_0-auc:0.992556\tvalidation_1-auc:0.978898\n",
      "[216]\tvalidation_0-auc:0.99259\tvalidation_1-auc:0.978898\n",
      "[217]\tvalidation_0-auc:0.992613\tvalidation_1-auc:0.978901\n",
      "[218]\tvalidation_0-auc:0.992625\tvalidation_1-auc:0.978905\n",
      "[219]\tvalidation_0-auc:0.992642\tvalidation_1-auc:0.97891\n",
      "[220]\tvalidation_0-auc:0.99267\tvalidation_1-auc:0.978919\n",
      "[221]\tvalidation_0-auc:0.992684\tvalidation_1-auc:0.978932\n",
      "[222]\tvalidation_0-auc:0.992701\tvalidation_1-auc:0.97893\n",
      "[223]\tvalidation_0-auc:0.992717\tvalidation_1-auc:0.978929\n",
      "[224]\tvalidation_0-auc:0.992755\tvalidation_1-auc:0.978942\n",
      "[225]\tvalidation_0-auc:0.992776\tvalidation_1-auc:0.978946\n",
      "[226]\tvalidation_0-auc:0.992799\tvalidation_1-auc:0.978947\n",
      "[227]\tvalidation_0-auc:0.992813\tvalidation_1-auc:0.978955\n",
      "[228]\tvalidation_0-auc:0.992826\tvalidation_1-auc:0.978958\n",
      "[229]\tvalidation_0-auc:0.992847\tvalidation_1-auc:0.978945\n",
      "[230]\tvalidation_0-auc:0.992863\tvalidation_1-auc:0.978938\n",
      "[231]\tvalidation_0-auc:0.992878\tvalidation_1-auc:0.978937\n",
      "[232]\tvalidation_0-auc:0.992889\tvalidation_1-auc:0.978939\n",
      "[233]\tvalidation_0-auc:0.992896\tvalidation_1-auc:0.978946\n",
      "[234]\tvalidation_0-auc:0.992908\tvalidation_1-auc:0.978941\n",
      "[235]\tvalidation_0-auc:0.992939\tvalidation_1-auc:0.978951\n",
      "[236]\tvalidation_0-auc:0.992954\tvalidation_1-auc:0.978953\n",
      "[237]\tvalidation_0-auc:0.992969\tvalidation_1-auc:0.978944\n",
      "[238]\tvalidation_0-auc:0.992998\tvalidation_1-auc:0.978946\n",
      "[239]\tvalidation_0-auc:0.993015\tvalidation_1-auc:0.978948\n",
      "[240]\tvalidation_0-auc:0.993028\tvalidation_1-auc:0.97895\n",
      "[241]\tvalidation_0-auc:0.993044\tvalidation_1-auc:0.978944\n",
      "[242]\tvalidation_0-auc:0.993071\tvalidation_1-auc:0.978944\n",
      "[243]\tvalidation_0-auc:0.99311\tvalidation_1-auc:0.978951\n",
      "[244]\tvalidation_0-auc:0.993118\tvalidation_1-auc:0.97895\n",
      "[245]\tvalidation_0-auc:0.993139\tvalidation_1-auc:0.978953\n",
      "[246]\tvalidation_0-auc:0.99317\tvalidation_1-auc:0.978947\n",
      "[247]\tvalidation_0-auc:0.993174\tvalidation_1-auc:0.978942\n",
      "[248]\tvalidation_0-auc:0.993182\tvalidation_1-auc:0.978945\n",
      "[249]\tvalidation_0-auc:0.993192\tvalidation_1-auc:0.978946\n",
      "[250]\tvalidation_0-auc:0.993229\tvalidation_1-auc:0.978946\n",
      "[251]\tvalidation_0-auc:0.993236\tvalidation_1-auc:0.978943\n",
      "[252]\tvalidation_0-auc:0.993261\tvalidation_1-auc:0.978938\n",
      "[253]\tvalidation_0-auc:0.993274\tvalidation_1-auc:0.978935\n",
      "[254]\tvalidation_0-auc:0.993305\tvalidation_1-auc:0.978931\n",
      "[255]\tvalidation_0-auc:0.993323\tvalidation_1-auc:0.978927\n",
      "[256]\tvalidation_0-auc:0.993336\tvalidation_1-auc:0.97893\n",
      "[257]\tvalidation_0-auc:0.993357\tvalidation_1-auc:0.978926\n",
      "[258]\tvalidation_0-auc:0.993401\tvalidation_1-auc:0.978925\n",
      "[259]\tvalidation_0-auc:0.993423\tvalidation_1-auc:0.978926\n",
      "[260]\tvalidation_0-auc:0.99343\tvalidation_1-auc:0.978928\n",
      "[261]\tvalidation_0-auc:0.993457\tvalidation_1-auc:0.978923\n",
      "[262]\tvalidation_0-auc:0.993479\tvalidation_1-auc:0.978924\n",
      "[263]\tvalidation_0-auc:0.993494\tvalidation_1-auc:0.978917\n",
      "[264]\tvalidation_0-auc:0.993505\tvalidation_1-auc:0.978914\n",
      "[265]\tvalidation_0-auc:0.993552\tvalidation_1-auc:0.978913\n",
      "[266]\tvalidation_0-auc:0.993561\tvalidation_1-auc:0.978909\n",
      "[267]\tvalidation_0-auc:0.993582\tvalidation_1-auc:0.978911\n",
      "[268]\tvalidation_0-auc:0.993607\tvalidation_1-auc:0.978909\n",
      "[269]\tvalidation_0-auc:0.993632\tvalidation_1-auc:0.978904\n",
      "[270]\tvalidation_0-auc:0.993651\tvalidation_1-auc:0.9789\n",
      "[271]\tvalidation_0-auc:0.993658\tvalidation_1-auc:0.978903\n",
      "[272]\tvalidation_0-auc:0.99368\tvalidation_1-auc:0.978907\n",
      "[273]\tvalidation_0-auc:0.99369\tvalidation_1-auc:0.978912\n",
      "[274]\tvalidation_0-auc:0.993702\tvalidation_1-auc:0.978905\n",
      "[275]\tvalidation_0-auc:0.993721\tvalidation_1-auc:0.978903\n",
      "[276]\tvalidation_0-auc:0.993741\tvalidation_1-auc:0.978899\n",
      "[277]\tvalidation_0-auc:0.993755\tvalidation_1-auc:0.978904\n",
      "[278]\tvalidation_0-auc:0.993761\tvalidation_1-auc:0.9789\n",
      "[279]\tvalidation_0-auc:0.993796\tvalidation_1-auc:0.978889\n",
      "[280]\tvalidation_0-auc:0.993803\tvalidation_1-auc:0.978894\n",
      "[281]\tvalidation_0-auc:0.993822\tvalidation_1-auc:0.978896\n",
      "[282]\tvalidation_0-auc:0.993843\tvalidation_1-auc:0.978895\n"
     ]
    },
    {
     "name": "stdout",
     "output_type": "stream",
     "text": [
      "[283]\tvalidation_0-auc:0.993872\tvalidation_1-auc:0.978893\n",
      "[284]\tvalidation_0-auc:0.993878\tvalidation_1-auc:0.97889\n",
      "[285]\tvalidation_0-auc:0.993925\tvalidation_1-auc:0.978883\n",
      "[286]\tvalidation_0-auc:0.993939\tvalidation_1-auc:0.97889\n",
      "[287]\tvalidation_0-auc:0.993961\tvalidation_1-auc:0.978893\n",
      "[288]\tvalidation_0-auc:0.993972\tvalidation_1-auc:0.978886\n",
      "[289]\tvalidation_0-auc:0.994026\tvalidation_1-auc:0.978894\n",
      "[290]\tvalidation_0-auc:0.994057\tvalidation_1-auc:0.978892\n",
      "[291]\tvalidation_0-auc:0.994069\tvalidation_1-auc:0.978893\n",
      "[292]\tvalidation_0-auc:0.994084\tvalidation_1-auc:0.978887\n",
      "[293]\tvalidation_0-auc:0.994091\tvalidation_1-auc:0.97889\n",
      "[294]\tvalidation_0-auc:0.994095\tvalidation_1-auc:0.97889\n",
      "[295]\tvalidation_0-auc:0.994099\tvalidation_1-auc:0.978888\n",
      "[296]\tvalidation_0-auc:0.994117\tvalidation_1-auc:0.978889\n",
      "[297]\tvalidation_0-auc:0.994147\tvalidation_1-auc:0.978891\n",
      "[298]\tvalidation_0-auc:0.994151\tvalidation_1-auc:0.978893\n",
      "[299]\tvalidation_0-auc:0.994159\tvalidation_1-auc:0.97889\n",
      "[300]\tvalidation_0-auc:0.99418\tvalidation_1-auc:0.978883\n",
      "[301]\tvalidation_0-auc:0.994198\tvalidation_1-auc:0.97889\n",
      "[302]\tvalidation_0-auc:0.994203\tvalidation_1-auc:0.978891\n",
      "[303]\tvalidation_0-auc:0.994223\tvalidation_1-auc:0.978893\n",
      "[304]\tvalidation_0-auc:0.994228\tvalidation_1-auc:0.978894\n",
      "[305]\tvalidation_0-auc:0.994253\tvalidation_1-auc:0.978891\n",
      "[306]\tvalidation_0-auc:0.994263\tvalidation_1-auc:0.978888\n",
      "[307]\tvalidation_0-auc:0.994265\tvalidation_1-auc:0.978886\n",
      "[308]\tvalidation_0-auc:0.994266\tvalidation_1-auc:0.978884\n",
      "[309]\tvalidation_0-auc:0.994296\tvalidation_1-auc:0.978886\n",
      "[310]\tvalidation_0-auc:0.994313\tvalidation_1-auc:0.978883\n",
      "[311]\tvalidation_0-auc:0.994334\tvalidation_1-auc:0.978878\n",
      "[312]\tvalidation_0-auc:0.994354\tvalidation_1-auc:0.978881\n",
      "[313]\tvalidation_0-auc:0.994359\tvalidation_1-auc:0.978877\n",
      "[314]\tvalidation_0-auc:0.994375\tvalidation_1-auc:0.978875\n",
      "[315]\tvalidation_0-auc:0.99439\tvalidation_1-auc:0.978874\n",
      "[316]\tvalidation_0-auc:0.994399\tvalidation_1-auc:0.978879\n",
      "[317]\tvalidation_0-auc:0.994401\tvalidation_1-auc:0.978878\n",
      "[318]\tvalidation_0-auc:0.994407\tvalidation_1-auc:0.978877\n",
      "[319]\tvalidation_0-auc:0.99442\tvalidation_1-auc:0.978879\n",
      "[320]\tvalidation_0-auc:0.994443\tvalidation_1-auc:0.978875\n",
      "[321]\tvalidation_0-auc:0.994458\tvalidation_1-auc:0.978871\n",
      "[322]\tvalidation_0-auc:0.994459\tvalidation_1-auc:0.97887\n",
      "[323]\tvalidation_0-auc:0.994487\tvalidation_1-auc:0.978867\n",
      "[324]\tvalidation_0-auc:0.994513\tvalidation_1-auc:0.978864\n",
      "[325]\tvalidation_0-auc:0.99452\tvalidation_1-auc:0.978867\n",
      "[326]\tvalidation_0-auc:0.994535\tvalidation_1-auc:0.978859\n",
      "[327]\tvalidation_0-auc:0.994575\tvalidation_1-auc:0.978854\n",
      "[328]\tvalidation_0-auc:0.994593\tvalidation_1-auc:0.978856\n",
      "Stopping. Best iteration:\n",
      "[228]\tvalidation_0-auc:0.992826\tvalidation_1-auc:0.978958\n",
      "\n"
     ]
    },
    {
     "data": {
      "text/plain": [
       "XGBClassifier(base_score=0.5, booster='gbtree', colsample_bylevel=1,\n",
       "       colsample_bytree=0.8, gamma=0, learning_rate=0.03, max_delta_step=0,\n",
       "       max_depth=10, min_child_weight=1, missing=None, n_estimators=20000,\n",
       "       n_jobs=-1, nthread=None, objective='binary:logistic',\n",
       "       random_state=0, reg_alpha=0, reg_lambda=1, scale_pos_weight=1,\n",
       "       seed=420, silent=True, subsample=0.8)"
      ]
     },
     "execution_count": 28,
     "metadata": {},
     "output_type": "execute_result"
    }
   ],
   "source": [
    "models.fit(train_x, train_y, eval_metric='auc', early_stopping_rounds=100,\n",
    "           eval_set=[(train_x, train_y), (test_x, test_y)])\n"
   ]
  },
  {
   "cell_type": "code",
   "execution_count": 29,
   "metadata": {
    "scrolled": true
   },
   "outputs": [
    {
     "data": {
      "text/plain": [
       "[('y_entry', 0.42705464),\n",
       " ('entry_hour', 0.18417747),\n",
       " ('x_entry', 0.17137577),\n",
       " ('duration', 0.12009449),\n",
       " ('entry_minute', 0.026905913),\n",
       " ('exit_minute', 0.02566024),\n",
       " ('exit_second', 0.021583492),\n",
       " ('entry_second', 0.020886194),\n",
       " ('exit_hour', 0.0022618838)]"
      ]
     },
     "execution_count": 29,
     "metadata": {},
     "output_type": "execute_result"
    }
   ],
   "source": [
    "sorted(zip(train_x.columns.values, models.feature_importances_), key=lambda x: x[1], reverse=True)"
   ]
  },
  {
   "cell_type": "code",
   "execution_count": 30,
   "metadata": {},
   "outputs": [
    {
     "name": "stderr",
     "output_type": "stream",
     "text": [
      "/home/ubuntu/anaconda3/envs/tensorflow_p36/lib/python3.6/site-packages/sklearn/preprocessing/label.py:151: DeprecationWarning: The truth value of an empty array is ambiguous. Returning False, but in future this will result in an error. Use `array.size > 0` to check that an array is not empty.\n",
      "  if diff:\n"
     ]
    }
   ],
   "source": [
    "pred_y = models.predict(test_x)"
   ]
  },
  {
   "cell_type": "code",
   "execution_count": 31,
   "metadata": {},
   "outputs": [
    {
     "data": {
      "text/plain": [
       "0.9360384887927498"
      ]
     },
     "execution_count": 31,
     "metadata": {},
     "output_type": "execute_result"
    }
   ],
   "source": [
    "(pred_y==test_y).sum()/test_y.count()"
   ]
  },
  {
   "cell_type": "code",
   "execution_count": 32,
   "metadata": {},
   "outputs": [],
   "source": [
    "models2 = xgb.XGBClassifier(max_depth=10, learning_rate=0.03, n_estimators=228, n_jobs=-1,\n",
    "                           subsample=0.8, colsample_bytree=0.8, seed=420)"
   ]
  },
  {
   "cell_type": "code",
   "execution_count": 33,
   "metadata": {
    "scrolled": true
   },
   "outputs": [
    {
     "name": "stdout",
     "output_type": "stream",
     "text": [
      "[0]\tvalidation_0-auc:0.830886\n",
      "[1]\tvalidation_0-auc:0.95395\n",
      "[2]\tvalidation_0-auc:0.96865\n",
      "[3]\tvalidation_0-auc:0.962983\n",
      "[4]\tvalidation_0-auc:0.957715\n",
      "[5]\tvalidation_0-auc:0.966005\n",
      "[6]\tvalidation_0-auc:0.962969\n",
      "[7]\tvalidation_0-auc:0.968289\n",
      "[8]\tvalidation_0-auc:0.971821\n",
      "[9]\tvalidation_0-auc:0.974459\n",
      "[10]\tvalidation_0-auc:0.972739\n",
      "[11]\tvalidation_0-auc:0.974815\n",
      "[12]\tvalidation_0-auc:0.976323\n",
      "[13]\tvalidation_0-auc:0.97756\n",
      "[14]\tvalidation_0-auc:0.977959\n",
      "[15]\tvalidation_0-auc:0.976962\n",
      "[16]\tvalidation_0-auc:0.976022\n",
      "[17]\tvalidation_0-auc:0.977209\n",
      "[18]\tvalidation_0-auc:0.978276\n",
      "[19]\tvalidation_0-auc:0.97751\n",
      "[20]\tvalidation_0-auc:0.977965\n",
      "[21]\tvalidation_0-auc:0.978062\n",
      "[22]\tvalidation_0-auc:0.979016\n",
      "[23]\tvalidation_0-auc:0.979793\n",
      "[24]\tvalidation_0-auc:0.980425\n",
      "[25]\tvalidation_0-auc:0.981051\n",
      "[26]\tvalidation_0-auc:0.980573\n",
      "[27]\tvalidation_0-auc:0.981174\n",
      "[28]\tvalidation_0-auc:0.981362\n",
      "[29]\tvalidation_0-auc:0.981808\n",
      "[30]\tvalidation_0-auc:0.982255\n",
      "[31]\tvalidation_0-auc:0.98267\n",
      "[32]\tvalidation_0-auc:0.983066\n",
      "[33]\tvalidation_0-auc:0.982835\n",
      "[34]\tvalidation_0-auc:0.983209\n",
      "[35]\tvalidation_0-auc:0.983394\n",
      "[36]\tvalidation_0-auc:0.983207\n",
      "[37]\tvalidation_0-auc:0.983523\n",
      "[38]\tvalidation_0-auc:0.983833\n",
      "[39]\tvalidation_0-auc:0.983879\n",
      "[40]\tvalidation_0-auc:0.984181\n",
      "[41]\tvalidation_0-auc:0.984239\n",
      "[42]\tvalidation_0-auc:0.984431\n",
      "[43]\tvalidation_0-auc:0.984609\n",
      "[44]\tvalidation_0-auc:0.984781\n",
      "[45]\tvalidation_0-auc:0.984793\n",
      "[46]\tvalidation_0-auc:0.984967\n",
      "[47]\tvalidation_0-auc:0.985119\n",
      "[48]\tvalidation_0-auc:0.985165\n",
      "[49]\tvalidation_0-auc:0.985158\n",
      "[50]\tvalidation_0-auc:0.985321\n",
      "[51]\tvalidation_0-auc:0.985309\n",
      "[52]\tvalidation_0-auc:0.985471\n",
      "[53]\tvalidation_0-auc:0.985493\n",
      "[54]\tvalidation_0-auc:0.985569\n",
      "[55]\tvalidation_0-auc:0.985717\n",
      "[56]\tvalidation_0-auc:0.985837\n",
      "[57]\tvalidation_0-auc:0.985932\n",
      "[58]\tvalidation_0-auc:0.985937\n",
      "[59]\tvalidation_0-auc:0.986072\n",
      "[60]\tvalidation_0-auc:0.986172\n",
      "[61]\tvalidation_0-auc:0.986268\n",
      "[62]\tvalidation_0-auc:0.986284\n",
      "[63]\tvalidation_0-auc:0.986368\n",
      "[64]\tvalidation_0-auc:0.986413\n",
      "[65]\tvalidation_0-auc:0.986503\n",
      "[66]\tvalidation_0-auc:0.98658\n",
      "[67]\tvalidation_0-auc:0.986685\n",
      "[68]\tvalidation_0-auc:0.986743\n",
      "[69]\tvalidation_0-auc:0.986818\n",
      "[70]\tvalidation_0-auc:0.986881\n",
      "[71]\tvalidation_0-auc:0.986971\n",
      "[72]\tvalidation_0-auc:0.987039\n",
      "[73]\tvalidation_0-auc:0.987105\n",
      "[74]\tvalidation_0-auc:0.987153\n",
      "[75]\tvalidation_0-auc:0.987189\n",
      "[76]\tvalidation_0-auc:0.98722\n",
      "[77]\tvalidation_0-auc:0.987284\n",
      "[78]\tvalidation_0-auc:0.987341\n",
      "[79]\tvalidation_0-auc:0.987404\n",
      "[80]\tvalidation_0-auc:0.987476\n",
      "[81]\tvalidation_0-auc:0.987549\n",
      "[82]\tvalidation_0-auc:0.987597\n",
      "[83]\tvalidation_0-auc:0.987612\n",
      "[84]\tvalidation_0-auc:0.987657\n",
      "[85]\tvalidation_0-auc:0.987695\n",
      "[86]\tvalidation_0-auc:0.987747\n",
      "[87]\tvalidation_0-auc:0.987807\n",
      "[88]\tvalidation_0-auc:0.987864\n",
      "[89]\tvalidation_0-auc:0.987917\n",
      "[90]\tvalidation_0-auc:0.987969\n",
      "[91]\tvalidation_0-auc:0.988018\n",
      "[92]\tvalidation_0-auc:0.988062\n",
      "[93]\tvalidation_0-auc:0.988109\n",
      "[94]\tvalidation_0-auc:0.988158\n",
      "[95]\tvalidation_0-auc:0.988205\n",
      "[96]\tvalidation_0-auc:0.988256\n",
      "[97]\tvalidation_0-auc:0.988309\n",
      "[98]\tvalidation_0-auc:0.988346\n",
      "[99]\tvalidation_0-auc:0.988401\n",
      "[100]\tvalidation_0-auc:0.988442\n",
      "[101]\tvalidation_0-auc:0.988449\n",
      "[102]\tvalidation_0-auc:0.988492\n",
      "[103]\tvalidation_0-auc:0.988533\n",
      "[104]\tvalidation_0-auc:0.988585\n",
      "[105]\tvalidation_0-auc:0.988632\n",
      "[106]\tvalidation_0-auc:0.988673\n",
      "[107]\tvalidation_0-auc:0.988705\n",
      "[108]\tvalidation_0-auc:0.988732\n",
      "[109]\tvalidation_0-auc:0.988765\n",
      "[110]\tvalidation_0-auc:0.988814\n",
      "[111]\tvalidation_0-auc:0.988856\n",
      "[112]\tvalidation_0-auc:0.988901\n",
      "[113]\tvalidation_0-auc:0.988957\n",
      "[114]\tvalidation_0-auc:0.988995\n",
      "[115]\tvalidation_0-auc:0.989029\n",
      "[116]\tvalidation_0-auc:0.989047\n",
      "[117]\tvalidation_0-auc:0.989085\n",
      "[118]\tvalidation_0-auc:0.989112\n",
      "[119]\tvalidation_0-auc:0.989145\n",
      "[120]\tvalidation_0-auc:0.989191\n",
      "[121]\tvalidation_0-auc:0.989229\n",
      "[122]\tvalidation_0-auc:0.98927\n",
      "[123]\tvalidation_0-auc:0.989315\n",
      "[124]\tvalidation_0-auc:0.989359\n",
      "[125]\tvalidation_0-auc:0.989389\n",
      "[126]\tvalidation_0-auc:0.989419\n",
      "[127]\tvalidation_0-auc:0.98946\n",
      "[128]\tvalidation_0-auc:0.989492\n",
      "[129]\tvalidation_0-auc:0.989517\n",
      "[130]\tvalidation_0-auc:0.989553\n",
      "[131]\tvalidation_0-auc:0.989599\n",
      "[132]\tvalidation_0-auc:0.989634\n",
      "[133]\tvalidation_0-auc:0.98966\n",
      "[134]\tvalidation_0-auc:0.989693\n",
      "[135]\tvalidation_0-auc:0.989738\n",
      "[136]\tvalidation_0-auc:0.989773\n",
      "[137]\tvalidation_0-auc:0.989808\n",
      "[138]\tvalidation_0-auc:0.989833\n",
      "[139]\tvalidation_0-auc:0.989864\n",
      "[140]\tvalidation_0-auc:0.989902\n",
      "[141]\tvalidation_0-auc:0.989926\n",
      "[142]\tvalidation_0-auc:0.989958\n",
      "[143]\tvalidation_0-auc:0.989982\n",
      "[144]\tvalidation_0-auc:0.990017\n",
      "[145]\tvalidation_0-auc:0.990041\n",
      "[146]\tvalidation_0-auc:0.990073\n",
      "[147]\tvalidation_0-auc:0.990101\n",
      "[148]\tvalidation_0-auc:0.990129\n",
      "[149]\tvalidation_0-auc:0.990156\n",
      "[150]\tvalidation_0-auc:0.990183\n",
      "[151]\tvalidation_0-auc:0.990217\n",
      "[152]\tvalidation_0-auc:0.990238\n",
      "[153]\tvalidation_0-auc:0.990263\n",
      "[154]\tvalidation_0-auc:0.990295\n",
      "[155]\tvalidation_0-auc:0.990316\n",
      "[156]\tvalidation_0-auc:0.990339\n",
      "[157]\tvalidation_0-auc:0.990357\n",
      "[158]\tvalidation_0-auc:0.990383\n",
      "[159]\tvalidation_0-auc:0.990416\n",
      "[160]\tvalidation_0-auc:0.990445\n",
      "[161]\tvalidation_0-auc:0.990473\n",
      "[162]\tvalidation_0-auc:0.990495\n",
      "[163]\tvalidation_0-auc:0.990516\n",
      "[164]\tvalidation_0-auc:0.990548\n",
      "[165]\tvalidation_0-auc:0.990588\n",
      "[166]\tvalidation_0-auc:0.99061\n",
      "[167]\tvalidation_0-auc:0.990625\n",
      "[168]\tvalidation_0-auc:0.990648\n",
      "[169]\tvalidation_0-auc:0.990672\n",
      "[170]\tvalidation_0-auc:0.990707\n",
      "[171]\tvalidation_0-auc:0.990725\n",
      "[172]\tvalidation_0-auc:0.990746\n",
      "[173]\tvalidation_0-auc:0.990776\n",
      "[174]\tvalidation_0-auc:0.990798\n",
      "[175]\tvalidation_0-auc:0.990823\n",
      "[176]\tvalidation_0-auc:0.990846\n",
      "[177]\tvalidation_0-auc:0.990864\n",
      "[178]\tvalidation_0-auc:0.990891\n",
      "[179]\tvalidation_0-auc:0.990914\n",
      "[180]\tvalidation_0-auc:0.990934\n",
      "[181]\tvalidation_0-auc:0.99096\n",
      "[182]\tvalidation_0-auc:0.990989\n",
      "[183]\tvalidation_0-auc:0.991002\n",
      "[184]\tvalidation_0-auc:0.991025\n",
      "[185]\tvalidation_0-auc:0.991047\n",
      "[186]\tvalidation_0-auc:0.991074\n",
      "[187]\tvalidation_0-auc:0.991086\n",
      "[188]\tvalidation_0-auc:0.991111\n",
      "[189]\tvalidation_0-auc:0.991152\n",
      "[190]\tvalidation_0-auc:0.991174\n",
      "[191]\tvalidation_0-auc:0.991194\n",
      "[192]\tvalidation_0-auc:0.991212\n",
      "[193]\tvalidation_0-auc:0.991237\n",
      "[194]\tvalidation_0-auc:0.991247\n",
      "[195]\tvalidation_0-auc:0.991275\n",
      "[196]\tvalidation_0-auc:0.991295\n",
      "[197]\tvalidation_0-auc:0.991321\n",
      "[198]\tvalidation_0-auc:0.991347\n",
      "[199]\tvalidation_0-auc:0.991372\n",
      "[200]\tvalidation_0-auc:0.991395\n",
      "[201]\tvalidation_0-auc:0.991419\n",
      "[202]\tvalidation_0-auc:0.991433\n",
      "[203]\tvalidation_0-auc:0.991444\n",
      "[204]\tvalidation_0-auc:0.991462\n",
      "[205]\tvalidation_0-auc:0.991476\n",
      "[206]\tvalidation_0-auc:0.991495\n",
      "[207]\tvalidation_0-auc:0.991516\n",
      "[208]\tvalidation_0-auc:0.991537\n",
      "[209]\tvalidation_0-auc:0.991552\n",
      "[210]\tvalidation_0-auc:0.991565\n",
      "[211]\tvalidation_0-auc:0.991589\n",
      "[212]\tvalidation_0-auc:0.991607\n",
      "[213]\tvalidation_0-auc:0.99162\n",
      "[214]\tvalidation_0-auc:0.991633\n",
      "[215]\tvalidation_0-auc:0.991648\n",
      "[216]\tvalidation_0-auc:0.99167\n",
      "[217]\tvalidation_0-auc:0.991687\n",
      "[218]\tvalidation_0-auc:0.991716\n",
      "[219]\tvalidation_0-auc:0.991736\n",
      "[220]\tvalidation_0-auc:0.99175\n",
      "[221]\tvalidation_0-auc:0.991771\n",
      "[222]\tvalidation_0-auc:0.991803\n",
      "[223]\tvalidation_0-auc:0.991828\n",
      "[224]\tvalidation_0-auc:0.991832\n",
      "[225]\tvalidation_0-auc:0.991855\n",
      "[226]\tvalidation_0-auc:0.991867\n",
      "[227]\tvalidation_0-auc:0.991884\n"
     ]
    },
    {
     "data": {
      "text/plain": [
       "XGBClassifier(base_score=0.5, booster='gbtree', colsample_bylevel=1,\n",
       "       colsample_bytree=0.8, gamma=0, learning_rate=0.03, max_delta_step=0,\n",
       "       max_depth=10, min_child_weight=1, missing=None, n_estimators=228,\n",
       "       n_jobs=-1, nthread=None, objective='binary:logistic',\n",
       "       random_state=0, reg_alpha=0, reg_lambda=1, scale_pos_weight=1,\n",
       "       seed=420, silent=True, subsample=0.8)"
      ]
     },
     "execution_count": 33,
     "metadata": {},
     "output_type": "execute_result"
    }
   ],
   "source": [
    "models2.fit(X, Y, eval_metric='auc', eval_set=[(X, Y)])\n"
   ]
  },
  {
   "cell_type": "markdown",
   "metadata": {},
   "source": [
    "# Make Prediction"
   ]
  },
  {
   "cell_type": "code",
   "execution_count": 36,
   "metadata": {},
   "outputs": [],
   "source": [
    "test = pd.read_csv(\"data_test.csv\")"
   ]
  },
  {
   "cell_type": "code",
   "execution_count": 37,
   "metadata": {},
   "outputs": [],
   "source": [
    "test['time_entry'] = pd.to_datetime(test['time_entry'], format='%H:%M:%S')\n",
    "test['time_exit']  = pd.to_datetime(test['time_exit'], format='%H:%M:%S')"
   ]
  },
  {
   "cell_type": "code",
   "execution_count": 38,
   "metadata": {},
   "outputs": [],
   "source": [
    "test['duration'] = (test['time_exit'] - test['time_entry']).dt.total_seconds().astype(int)"
   ]
  },
  {
   "cell_type": "code",
   "execution_count": 44,
   "metadata": {},
   "outputs": [],
   "source": [
    "test['entry_hour'] = test['time_entry'].dt.hour\n",
    "test['entry_minute'] = test['time_entry'].dt.minute\n",
    "test['entry_second'] = test['time_entry'].dt.second\n",
    "test['exit_hour'] = test['time_exit'].dt.hour\n",
    "test['exit_minute'] = test['time_exit'].dt.minute\n",
    "test['exit_second'] = test['time_exit'].dt.second"
   ]
  },
  {
   "cell_type": "code",
   "execution_count": 45,
   "metadata": {},
   "outputs": [],
   "source": [
    "test2 = test[test['time_exit'].dt.hour.between(15,16)]"
   ]
  },
  {
   "cell_type": "code",
   "execution_count": 40,
   "metadata": {},
   "outputs": [
    {
     "data": {
      "text/plain": [
       "Unnamed: 0       33515\n",
       "hash             33515\n",
       "trajectory_id    33515\n",
       "time_entry       33515\n",
       "time_exit        33515\n",
       "vmax                 0\n",
       "vmin                 0\n",
       "vmean                0\n",
       "x_entry          33515\n",
       "y_entry          33515\n",
       "x_exit               0\n",
       "y_exit               0\n",
       "duration         33515\n",
       "dtype: int64"
      ]
     },
     "execution_count": 40,
     "metadata": {},
     "output_type": "execute_result"
    }
   ],
   "source": [
    "test2.count()"
   ]
  },
  {
   "cell_type": "code",
   "execution_count": 128,
   "metadata": {},
   "outputs": [],
   "source": [
    "devices = test.groupby('hash')\n",
    "tname   = []\n",
    "tlength = []\n",
    "for name, group in devices:\n",
    "    tname.append(name)\n",
    "    tlength.append(group.shape[0])\n",
    "tname   = pd.Series(tname)\n",
    "tlength = pd.Series(tlength)"
   ]
  },
  {
   "cell_type": "code",
   "execution_count": 46,
   "metadata": {},
   "outputs": [],
   "source": [
    "tX = test2.drop(['Unnamed: 0', 'hash', 'trajectory_id', 'time_entry', 'time_exit', 'x_exit', 'y_exit'\n",
    "              ,'vmax', 'vmin', 'vmean'], axis=1)\n"
   ]
  },
  {
   "cell_type": "code",
   "execution_count": 47,
   "metadata": {},
   "outputs": [
    {
     "data": {
      "text/plain": [
       "((134063, 9), (33515, 9))"
      ]
     },
     "execution_count": 47,
     "metadata": {},
     "output_type": "execute_result"
    }
   ],
   "source": [
    "(X.shape, tX.shape)"
   ]
  },
  {
   "cell_type": "code",
   "execution_count": 48,
   "metadata": {},
   "outputs": [
    {
     "name": "stderr",
     "output_type": "stream",
     "text": [
      "/home/ubuntu/anaconda3/envs/tensorflow_p36/lib/python3.6/site-packages/sklearn/preprocessing/label.py:151: DeprecationWarning: The truth value of an empty array is ambiguous. Returning False, but in future this will result in an error. Use `array.size > 0` to check that an array is not empty.\n",
      "  if diff:\n"
     ]
    }
   ],
   "source": [
    "pred_y = models2.predict(tX)"
   ]
  },
  {
   "cell_type": "code",
   "execution_count": 49,
   "metadata": {},
   "outputs": [
    {
     "name": "stdout",
     "output_type": "stream",
     "text": [
      "8202 (33515,)\n"
     ]
    }
   ],
   "source": [
    "print(pred_y.sum(), pred_y.shape)"
   ]
  },
  {
   "cell_type": "code",
   "execution_count": 50,
   "metadata": {},
   "outputs": [],
   "source": [
    "output = pd.DataFrame({'id': test2['trajectory_id'], 'target': pred_y.astype(int)})\n",
    "output.to_csv('submission4.csv', index=False, columns=['id', 'target'])"
   ]
  },
  {
   "cell_type": "code",
   "execution_count": 52,
   "metadata": {
    "scrolled": true
   },
   "outputs": [
    {
     "data": {
      "text/plain": [
       "4        NaN\n",
       "7        NaN\n",
       "10       NaN\n",
       "13       NaN\n",
       "17       NaN\n",
       "23       NaN\n",
       "27       NaN\n",
       "31       NaN\n",
       "34       NaN\n",
       "39       NaN\n",
       "45       NaN\n",
       "56       NaN\n",
       "63       NaN\n",
       "66       NaN\n",
       "69       NaN\n",
       "72       NaN\n",
       "77       NaN\n",
       "79       NaN\n",
       "87       NaN\n",
       "94       NaN\n",
       "100      NaN\n",
       "103      NaN\n",
       "111      NaN\n",
       "116      NaN\n",
       "120      NaN\n",
       "131      NaN\n",
       "141      NaN\n",
       "144      NaN\n",
       "149      NaN\n",
       "152      NaN\n",
       "          ..\n",
       "202758   NaN\n",
       "202766   NaN\n",
       "202771   NaN\n",
       "202775   NaN\n",
       "202783   NaN\n",
       "202791   NaN\n",
       "202794   NaN\n",
       "202800   NaN\n",
       "202803   NaN\n",
       "202807   NaN\n",
       "202810   NaN\n",
       "202813   NaN\n",
       "202818   NaN\n",
       "202828   NaN\n",
       "202831   NaN\n",
       "202838   NaN\n",
       "202843   NaN\n",
       "202852   NaN\n",
       "202859   NaN\n",
       "202862   NaN\n",
       "202866   NaN\n",
       "202869   NaN\n",
       "202877   NaN\n",
       "202885   NaN\n",
       "202889   NaN\n",
       "202899   NaN\n",
       "202913   NaN\n",
       "202914   NaN\n",
       "202929   NaN\n",
       "202936   NaN\n",
       "Name: vmean, Length: 33515, dtype: float64"
      ]
     },
     "execution_count": 52,
     "metadata": {},
     "output_type": "execute_result"
    }
   ],
   "source": [
    "test2['vmean'].unique()"
   ]
  },
  {
   "cell_type": "code",
   "execution_count": null,
   "metadata": {},
   "outputs": [],
   "source": []
  }
 ],
 "metadata": {
  "kernelspec": {
   "display_name": "Python 3",
   "language": "python",
   "name": "python3"
  },
  "language_info": {
   "codemirror_mode": {
    "name": "ipython",
    "version": 3
   },
   "file_extension": ".py",
   "mimetype": "text/x-python",
   "name": "python",
   "nbconvert_exporter": "python",
   "pygments_lexer": "ipython3",
   "version": "3.6.5"
  }
 },
 "nbformat": 4,
 "nbformat_minor": 2
}
