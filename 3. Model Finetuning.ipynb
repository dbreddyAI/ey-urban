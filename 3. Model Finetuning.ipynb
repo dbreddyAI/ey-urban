{
 "cells": [
  {
   "cell_type": "code",
   "execution_count": 1,
   "metadata": {},
   "outputs": [],
   "source": [
    "import xgboost as xgb"
   ]
  },
  {
   "cell_type": "code",
   "execution_count": 2,
   "metadata": {},
   "outputs": [],
   "source": [
    "import pandas as pd\n",
    "import numpy as np\n",
    "import math\n",
    "import matplotlib.pyplot as plt\n",
    "from matplotlib.path import Path\n",
    "import matplotlib.patches as patches\n",
    "import seaborn as sns\n",
    "from tqdm import tqdm\n",
    "import pickle\n",
    "%matplotlib inline"
   ]
  },
  {
   "cell_type": "markdown",
   "metadata": {},
   "source": [
    "# 1. Read Data"
   ]
  },
  {
   "cell_type": "code",
   "execution_count": 3,
   "metadata": {},
   "outputs": [
    {
     "name": "stderr",
     "output_type": "stream",
     "text": [
      "/home/ubuntu/anaconda3/envs/python3/lib/python3.6/site-packages/IPython/core/interactiveshell.py:2785: DtypeWarning: Columns (2,3,4,5) have mixed types. Specify dtype option on import or set low_memory=False.\n",
      "  interactivity=interactivity, compiler=compiler, result=result)\n"
     ]
    }
   ],
   "source": [
    "# read saved\n",
    "data = pd.read_csv(\"data/interim/data_train_concat.csv\", index_col=False)"
   ]
  },
  {
   "cell_type": "code",
   "execution_count": 4,
   "metadata": {},
   "outputs": [],
   "source": [
    "Y = data['x_exit_19'].between(3750901.5068, 3770901.5068) \\\n",
    "    & data['y_exit_19'].between((-19268905.6133), -19208905.6133)"
   ]
  },
  {
   "cell_type": "code",
   "execution_count": 5,
   "metadata": {},
   "outputs": [],
   "source": [
    "X = data.drop([x+str(y) for y in range(20) for x in ['Unnamed: 0_', 'hash_', 'trajectory_id_', 'time_entry_', 'time_exit_']] \\\n",
    "    + ['x_exit_19', 'y_exit_19','vmax_19', 'vmin_19', 'vmean_19'] + ['Unnamed: 0'], axis=1)"
   ]
  },
  {
   "cell_type": "markdown",
   "metadata": {},
   "source": [
    "## 1.2 More Feature Engineering"
   ]
  },
  {
   "cell_type": "code",
   "execution_count": 6,
   "metadata": {
    "scrolled": true
   },
   "outputs": [],
   "source": [
    "# extrapolation\n",
    "for i in range(18,-1,-1):\n",
    "    cur = str(i)\n",
    "    nex = str(i+1)\n",
    "    nan = X['x_entry_'+cur].isnull()\n",
    "    for x,y in zip(['x_entry_'+cur, 'y_entry_'+cur, 'entry_hour_'+cur, 'entry_minute_'+cur, 'entry_second_'+cur],\n",
    "                   ['x_entry_'+nex, 'y_entry_'+nex, 'entry_hour_'+nex, 'entry_minute_'+nex, 'entry_second_'+nex]):\n",
    "        X.iloc[np.where(nan)[0], X.columns.get_loc(x)] = X[y][nan]\n",
    "    for x,y in zip(['x_exit_'+cur, 'y_exit_'+cur, 'exit_hour_'+cur, 'exit_minute_'+cur, 'exit_second_'+cur],\n",
    "                   ['x_entry_'+nex, 'y_entry_'+nex, 'entry_hour_'+nex, 'entry_minute_'+nex, 'entry_second_'+nex]):\n",
    "        X.iloc[np.where(nan)[0], X.columns.get_loc(x)] = X[y][nan]"
   ]
  },
  {
   "cell_type": "code",
   "execution_count": 7,
   "metadata": {},
   "outputs": [],
   "source": [
    "# space and velocity inference\n",
    "for i in range(19):\n",
    "    X['distance_'+str(i)] = ((X['x_entry_'+str(i)]-X['x_exit_'+str(i)]).pow(2)+(X['y_entry_'+str(i)]-X['y_exit_'+str(i)]).pow(2)).pow(0.5)\n",
    "    X['speed_'+str(i)] = X['distance_'+str(i)]/X['duration_'+str(i)]\n",
    "\n",
    "# missing values    \n",
    "X = X.replace([np.inf, -np.inf], np.nan)\n",
    "X = X.fillna(0)"
   ]
  },
  {
   "cell_type": "code",
   "execution_count": 8,
   "metadata": {},
   "outputs": [],
   "source": [
    "# time feature\n",
    "for i in range(20):\n",
    "    X['entry_hour_quarter_'+str(i)] = X['entry_hour_'+str(1)]*4 + np.ceil(X['entry_minute_'+str(1)]/15)\n",
    "    X['exit_hour_quarter_'+str(i)] = X['exit_hour_'+str(1)]*4 + np.ceil(X['exit_minute_'+str(1)]/15)\n",
    "    "
   ]
  },
  {
   "cell_type": "code",
   "execution_count": 9,
   "metadata": {},
   "outputs": [],
   "source": [
    "sortcol = sorted(X.columns.tolist(), key=lambda x: (int(x[x.rfind(\"_\")+1:]), x[:x.rfind(\"_\")]))\n",
    "X = X[sortcol]"
   ]
  },
  {
   "cell_type": "code",
   "execution_count": 10,
   "metadata": {},
   "outputs": [
    {
     "data": {
      "text/plain": [
       "['distance_0',\n",
       " 'duration_0',\n",
       " 'entry_hour_0',\n",
       " 'entry_hour_quarter_0',\n",
       " 'entry_minute_0',\n",
       " 'entry_second_0',\n",
       " 'exit_hour_0',\n",
       " 'exit_hour_quarter_0',\n",
       " 'exit_minute_0',\n",
       " 'exit_second_0',\n",
       " 'speed_0',\n",
       " 'vmax_0',\n",
       " 'vmean_0',\n",
       " 'vmin_0',\n",
       " 'x_entry_0',\n",
       " 'x_exit_0',\n",
       " 'y_entry_0',\n",
       " 'y_exit_0',\n",
       " 'distance_1',\n",
       " 'duration_1',\n",
       " 'entry_hour_1',\n",
       " 'entry_hour_quarter_1',\n",
       " 'entry_minute_1',\n",
       " 'entry_second_1',\n",
       " 'exit_hour_1',\n",
       " 'exit_hour_quarter_1',\n",
       " 'exit_minute_1',\n",
       " 'exit_second_1',\n",
       " 'speed_1',\n",
       " 'vmax_1',\n",
       " 'vmean_1',\n",
       " 'vmin_1',\n",
       " 'x_entry_1',\n",
       " 'x_exit_1',\n",
       " 'y_entry_1',\n",
       " 'y_exit_1',\n",
       " 'distance_2',\n",
       " 'duration_2',\n",
       " 'entry_hour_2',\n",
       " 'entry_hour_quarter_2',\n",
       " 'entry_minute_2',\n",
       " 'entry_second_2',\n",
       " 'exit_hour_2',\n",
       " 'exit_hour_quarter_2',\n",
       " 'exit_minute_2',\n",
       " 'exit_second_2',\n",
       " 'speed_2',\n",
       " 'vmax_2',\n",
       " 'vmean_2',\n",
       " 'vmin_2',\n",
       " 'x_entry_2',\n",
       " 'x_exit_2',\n",
       " 'y_entry_2',\n",
       " 'y_exit_2',\n",
       " 'distance_3',\n",
       " 'duration_3',\n",
       " 'entry_hour_3',\n",
       " 'entry_hour_quarter_3',\n",
       " 'entry_minute_3',\n",
       " 'entry_second_3',\n",
       " 'exit_hour_3',\n",
       " 'exit_hour_quarter_3',\n",
       " 'exit_minute_3',\n",
       " 'exit_second_3',\n",
       " 'speed_3',\n",
       " 'vmax_3',\n",
       " 'vmean_3',\n",
       " 'vmin_3',\n",
       " 'x_entry_3',\n",
       " 'x_exit_3',\n",
       " 'y_entry_3',\n",
       " 'y_exit_3',\n",
       " 'distance_4',\n",
       " 'duration_4',\n",
       " 'entry_hour_4',\n",
       " 'entry_hour_quarter_4',\n",
       " 'entry_minute_4',\n",
       " 'entry_second_4',\n",
       " 'exit_hour_4',\n",
       " 'exit_hour_quarter_4',\n",
       " 'exit_minute_4',\n",
       " 'exit_second_4',\n",
       " 'speed_4',\n",
       " 'vmax_4',\n",
       " 'vmean_4',\n",
       " 'vmin_4',\n",
       " 'x_entry_4',\n",
       " 'x_exit_4',\n",
       " 'y_entry_4',\n",
       " 'y_exit_4',\n",
       " 'distance_5',\n",
       " 'duration_5',\n",
       " 'entry_hour_5',\n",
       " 'entry_hour_quarter_5',\n",
       " 'entry_minute_5',\n",
       " 'entry_second_5',\n",
       " 'exit_hour_5',\n",
       " 'exit_hour_quarter_5',\n",
       " 'exit_minute_5',\n",
       " 'exit_second_5',\n",
       " 'speed_5',\n",
       " 'vmax_5',\n",
       " 'vmean_5',\n",
       " 'vmin_5',\n",
       " 'x_entry_5',\n",
       " 'x_exit_5',\n",
       " 'y_entry_5',\n",
       " 'y_exit_5',\n",
       " 'distance_6',\n",
       " 'duration_6',\n",
       " 'entry_hour_6',\n",
       " 'entry_hour_quarter_6',\n",
       " 'entry_minute_6',\n",
       " 'entry_second_6',\n",
       " 'exit_hour_6',\n",
       " 'exit_hour_quarter_6',\n",
       " 'exit_minute_6',\n",
       " 'exit_second_6',\n",
       " 'speed_6',\n",
       " 'vmax_6',\n",
       " 'vmean_6',\n",
       " 'vmin_6',\n",
       " 'x_entry_6',\n",
       " 'x_exit_6',\n",
       " 'y_entry_6',\n",
       " 'y_exit_6',\n",
       " 'distance_7',\n",
       " 'duration_7',\n",
       " 'entry_hour_7',\n",
       " 'entry_hour_quarter_7',\n",
       " 'entry_minute_7',\n",
       " 'entry_second_7',\n",
       " 'exit_hour_7',\n",
       " 'exit_hour_quarter_7',\n",
       " 'exit_minute_7',\n",
       " 'exit_second_7',\n",
       " 'speed_7',\n",
       " 'vmax_7',\n",
       " 'vmean_7',\n",
       " 'vmin_7',\n",
       " 'x_entry_7',\n",
       " 'x_exit_7',\n",
       " 'y_entry_7',\n",
       " 'y_exit_7',\n",
       " 'distance_8',\n",
       " 'duration_8',\n",
       " 'entry_hour_8',\n",
       " 'entry_hour_quarter_8',\n",
       " 'entry_minute_8',\n",
       " 'entry_second_8',\n",
       " 'exit_hour_8',\n",
       " 'exit_hour_quarter_8',\n",
       " 'exit_minute_8',\n",
       " 'exit_second_8',\n",
       " 'speed_8',\n",
       " 'vmax_8',\n",
       " 'vmean_8',\n",
       " 'vmin_8',\n",
       " 'x_entry_8',\n",
       " 'x_exit_8',\n",
       " 'y_entry_8',\n",
       " 'y_exit_8',\n",
       " 'distance_9',\n",
       " 'duration_9',\n",
       " 'entry_hour_9',\n",
       " 'entry_hour_quarter_9',\n",
       " 'entry_minute_9',\n",
       " 'entry_second_9',\n",
       " 'exit_hour_9',\n",
       " 'exit_hour_quarter_9',\n",
       " 'exit_minute_9',\n",
       " 'exit_second_9',\n",
       " 'speed_9',\n",
       " 'vmax_9',\n",
       " 'vmean_9',\n",
       " 'vmin_9',\n",
       " 'x_entry_9',\n",
       " 'x_exit_9',\n",
       " 'y_entry_9',\n",
       " 'y_exit_9',\n",
       " 'distance_10',\n",
       " 'duration_10',\n",
       " 'entry_hour_10',\n",
       " 'entry_hour_quarter_10',\n",
       " 'entry_minute_10',\n",
       " 'entry_second_10',\n",
       " 'exit_hour_10',\n",
       " 'exit_hour_quarter_10',\n",
       " 'exit_minute_10',\n",
       " 'exit_second_10',\n",
       " 'speed_10',\n",
       " 'vmax_10',\n",
       " 'vmean_10',\n",
       " 'vmin_10',\n",
       " 'x_entry_10',\n",
       " 'x_exit_10',\n",
       " 'y_entry_10',\n",
       " 'y_exit_10',\n",
       " 'distance_11',\n",
       " 'duration_11',\n",
       " 'entry_hour_11',\n",
       " 'entry_hour_quarter_11',\n",
       " 'entry_minute_11',\n",
       " 'entry_second_11',\n",
       " 'exit_hour_11',\n",
       " 'exit_hour_quarter_11',\n",
       " 'exit_minute_11',\n",
       " 'exit_second_11',\n",
       " 'speed_11',\n",
       " 'vmax_11',\n",
       " 'vmean_11',\n",
       " 'vmin_11',\n",
       " 'x_entry_11',\n",
       " 'x_exit_11',\n",
       " 'y_entry_11',\n",
       " 'y_exit_11',\n",
       " 'distance_12',\n",
       " 'duration_12',\n",
       " 'entry_hour_12',\n",
       " 'entry_hour_quarter_12',\n",
       " 'entry_minute_12',\n",
       " 'entry_second_12',\n",
       " 'exit_hour_12',\n",
       " 'exit_hour_quarter_12',\n",
       " 'exit_minute_12',\n",
       " 'exit_second_12',\n",
       " 'speed_12',\n",
       " 'vmax_12',\n",
       " 'vmean_12',\n",
       " 'vmin_12',\n",
       " 'x_entry_12',\n",
       " 'x_exit_12',\n",
       " 'y_entry_12',\n",
       " 'y_exit_12',\n",
       " 'distance_13',\n",
       " 'duration_13',\n",
       " 'entry_hour_13',\n",
       " 'entry_hour_quarter_13',\n",
       " 'entry_minute_13',\n",
       " 'entry_second_13',\n",
       " 'exit_hour_13',\n",
       " 'exit_hour_quarter_13',\n",
       " 'exit_minute_13',\n",
       " 'exit_second_13',\n",
       " 'speed_13',\n",
       " 'vmax_13',\n",
       " 'vmean_13',\n",
       " 'vmin_13',\n",
       " 'x_entry_13',\n",
       " 'x_exit_13',\n",
       " 'y_entry_13',\n",
       " 'y_exit_13',\n",
       " 'distance_14',\n",
       " 'duration_14',\n",
       " 'entry_hour_14',\n",
       " 'entry_hour_quarter_14',\n",
       " 'entry_minute_14',\n",
       " 'entry_second_14',\n",
       " 'exit_hour_14',\n",
       " 'exit_hour_quarter_14',\n",
       " 'exit_minute_14',\n",
       " 'exit_second_14',\n",
       " 'speed_14',\n",
       " 'vmax_14',\n",
       " 'vmean_14',\n",
       " 'vmin_14',\n",
       " 'x_entry_14',\n",
       " 'x_exit_14',\n",
       " 'y_entry_14',\n",
       " 'y_exit_14',\n",
       " 'distance_15',\n",
       " 'duration_15',\n",
       " 'entry_hour_15',\n",
       " 'entry_hour_quarter_15',\n",
       " 'entry_minute_15',\n",
       " 'entry_second_15',\n",
       " 'exit_hour_15',\n",
       " 'exit_hour_quarter_15',\n",
       " 'exit_minute_15',\n",
       " 'exit_second_15',\n",
       " 'speed_15',\n",
       " 'vmax_15',\n",
       " 'vmean_15',\n",
       " 'vmin_15',\n",
       " 'x_entry_15',\n",
       " 'x_exit_15',\n",
       " 'y_entry_15',\n",
       " 'y_exit_15',\n",
       " 'distance_16',\n",
       " 'duration_16',\n",
       " 'entry_hour_16',\n",
       " 'entry_hour_quarter_16',\n",
       " 'entry_minute_16',\n",
       " 'entry_second_16',\n",
       " 'exit_hour_16',\n",
       " 'exit_hour_quarter_16',\n",
       " 'exit_minute_16',\n",
       " 'exit_second_16',\n",
       " 'speed_16',\n",
       " 'vmax_16',\n",
       " 'vmean_16',\n",
       " 'vmin_16',\n",
       " 'x_entry_16',\n",
       " 'x_exit_16',\n",
       " 'y_entry_16',\n",
       " 'y_exit_16',\n",
       " 'distance_17',\n",
       " 'duration_17',\n",
       " 'entry_hour_17',\n",
       " 'entry_hour_quarter_17',\n",
       " 'entry_minute_17',\n",
       " 'entry_second_17',\n",
       " 'exit_hour_17',\n",
       " 'exit_hour_quarter_17',\n",
       " 'exit_minute_17',\n",
       " 'exit_second_17',\n",
       " 'speed_17',\n",
       " 'vmax_17',\n",
       " 'vmean_17',\n",
       " 'vmin_17',\n",
       " 'x_entry_17',\n",
       " 'x_exit_17',\n",
       " 'y_entry_17',\n",
       " 'y_exit_17',\n",
       " 'distance_18',\n",
       " 'duration_18',\n",
       " 'entry_hour_18',\n",
       " 'entry_hour_quarter_18',\n",
       " 'entry_minute_18',\n",
       " 'entry_second_18',\n",
       " 'exit_hour_18',\n",
       " 'exit_hour_quarter_18',\n",
       " 'exit_minute_18',\n",
       " 'exit_second_18',\n",
       " 'speed_18',\n",
       " 'vmax_18',\n",
       " 'vmean_18',\n",
       " 'vmin_18',\n",
       " 'x_entry_18',\n",
       " 'x_exit_18',\n",
       " 'y_entry_18',\n",
       " 'y_exit_18',\n",
       " 'duration_19',\n",
       " 'entry_hour_19',\n",
       " 'entry_hour_quarter_19',\n",
       " 'entry_minute_19',\n",
       " 'entry_second_19',\n",
       " 'exit_hour_19',\n",
       " 'exit_hour_quarter_19',\n",
       " 'exit_minute_19',\n",
       " 'exit_second_19',\n",
       " 'x_entry_19',\n",
       " 'y_entry_19']"
      ]
     },
     "execution_count": 10,
     "metadata": {},
     "output_type": "execute_result"
    }
   ],
   "source": [
    "X.columns.tolist()"
   ]
  },
  {
   "cell_type": "code",
   "execution_count": 11,
   "metadata": {},
   "outputs": [],
   "source": [
    "from sklearn.preprocessing import StandardScaler"
   ]
  },
  {
   "cell_type": "code",
   "execution_count": 12,
   "metadata": {},
   "outputs": [],
   "source": [
    "scaler = StandardScaler()"
   ]
  },
  {
   "cell_type": "code",
   "execution_count": 13,
   "metadata": {},
   "outputs": [],
   "source": [
    "X[:] = scaler.fit_transform(X)"
   ]
  },
  {
   "cell_type": "code",
   "execution_count": 14,
   "metadata": {},
   "outputs": [
    {
     "data": {
      "text/html": [
       "<div>\n",
       "<style scoped>\n",
       "    .dataframe tbody tr th:only-of-type {\n",
       "        vertical-align: middle;\n",
       "    }\n",
       "\n",
       "    .dataframe tbody tr th {\n",
       "        vertical-align: top;\n",
       "    }\n",
       "\n",
       "    .dataframe thead th {\n",
       "        text-align: right;\n",
       "    }\n",
       "</style>\n",
       "<table border=\"1\" class=\"dataframe\">\n",
       "  <thead>\n",
       "    <tr style=\"text-align: right;\">\n",
       "      <th></th>\n",
       "      <th>distance_0</th>\n",
       "      <th>duration_0</th>\n",
       "      <th>entry_hour_0</th>\n",
       "      <th>entry_hour_quarter_0</th>\n",
       "      <th>entry_minute_0</th>\n",
       "      <th>entry_second_0</th>\n",
       "      <th>exit_hour_0</th>\n",
       "      <th>exit_hour_quarter_0</th>\n",
       "      <th>exit_minute_0</th>\n",
       "      <th>exit_second_0</th>\n",
       "      <th>...</th>\n",
       "      <th>entry_hour_19</th>\n",
       "      <th>entry_hour_quarter_19</th>\n",
       "      <th>entry_minute_19</th>\n",
       "      <th>entry_second_19</th>\n",
       "      <th>exit_hour_19</th>\n",
       "      <th>exit_hour_quarter_19</th>\n",
       "      <th>exit_minute_19</th>\n",
       "      <th>exit_second_19</th>\n",
       "      <th>x_entry_19</th>\n",
       "      <th>y_entry_19</th>\n",
       "    </tr>\n",
       "  </thead>\n",
       "  <tbody>\n",
       "    <tr>\n",
       "      <th>0</th>\n",
       "      <td>-0.014382</td>\n",
       "      <td>-0.019108</td>\n",
       "      <td>0.068311</td>\n",
       "      <td>-0.017664</td>\n",
       "      <td>-1.408640</td>\n",
       "      <td>0.405377</td>\n",
       "      <td>0.068284</td>\n",
       "      <td>-0.017764</td>\n",
       "      <td>-1.408663</td>\n",
       "      <td>0.405325</td>\n",
       "      <td>...</td>\n",
       "      <td>0.394396</td>\n",
       "      <td>-0.017664</td>\n",
       "      <td>-1.359113</td>\n",
       "      <td>0.399336</td>\n",
       "      <td>-0.013928</td>\n",
       "      <td>-0.017764</td>\n",
       "      <td>-0.409425</td>\n",
       "      <td>0.482560</td>\n",
       "      <td>-1.697862</td>\n",
       "      <td>-0.785789</td>\n",
       "    </tr>\n",
       "    <tr>\n",
       "      <th>1</th>\n",
       "      <td>-0.014382</td>\n",
       "      <td>-0.019108</td>\n",
       "      <td>1.816504</td>\n",
       "      <td>1.784561</td>\n",
       "      <td>0.025205</td>\n",
       "      <td>-0.065709</td>\n",
       "      <td>1.816494</td>\n",
       "      <td>1.784582</td>\n",
       "      <td>0.025155</td>\n",
       "      <td>-0.065751</td>\n",
       "      <td>...</td>\n",
       "      <td>0.394396</td>\n",
       "      <td>1.784561</td>\n",
       "      <td>-1.470466</td>\n",
       "      <td>0.458538</td>\n",
       "      <td>-0.013928</td>\n",
       "      <td>1.784582</td>\n",
       "      <td>0.237699</td>\n",
       "      <td>1.368141</td>\n",
       "      <td>-1.244502</td>\n",
       "      <td>-0.578554</td>\n",
       "    </tr>\n",
       "    <tr>\n",
       "      <th>2</th>\n",
       "      <td>-0.014382</td>\n",
       "      <td>-0.019108</td>\n",
       "      <td>1.067279</td>\n",
       "      <td>1.100958</td>\n",
       "      <td>0.484035</td>\n",
       "      <td>-1.066766</td>\n",
       "      <td>1.067261</td>\n",
       "      <td>1.100934</td>\n",
       "      <td>0.483977</td>\n",
       "      <td>-1.066786</td>\n",
       "      <td>...</td>\n",
       "      <td>-2.440666</td>\n",
       "      <td>1.100958</td>\n",
       "      <td>0.422544</td>\n",
       "      <td>0.636141</td>\n",
       "      <td>-0.013928</td>\n",
       "      <td>1.100934</td>\n",
       "      <td>-0.350596</td>\n",
       "      <td>1.545257</td>\n",
       "      <td>-0.188570</td>\n",
       "      <td>-2.021392</td>\n",
       "    </tr>\n",
       "    <tr>\n",
       "      <th>3</th>\n",
       "      <td>-0.014382</td>\n",
       "      <td>-0.019108</td>\n",
       "      <td>0.567795</td>\n",
       "      <td>0.665939</td>\n",
       "      <td>1.573758</td>\n",
       "      <td>-0.948995</td>\n",
       "      <td>0.567773</td>\n",
       "      <td>0.665885</td>\n",
       "      <td>1.573679</td>\n",
       "      <td>-0.949017</td>\n",
       "      <td>...</td>\n",
       "      <td>0.394396</td>\n",
       "      <td>0.665939</td>\n",
       "      <td>0.088484</td>\n",
       "      <td>1.760966</td>\n",
       "      <td>-0.013928</td>\n",
       "      <td>0.665885</td>\n",
       "      <td>0.178869</td>\n",
       "      <td>1.722373</td>\n",
       "      <td>0.810236</td>\n",
       "      <td>0.577988</td>\n",
       "    </tr>\n",
       "    <tr>\n",
       "      <th>4</th>\n",
       "      <td>-0.014382</td>\n",
       "      <td>-0.019108</td>\n",
       "      <td>-1.679881</td>\n",
       "      <td>-1.819888</td>\n",
       "      <td>-1.638055</td>\n",
       "      <td>-1.184537</td>\n",
       "      <td>-1.679926</td>\n",
       "      <td>-1.820111</td>\n",
       "      <td>-1.638074</td>\n",
       "      <td>-1.184555</td>\n",
       "      <td>...</td>\n",
       "      <td>0.394396</td>\n",
       "      <td>-1.819888</td>\n",
       "      <td>-1.025052</td>\n",
       "      <td>-1.139898</td>\n",
       "      <td>-0.013928</td>\n",
       "      <td>-1.820111</td>\n",
       "      <td>-0.997720</td>\n",
       "      <td>-1.170525</td>\n",
       "      <td>-1.402849</td>\n",
       "      <td>-0.065226</td>\n",
       "    </tr>\n",
       "  </tbody>\n",
       "</table>\n",
       "<p>5 rows × 353 columns</p>\n",
       "</div>"
      ],
      "text/plain": [
       "   distance_0  duration_0  entry_hour_0  entry_hour_quarter_0  entry_minute_0  \\\n",
       "0   -0.014382   -0.019108      0.068311             -0.017664       -1.408640   \n",
       "1   -0.014382   -0.019108      1.816504              1.784561        0.025205   \n",
       "2   -0.014382   -0.019108      1.067279              1.100958        0.484035   \n",
       "3   -0.014382   -0.019108      0.567795              0.665939        1.573758   \n",
       "4   -0.014382   -0.019108     -1.679881             -1.819888       -1.638055   \n",
       "\n",
       "   entry_second_0  exit_hour_0  exit_hour_quarter_0  exit_minute_0  \\\n",
       "0        0.405377     0.068284            -0.017764      -1.408663   \n",
       "1       -0.065709     1.816494             1.784582       0.025155   \n",
       "2       -1.066766     1.067261             1.100934       0.483977   \n",
       "3       -0.948995     0.567773             0.665885       1.573679   \n",
       "4       -1.184537    -1.679926            -1.820111      -1.638074   \n",
       "\n",
       "   exit_second_0     ...      entry_hour_19  entry_hour_quarter_19  \\\n",
       "0       0.405325     ...           0.394396              -0.017664   \n",
       "1      -0.065751     ...           0.394396               1.784561   \n",
       "2      -1.066786     ...          -2.440666               1.100958   \n",
       "3      -0.949017     ...           0.394396               0.665939   \n",
       "4      -1.184555     ...           0.394396              -1.819888   \n",
       "\n",
       "   entry_minute_19  entry_second_19  exit_hour_19  exit_hour_quarter_19  \\\n",
       "0        -1.359113         0.399336     -0.013928             -0.017764   \n",
       "1        -1.470466         0.458538     -0.013928              1.784582   \n",
       "2         0.422544         0.636141     -0.013928              1.100934   \n",
       "3         0.088484         1.760966     -0.013928              0.665885   \n",
       "4        -1.025052        -1.139898     -0.013928             -1.820111   \n",
       "\n",
       "   exit_minute_19  exit_second_19  x_entry_19  y_entry_19  \n",
       "0       -0.409425        0.482560   -1.697862   -0.785789  \n",
       "1        0.237699        1.368141   -1.244502   -0.578554  \n",
       "2       -0.350596        1.545257   -0.188570   -2.021392  \n",
       "3        0.178869        1.722373    0.810236    0.577988  \n",
       "4       -0.997720       -1.170525   -1.402849   -0.065226  \n",
       "\n",
       "[5 rows x 353 columns]"
      ]
     },
     "execution_count": 14,
     "metadata": {},
     "output_type": "execute_result"
    }
   ],
   "source": [
    "X[:5]"
   ]
  },
  {
   "cell_type": "markdown",
   "metadata": {},
   "source": [
    "## 1.2 Dimensionality Reduction"
   ]
  },
  {
   "cell_type": "markdown",
   "metadata": {},
   "source": [
    "dimensionality reduction was found to be unhelpful for prediction, hence removed"
   ]
  },
  {
   "cell_type": "code",
   "execution_count": 27,
   "metadata": {},
   "outputs": [],
   "source": [
    "from sklearn.decomposition import PCA, FastICA, TruncatedSVD\n",
    "n_comp = 1"
   ]
  },
  {
   "cell_type": "code",
   "execution_count": 28,
   "metadata": {},
   "outputs": [],
   "source": [
    "# all features\n",
    "# pca = PCA(n_components=n_comp, random_state=42)\n",
    "# pca.fit(pd.concat([pd.DataFrame(X[X.columns[X.columns.str.endswith(\"_\"+str(i))]].values) \n",
    "#          for i in range(19)], axis=0))\n",
    "\n",
    "# for i in range(19): #timesteps\n",
    "#     trans = pca.transform(X[X.columns[X.columns.str.endswith(\"_\"+str(i))]])\n",
    "\n",
    "#     for j in range(n_comp): #components\n",
    "#         X['pca_'+str(j)+\"_\"+str(i)] = trans[:,j]"
   ]
  },
  {
   "cell_type": "code",
   "execution_count": 29,
   "metadata": {},
   "outputs": [],
   "source": [
    "# xy\n",
    "pca = PCA(n_components=n_comp, random_state=42)\n",
    "# pca = FastICA(n_components=n_comp, random_state=42)\n",
    "# pca = TruncatedSVD(n_components=n_comp, random_state=420)\n",
    "pca.fit(pd.concat([pd.DataFrame(X[['x_entry_'+str(i),'y_entry_'+str(i)]].values)\n",
    "           for i in range(20)] + [pd.DataFrame(X[['x_exit_'+str(i),'y_exit_'+str(i)]].values)\n",
    "           for i in range(19)], axis=0))\n",
    "\n",
    "for i in range(19): #timesteps\n",
    "    transEntry = pca.transform(X[['x_entry_'+str(i),'y_entry_'+str(i)]])\n",
    "    for j in range(1): #components\n",
    "        X['entry_pca_'+str(j)+\"_\"+str(i)] = transEntry[:,j]\n",
    "    if i<19:\n",
    "        transExit = pca.transform(X[['x_exit_'+str(i),'y_exit_'+str(i)]])\n",
    "        for j in range(1): #components\n",
    "            X['exit_pca_'+str(j)+\"_\"+str(i)] = transExit[:,j]\n",
    "            \n",
    "# ica = FastICA(n_components=n_comp, random_state=42)\n",
    "# # pca = TruncatedSVD(n_components=n_comp, random_state=420)\n",
    "# ica.fit(pd.concat([pd.DataFrame(X[['x_entry_'+str(i),'y_entry_'+str(i)]].values)\n",
    "#            for i in range(20)] + [pd.DataFrame(X[['x_exit_'+str(i),'y_exit_'+str(i)]].values)\n",
    "#            for i in range(19)], axis=0))\n",
    "\n",
    "# for i in range(19): #timesteps\n",
    "#     transEntry = ica.transform(X[['x_entry_'+str(i),'y_entry_'+str(i)]])\n",
    "#     for j in range(1): #components\n",
    "#         X['entry_ica_'+str(j)+\"_\"+str(i)] = transEntry[:,j]\n",
    "#     if i<19:\n",
    "#         transExit = ica.transform(X[['x_exit_'+str(i),'y_exit_'+str(i)]])\n",
    "#         for j in range(1): #components\n",
    "#             X['exit_ica_'+str(j)+\"_\"+str(i)] = transExit[:,j]\n",
    "            \n",
    "# svd = TruncatedSVD(n_components=n_comp, random_state=420)\n",
    "# svd.fit(pd.concat([pd.DataFrame(X[['x_entry_'+str(i),'y_entry_'+str(i)]].values)\n",
    "#            for i in range(20)] + [pd.DataFrame(X[['x_exit_'+str(i),'y_exit_'+str(i)]].values)\n",
    "#            for i in range(19)], axis=0))\n",
    "\n",
    "# for i in range(19): #timesteps\n",
    "#     transEntry = svd.transform(X[['x_entry_'+str(i),'y_entry_'+str(i)]])\n",
    "#     for j in range(1): #components\n",
    "#         X['entry_svd_'+str(j)+\"_\"+str(i)] = transEntry[:,j]\n",
    "#     if i<19:\n",
    "#         transExit = svd.transform(X[['x_exit_'+str(i),'y_exit_'+str(i)]])\n",
    "#         for j in range(1): #components\n",
    "#             X['exit_svd_'+str(j)+\"_\"+str(i)] = transExit[:,j]\n",
    "        "
   ]
  },
  {
   "cell_type": "code",
   "execution_count": 30,
   "metadata": {},
   "outputs": [],
   "source": [
    "# dds\n",
    "pca2 = PCA(n_components=n_comp, random_state=42)\n",
    "# pca2 = TruncatedSVD(n_components=n_comp, random_state=420)\n",
    "# pca2 = FastICA(n_components=n_comp, random_state=42)\n",
    "\n",
    "pca2.fit(pd.concat([pd.DataFrame(X[['distance_'+str(i),'duration_'+str(i),'speed_'+str(i)]].values)\n",
    "           for i in range(19)], axis=0))\n",
    "\n",
    "for i in range(19): #timesteps\n",
    "    trans = pca2.transform(X[['distance_'+str(i),'duration_'+str(i),'speed_'+str(i)]])\n",
    "    for j in range(n_comp): #components\n",
    "        X['dds_pca_'+str(j)+\"_\"+str(i)] = trans[:,j]\n",
    "\n",
    "# pca2 = TruncatedSVD(n_components=n_comp, random_state=420)\n",
    "# ica2 = FastICA(n_components=n_comp, random_state=42)\n",
    "\n",
    "# ica2.fit(pd.concat([pd.DataFrame(X[['distance_'+str(i),'duration_'+str(i),'speed_'+str(i)]].values)\n",
    "#            for i in range(19)], axis=0))\n",
    "\n",
    "# for i in range(19): #timesteps\n",
    "#     trans = ica2.transform(X[['distance_'+str(i),'duration_'+str(i),'speed_'+str(i)]])\n",
    "#     for j in range(n_comp): #components\n",
    "#         X['dds_ica_'+str(j)+\"_\"+str(i)] = trans[:,j]\n",
    "        \n",
    "# svd2 = TruncatedSVD(n_components=n_comp, random_state=420)\n",
    "\n",
    "# svd2.fit(pd.concat([pd.DataFrame(X[['distance_'+str(i),'duration_'+str(i),'speed_'+str(i)]].values)\n",
    "#            for i in range(19)], axis=0))\n",
    "\n",
    "# for i in range(19): #timesteps\n",
    "#     trans = svd2.transform(X[['distance_'+str(i),'duration_'+str(i),'speed_'+str(i)]])\n",
    "#     for j in range(n_comp): #components\n",
    "#         X['dds_svd_'+str(j)+\"_\"+str(i)] = trans[:,j]\n",
    "        "
   ]
  },
  {
   "cell_type": "markdown",
   "metadata": {},
   "source": [
    "## 1.3 Train/Test Split"
   ]
  },
  {
   "cell_type": "code",
   "execution_count": 15,
   "metadata": {},
   "outputs": [],
   "source": [
    "from sklearn.model_selection import train_test_split"
   ]
  },
  {
   "cell_type": "code",
   "execution_count": 16,
   "metadata": {},
   "outputs": [
    {
     "data": {
      "text/html": [
       "<div>\n",
       "<style scoped>\n",
       "    .dataframe tbody tr th:only-of-type {\n",
       "        vertical-align: middle;\n",
       "    }\n",
       "\n",
       "    .dataframe tbody tr th {\n",
       "        vertical-align: top;\n",
       "    }\n",
       "\n",
       "    .dataframe thead th {\n",
       "        text-align: right;\n",
       "    }\n",
       "</style>\n",
       "<table border=\"1\" class=\"dataframe\">\n",
       "  <thead>\n",
       "    <tr style=\"text-align: right;\">\n",
       "      <th></th>\n",
       "      <th>distance_0</th>\n",
       "      <th>duration_0</th>\n",
       "      <th>entry_hour_0</th>\n",
       "      <th>entry_hour_quarter_0</th>\n",
       "      <th>entry_minute_0</th>\n",
       "      <th>entry_second_0</th>\n",
       "      <th>exit_hour_0</th>\n",
       "      <th>exit_hour_quarter_0</th>\n",
       "      <th>exit_minute_0</th>\n",
       "      <th>exit_second_0</th>\n",
       "      <th>...</th>\n",
       "      <th>entry_hour_19</th>\n",
       "      <th>entry_hour_quarter_19</th>\n",
       "      <th>entry_minute_19</th>\n",
       "      <th>entry_second_19</th>\n",
       "      <th>exit_hour_19</th>\n",
       "      <th>exit_hour_quarter_19</th>\n",
       "      <th>exit_minute_19</th>\n",
       "      <th>exit_second_19</th>\n",
       "      <th>x_entry_19</th>\n",
       "      <th>y_entry_19</th>\n",
       "    </tr>\n",
       "  </thead>\n",
       "  <tbody>\n",
       "    <tr>\n",
       "      <th>0</th>\n",
       "      <td>-0.014382</td>\n",
       "      <td>-0.019108</td>\n",
       "      <td>0.068311</td>\n",
       "      <td>-0.017664</td>\n",
       "      <td>-1.408640</td>\n",
       "      <td>0.405377</td>\n",
       "      <td>0.068284</td>\n",
       "      <td>-0.017764</td>\n",
       "      <td>-1.408663</td>\n",
       "      <td>0.405325</td>\n",
       "      <td>...</td>\n",
       "      <td>0.394396</td>\n",
       "      <td>-0.017664</td>\n",
       "      <td>-1.359113</td>\n",
       "      <td>0.399336</td>\n",
       "      <td>-0.013928</td>\n",
       "      <td>-0.017764</td>\n",
       "      <td>-0.409425</td>\n",
       "      <td>0.482560</td>\n",
       "      <td>-1.697862</td>\n",
       "      <td>-0.785789</td>\n",
       "    </tr>\n",
       "    <tr>\n",
       "      <th>1</th>\n",
       "      <td>-0.014382</td>\n",
       "      <td>-0.019108</td>\n",
       "      <td>1.816504</td>\n",
       "      <td>1.784561</td>\n",
       "      <td>0.025205</td>\n",
       "      <td>-0.065709</td>\n",
       "      <td>1.816494</td>\n",
       "      <td>1.784582</td>\n",
       "      <td>0.025155</td>\n",
       "      <td>-0.065751</td>\n",
       "      <td>...</td>\n",
       "      <td>0.394396</td>\n",
       "      <td>1.784561</td>\n",
       "      <td>-1.470466</td>\n",
       "      <td>0.458538</td>\n",
       "      <td>-0.013928</td>\n",
       "      <td>1.784582</td>\n",
       "      <td>0.237699</td>\n",
       "      <td>1.368141</td>\n",
       "      <td>-1.244502</td>\n",
       "      <td>-0.578554</td>\n",
       "    </tr>\n",
       "    <tr>\n",
       "      <th>2</th>\n",
       "      <td>-0.014382</td>\n",
       "      <td>-0.019108</td>\n",
       "      <td>1.067279</td>\n",
       "      <td>1.100958</td>\n",
       "      <td>0.484035</td>\n",
       "      <td>-1.066766</td>\n",
       "      <td>1.067261</td>\n",
       "      <td>1.100934</td>\n",
       "      <td>0.483977</td>\n",
       "      <td>-1.066786</td>\n",
       "      <td>...</td>\n",
       "      <td>-2.440666</td>\n",
       "      <td>1.100958</td>\n",
       "      <td>0.422544</td>\n",
       "      <td>0.636141</td>\n",
       "      <td>-0.013928</td>\n",
       "      <td>1.100934</td>\n",
       "      <td>-0.350596</td>\n",
       "      <td>1.545257</td>\n",
       "      <td>-0.188570</td>\n",
       "      <td>-2.021392</td>\n",
       "    </tr>\n",
       "    <tr>\n",
       "      <th>3</th>\n",
       "      <td>-0.014382</td>\n",
       "      <td>-0.019108</td>\n",
       "      <td>0.567795</td>\n",
       "      <td>0.665939</td>\n",
       "      <td>1.573758</td>\n",
       "      <td>-0.948995</td>\n",
       "      <td>0.567773</td>\n",
       "      <td>0.665885</td>\n",
       "      <td>1.573679</td>\n",
       "      <td>-0.949017</td>\n",
       "      <td>...</td>\n",
       "      <td>0.394396</td>\n",
       "      <td>0.665939</td>\n",
       "      <td>0.088484</td>\n",
       "      <td>1.760966</td>\n",
       "      <td>-0.013928</td>\n",
       "      <td>0.665885</td>\n",
       "      <td>0.178869</td>\n",
       "      <td>1.722373</td>\n",
       "      <td>0.810236</td>\n",
       "      <td>0.577988</td>\n",
       "    </tr>\n",
       "    <tr>\n",
       "      <th>4</th>\n",
       "      <td>-0.014382</td>\n",
       "      <td>-0.019108</td>\n",
       "      <td>-1.679881</td>\n",
       "      <td>-1.819888</td>\n",
       "      <td>-1.638055</td>\n",
       "      <td>-1.184537</td>\n",
       "      <td>-1.679926</td>\n",
       "      <td>-1.820111</td>\n",
       "      <td>-1.638074</td>\n",
       "      <td>-1.184555</td>\n",
       "      <td>...</td>\n",
       "      <td>0.394396</td>\n",
       "      <td>-1.819888</td>\n",
       "      <td>-1.025052</td>\n",
       "      <td>-1.139898</td>\n",
       "      <td>-0.013928</td>\n",
       "      <td>-1.820111</td>\n",
       "      <td>-0.997720</td>\n",
       "      <td>-1.170525</td>\n",
       "      <td>-1.402849</td>\n",
       "      <td>-0.065226</td>\n",
       "    </tr>\n",
       "  </tbody>\n",
       "</table>\n",
       "<p>5 rows × 353 columns</p>\n",
       "</div>"
      ],
      "text/plain": [
       "   distance_0  duration_0  entry_hour_0  entry_hour_quarter_0  entry_minute_0  \\\n",
       "0   -0.014382   -0.019108      0.068311             -0.017664       -1.408640   \n",
       "1   -0.014382   -0.019108      1.816504              1.784561        0.025205   \n",
       "2   -0.014382   -0.019108      1.067279              1.100958        0.484035   \n",
       "3   -0.014382   -0.019108      0.567795              0.665939        1.573758   \n",
       "4   -0.014382   -0.019108     -1.679881             -1.819888       -1.638055   \n",
       "\n",
       "   entry_second_0  exit_hour_0  exit_hour_quarter_0  exit_minute_0  \\\n",
       "0        0.405377     0.068284            -0.017764      -1.408663   \n",
       "1       -0.065709     1.816494             1.784582       0.025155   \n",
       "2       -1.066766     1.067261             1.100934       0.483977   \n",
       "3       -0.948995     0.567773             0.665885       1.573679   \n",
       "4       -1.184537    -1.679926            -1.820111      -1.638074   \n",
       "\n",
       "   exit_second_0     ...      entry_hour_19  entry_hour_quarter_19  \\\n",
       "0       0.405325     ...           0.394396              -0.017664   \n",
       "1      -0.065751     ...           0.394396               1.784561   \n",
       "2      -1.066786     ...          -2.440666               1.100958   \n",
       "3      -0.949017     ...           0.394396               0.665939   \n",
       "4      -1.184555     ...           0.394396              -1.819888   \n",
       "\n",
       "   entry_minute_19  entry_second_19  exit_hour_19  exit_hour_quarter_19  \\\n",
       "0        -1.359113         0.399336     -0.013928             -0.017764   \n",
       "1        -1.470466         0.458538     -0.013928              1.784582   \n",
       "2         0.422544         0.636141     -0.013928              1.100934   \n",
       "3         0.088484         1.760966     -0.013928              0.665885   \n",
       "4        -1.025052        -1.139898     -0.013928             -1.820111   \n",
       "\n",
       "   exit_minute_19  exit_second_19  x_entry_19  y_entry_19  \n",
       "0       -0.409425        0.482560   -1.697862   -0.785789  \n",
       "1        0.237699        1.368141   -1.244502   -0.578554  \n",
       "2       -0.350596        1.545257   -0.188570   -2.021392  \n",
       "3        0.178869        1.722373    0.810236    0.577988  \n",
       "4       -0.997720       -1.170525   -1.402849   -0.065226  \n",
       "\n",
       "[5 rows x 353 columns]"
      ]
     },
     "execution_count": 16,
     "metadata": {},
     "output_type": "execute_result"
    }
   ],
   "source": [
    "X[:5]"
   ]
  },
  {
   "cell_type": "code",
   "execution_count": 17,
   "metadata": {},
   "outputs": [],
   "source": [
    "train_x, test_x, train_y, test_y = train_test_split(X, Y, test_size=0.2, random_state=420)"
   ]
  },
  {
   "cell_type": "code",
   "execution_count": 18,
   "metadata": {},
   "outputs": [
    {
     "data": {
      "text/plain": [
       "((107250, 353), (26813, 353), (107250,), (26813,))"
      ]
     },
     "execution_count": 18,
     "metadata": {},
     "output_type": "execute_result"
    }
   ],
   "source": [
    "(train_x.shape, test_x.shape, train_y.shape, test_y.shape)"
   ]
  },
  {
   "cell_type": "markdown",
   "metadata": {},
   "source": [
    "# 2. Model Building"
   ]
  },
  {
   "cell_type": "code",
   "execution_count": null,
   "metadata": {},
   "outputs": [],
   "source": [
    "#change to the round for pca to evaluate"
   ]
  },
  {
   "cell_type": "code",
   "execution_count": 63,
   "metadata": {},
   "outputs": [],
   "source": [
    "# 261 rounds (0.983522)\n",
    "# models = xgb.XGBClassifier(max_depth=10, learning_rate=0.03, n_estimators=262, n_jobs=-1,\n",
    "#                            subsample=0.8, colsample_bytree=0.8, seed=420)\n",
    "models = xgb.XGBClassifier(max_depth=10, learning_rate=0.03, min_child_weight=5,\n",
    "                           gamma=0.2, n_estimators=20000, n_jobs=-1,\n",
    "                           subsample=0.82, colsample_bytree=0.87, seed=420)\n",
    "#\n",
    "# models = xgb.XGBClassifier(max_depth=6, learning_rate=0.05, n_estimators=20000,\n",
    "#                            subsample=0.8, colsample_bytree=0.9, reg_alpha=65, seed=420, n_jobs=-1)"
   ]
  },
  {
   "cell_type": "code",
   "execution_count": 64,
   "metadata": {
    "scrolled": true
   },
   "outputs": [
    {
     "name": "stdout",
     "output_type": "stream",
     "text": [
      "[0]\tvalidation_0-auc:0.98235\tvalidation_1-auc:0.977015\n",
      "Multiple eval metrics have been passed: 'validation_1-auc' will be used for early stopping.\n",
      "\n",
      "Will train until validation_1-auc hasn't improved in 100 rounds.\n",
      "[1]\tvalidation_0-auc:0.979902\tvalidation_1-auc:0.972154\n",
      "[2]\tvalidation_0-auc:0.983411\tvalidation_1-auc:0.976369\n",
      "[3]\tvalidation_0-auc:0.981748\tvalidation_1-auc:0.973889\n",
      "[4]\tvalidation_0-auc:0.979995\tvalidation_1-auc:0.971589\n",
      "[5]\tvalidation_0-auc:0.982155\tvalidation_1-auc:0.974047\n",
      "[6]\tvalidation_0-auc:0.983766\tvalidation_1-auc:0.976028\n",
      "[7]\tvalidation_0-auc:0.984709\tvalidation_1-auc:0.977095\n",
      "[8]\tvalidation_0-auc:0.98529\tvalidation_1-auc:0.977576\n",
      "[9]\tvalidation_0-auc:0.985794\tvalidation_1-auc:0.978179\n",
      "[10]\tvalidation_0-auc:0.986212\tvalidation_1-auc:0.97871\n",
      "[11]\tvalidation_0-auc:0.986572\tvalidation_1-auc:0.979073\n",
      "[12]\tvalidation_0-auc:0.986925\tvalidation_1-auc:0.979473\n",
      "[13]\tvalidation_0-auc:0.987076\tvalidation_1-auc:0.979487\n",
      "[14]\tvalidation_0-auc:0.986842\tvalidation_1-auc:0.97907\n",
      "[15]\tvalidation_0-auc:0.987084\tvalidation_1-auc:0.979385\n",
      "[16]\tvalidation_0-auc:0.98734\tvalidation_1-auc:0.979683\n",
      "[17]\tvalidation_0-auc:0.987519\tvalidation_1-auc:0.979933\n",
      "[18]\tvalidation_0-auc:0.987333\tvalidation_1-auc:0.979565\n",
      "[19]\tvalidation_0-auc:0.987521\tvalidation_1-auc:0.979772\n",
      "[20]\tvalidation_0-auc:0.987712\tvalidation_1-auc:0.979977\n",
      "[21]\tvalidation_0-auc:0.987872\tvalidation_1-auc:0.980143\n",
      "[22]\tvalidation_0-auc:0.987838\tvalidation_1-auc:0.980157\n",
      "[23]\tvalidation_0-auc:0.98803\tvalidation_1-auc:0.980353\n",
      "[24]\tvalidation_0-auc:0.988169\tvalidation_1-auc:0.980474\n",
      "[25]\tvalidation_0-auc:0.988322\tvalidation_1-auc:0.980642\n",
      "[26]\tvalidation_0-auc:0.988446\tvalidation_1-auc:0.980788\n",
      "[27]\tvalidation_0-auc:0.988588\tvalidation_1-auc:0.980958\n",
      "[28]\tvalidation_0-auc:0.988615\tvalidation_1-auc:0.980982\n",
      "[29]\tvalidation_0-auc:0.988724\tvalidation_1-auc:0.981097\n",
      "[30]\tvalidation_0-auc:0.988846\tvalidation_1-auc:0.981249\n",
      "[31]\tvalidation_0-auc:0.988838\tvalidation_1-auc:0.981207\n",
      "[32]\tvalidation_0-auc:0.988965\tvalidation_1-auc:0.981308\n",
      "[33]\tvalidation_0-auc:0.989009\tvalidation_1-auc:0.981172\n",
      "[34]\tvalidation_0-auc:0.989103\tvalidation_1-auc:0.98125\n",
      "[35]\tvalidation_0-auc:0.98921\tvalidation_1-auc:0.981383\n",
      "[36]\tvalidation_0-auc:0.989237\tvalidation_1-auc:0.981291\n",
      "[37]\tvalidation_0-auc:0.989323\tvalidation_1-auc:0.981396\n",
      "[38]\tvalidation_0-auc:0.989361\tvalidation_1-auc:0.981415\n",
      "[39]\tvalidation_0-auc:0.989451\tvalidation_1-auc:0.981489\n",
      "[40]\tvalidation_0-auc:0.989458\tvalidation_1-auc:0.981459\n",
      "[41]\tvalidation_0-auc:0.989559\tvalidation_1-auc:0.981533\n",
      "[42]\tvalidation_0-auc:0.989597\tvalidation_1-auc:0.981556\n",
      "[43]\tvalidation_0-auc:0.989669\tvalidation_1-auc:0.981634\n",
      "[44]\tvalidation_0-auc:0.989736\tvalidation_1-auc:0.981691\n",
      "[45]\tvalidation_0-auc:0.98983\tvalidation_1-auc:0.981757\n",
      "[46]\tvalidation_0-auc:0.989864\tvalidation_1-auc:0.981746\n",
      "[47]\tvalidation_0-auc:0.989949\tvalidation_1-auc:0.981809\n",
      "[48]\tvalidation_0-auc:0.989992\tvalidation_1-auc:0.981765\n",
      "[49]\tvalidation_0-auc:0.990054\tvalidation_1-auc:0.981824\n",
      "[50]\tvalidation_0-auc:0.990113\tvalidation_1-auc:0.981885\n",
      "[51]\tvalidation_0-auc:0.99019\tvalidation_1-auc:0.981927\n",
      "[52]\tvalidation_0-auc:0.990257\tvalidation_1-auc:0.981991\n",
      "[53]\tvalidation_0-auc:0.990331\tvalidation_1-auc:0.982046\n",
      "[54]\tvalidation_0-auc:0.990403\tvalidation_1-auc:0.982071\n",
      "[55]\tvalidation_0-auc:0.990465\tvalidation_1-auc:0.98211\n",
      "[56]\tvalidation_0-auc:0.990506\tvalidation_1-auc:0.982104\n",
      "[57]\tvalidation_0-auc:0.990564\tvalidation_1-auc:0.982119\n",
      "[58]\tvalidation_0-auc:0.990616\tvalidation_1-auc:0.982101\n",
      "[59]\tvalidation_0-auc:0.990685\tvalidation_1-auc:0.982181\n",
      "[60]\tvalidation_0-auc:0.99076\tvalidation_1-auc:0.982241\n",
      "[61]\tvalidation_0-auc:0.990818\tvalidation_1-auc:0.98229\n",
      "[62]\tvalidation_0-auc:0.990888\tvalidation_1-auc:0.982354\n",
      "[63]\tvalidation_0-auc:0.990949\tvalidation_1-auc:0.982398\n",
      "[64]\tvalidation_0-auc:0.991001\tvalidation_1-auc:0.982433\n",
      "[65]\tvalidation_0-auc:0.991066\tvalidation_1-auc:0.982495\n",
      "[66]\tvalidation_0-auc:0.991125\tvalidation_1-auc:0.982513\n",
      "[67]\tvalidation_0-auc:0.991188\tvalidation_1-auc:0.982553\n",
      "[68]\tvalidation_0-auc:0.991229\tvalidation_1-auc:0.982513\n",
      "[69]\tvalidation_0-auc:0.991288\tvalidation_1-auc:0.982544\n",
      "[70]\tvalidation_0-auc:0.991332\tvalidation_1-auc:0.982571\n",
      "[71]\tvalidation_0-auc:0.991373\tvalidation_1-auc:0.982607\n",
      "[72]\tvalidation_0-auc:0.991423\tvalidation_1-auc:0.982649\n",
      "[73]\tvalidation_0-auc:0.991478\tvalidation_1-auc:0.982679\n",
      "[74]\tvalidation_0-auc:0.991536\tvalidation_1-auc:0.982715\n",
      "[75]\tvalidation_0-auc:0.991595\tvalidation_1-auc:0.982745\n",
      "[76]\tvalidation_0-auc:0.99165\tvalidation_1-auc:0.982751\n",
      "[77]\tvalidation_0-auc:0.991695\tvalidation_1-auc:0.982773\n",
      "[78]\tvalidation_0-auc:0.991722\tvalidation_1-auc:0.982817\n",
      "[79]\tvalidation_0-auc:0.99177\tvalidation_1-auc:0.982836\n",
      "[80]\tvalidation_0-auc:0.991814\tvalidation_1-auc:0.982862\n",
      "[81]\tvalidation_0-auc:0.991848\tvalidation_1-auc:0.98286\n",
      "[82]\tvalidation_0-auc:0.991893\tvalidation_1-auc:0.982875\n",
      "[83]\tvalidation_0-auc:0.99193\tvalidation_1-auc:0.982903\n",
      "[84]\tvalidation_0-auc:0.991967\tvalidation_1-auc:0.982925\n",
      "[85]\tvalidation_0-auc:0.992004\tvalidation_1-auc:0.98294\n",
      "[86]\tvalidation_0-auc:0.992043\tvalidation_1-auc:0.982948\n",
      "[87]\tvalidation_0-auc:0.992097\tvalidation_1-auc:0.982971\n",
      "[88]\tvalidation_0-auc:0.992135\tvalidation_1-auc:0.98298\n",
      "[89]\tvalidation_0-auc:0.992192\tvalidation_1-auc:0.982988\n",
      "[90]\tvalidation_0-auc:0.99222\tvalidation_1-auc:0.982995\n",
      "[91]\tvalidation_0-auc:0.99227\tvalidation_1-auc:0.983018\n",
      "[92]\tvalidation_0-auc:0.992312\tvalidation_1-auc:0.98306\n",
      "[93]\tvalidation_0-auc:0.992353\tvalidation_1-auc:0.983091\n",
      "[94]\tvalidation_0-auc:0.9924\tvalidation_1-auc:0.983131\n",
      "[95]\tvalidation_0-auc:0.992431\tvalidation_1-auc:0.983134\n",
      "[96]\tvalidation_0-auc:0.992473\tvalidation_1-auc:0.983155\n",
      "[97]\tvalidation_0-auc:0.992506\tvalidation_1-auc:0.983172\n",
      "[98]\tvalidation_0-auc:0.992557\tvalidation_1-auc:0.983188\n",
      "[99]\tvalidation_0-auc:0.992601\tvalidation_1-auc:0.983187\n",
      "[100]\tvalidation_0-auc:0.992649\tvalidation_1-auc:0.98322\n",
      "[101]\tvalidation_0-auc:0.992685\tvalidation_1-auc:0.983216\n",
      "[102]\tvalidation_0-auc:0.992713\tvalidation_1-auc:0.983211\n",
      "[103]\tvalidation_0-auc:0.992752\tvalidation_1-auc:0.983245\n",
      "[104]\tvalidation_0-auc:0.992801\tvalidation_1-auc:0.983255\n",
      "[105]\tvalidation_0-auc:0.992835\tvalidation_1-auc:0.983268\n",
      "[106]\tvalidation_0-auc:0.992871\tvalidation_1-auc:0.983286\n",
      "[107]\tvalidation_0-auc:0.992921\tvalidation_1-auc:0.983311\n",
      "[108]\tvalidation_0-auc:0.992967\tvalidation_1-auc:0.98334\n",
      "[109]\tvalidation_0-auc:0.993004\tvalidation_1-auc:0.983344\n",
      "[110]\tvalidation_0-auc:0.993057\tvalidation_1-auc:0.983368\n",
      "[111]\tvalidation_0-auc:0.993088\tvalidation_1-auc:0.983384\n",
      "[112]\tvalidation_0-auc:0.993135\tvalidation_1-auc:0.983384\n",
      "[113]\tvalidation_0-auc:0.99318\tvalidation_1-auc:0.983392\n",
      "[114]\tvalidation_0-auc:0.993202\tvalidation_1-auc:0.983388\n",
      "[115]\tvalidation_0-auc:0.993239\tvalidation_1-auc:0.98341\n",
      "[116]\tvalidation_0-auc:0.993274\tvalidation_1-auc:0.983419\n",
      "[117]\tvalidation_0-auc:0.99332\tvalidation_1-auc:0.983433\n",
      "[118]\tvalidation_0-auc:0.993365\tvalidation_1-auc:0.983428\n",
      "[119]\tvalidation_0-auc:0.993398\tvalidation_1-auc:0.98344\n",
      "[120]\tvalidation_0-auc:0.993435\tvalidation_1-auc:0.983447\n",
      "[121]\tvalidation_0-auc:0.993478\tvalidation_1-auc:0.983465\n",
      "[122]\tvalidation_0-auc:0.993505\tvalidation_1-auc:0.983482\n",
      "[123]\tvalidation_0-auc:0.993536\tvalidation_1-auc:0.983491\n",
      "[124]\tvalidation_0-auc:0.993571\tvalidation_1-auc:0.983514\n",
      "[125]\tvalidation_0-auc:0.993605\tvalidation_1-auc:0.983524\n",
      "[126]\tvalidation_0-auc:0.99364\tvalidation_1-auc:0.983528\n",
      "[127]\tvalidation_0-auc:0.99367\tvalidation_1-auc:0.983543\n",
      "[128]\tvalidation_0-auc:0.993704\tvalidation_1-auc:0.983552\n",
      "[129]\tvalidation_0-auc:0.993739\tvalidation_1-auc:0.983558\n",
      "[130]\tvalidation_0-auc:0.993772\tvalidation_1-auc:0.983568\n",
      "[131]\tvalidation_0-auc:0.993797\tvalidation_1-auc:0.98357\n",
      "[132]\tvalidation_0-auc:0.993833\tvalidation_1-auc:0.983582\n",
      "[133]\tvalidation_0-auc:0.993859\tvalidation_1-auc:0.983585\n",
      "[134]\tvalidation_0-auc:0.993891\tvalidation_1-auc:0.983592\n",
      "[135]\tvalidation_0-auc:0.99392\tvalidation_1-auc:0.983609\n",
      "[136]\tvalidation_0-auc:0.99395\tvalidation_1-auc:0.983615\n",
      "[137]\tvalidation_0-auc:0.99398\tvalidation_1-auc:0.983625\n",
      "[138]\tvalidation_0-auc:0.994007\tvalidation_1-auc:0.983628\n",
      "[139]\tvalidation_0-auc:0.994036\tvalidation_1-auc:0.983622\n",
      "[140]\tvalidation_0-auc:0.994084\tvalidation_1-auc:0.983625\n",
      "[141]\tvalidation_0-auc:0.994117\tvalidation_1-auc:0.983633\n"
     ]
    },
    {
     "name": "stdout",
     "output_type": "stream",
     "text": [
      "[142]\tvalidation_0-auc:0.994148\tvalidation_1-auc:0.983634\n",
      "[143]\tvalidation_0-auc:0.994171\tvalidation_1-auc:0.98363\n",
      "[144]\tvalidation_0-auc:0.994192\tvalidation_1-auc:0.98364\n",
      "[145]\tvalidation_0-auc:0.994223\tvalidation_1-auc:0.983651\n",
      "[146]\tvalidation_0-auc:0.994248\tvalidation_1-auc:0.983661\n",
      "[147]\tvalidation_0-auc:0.994265\tvalidation_1-auc:0.983668\n",
      "[148]\tvalidation_0-auc:0.994291\tvalidation_1-auc:0.983684\n",
      "[149]\tvalidation_0-auc:0.994324\tvalidation_1-auc:0.983684\n",
      "[150]\tvalidation_0-auc:0.994349\tvalidation_1-auc:0.983689\n",
      "[151]\tvalidation_0-auc:0.99438\tvalidation_1-auc:0.983688\n",
      "[152]\tvalidation_0-auc:0.994408\tvalidation_1-auc:0.9837\n",
      "[153]\tvalidation_0-auc:0.994433\tvalidation_1-auc:0.983717\n",
      "[154]\tvalidation_0-auc:0.994455\tvalidation_1-auc:0.983737\n",
      "[155]\tvalidation_0-auc:0.994473\tvalidation_1-auc:0.983743\n",
      "[156]\tvalidation_0-auc:0.994497\tvalidation_1-auc:0.983766\n",
      "[157]\tvalidation_0-auc:0.994528\tvalidation_1-auc:0.983769\n",
      "[158]\tvalidation_0-auc:0.994552\tvalidation_1-auc:0.983777\n",
      "[159]\tvalidation_0-auc:0.994574\tvalidation_1-auc:0.983781\n",
      "[160]\tvalidation_0-auc:0.994582\tvalidation_1-auc:0.983787\n",
      "[161]\tvalidation_0-auc:0.9946\tvalidation_1-auc:0.983788\n",
      "[162]\tvalidation_0-auc:0.994631\tvalidation_1-auc:0.983794\n",
      "[163]\tvalidation_0-auc:0.994652\tvalidation_1-auc:0.983821\n",
      "[164]\tvalidation_0-auc:0.994661\tvalidation_1-auc:0.983831\n",
      "[165]\tvalidation_0-auc:0.994672\tvalidation_1-auc:0.983839\n",
      "[166]\tvalidation_0-auc:0.994681\tvalidation_1-auc:0.983855\n",
      "[167]\tvalidation_0-auc:0.99469\tvalidation_1-auc:0.983862\n",
      "[168]\tvalidation_0-auc:0.994703\tvalidation_1-auc:0.983866\n",
      "[169]\tvalidation_0-auc:0.994716\tvalidation_1-auc:0.983865\n",
      "[170]\tvalidation_0-auc:0.994723\tvalidation_1-auc:0.983869\n",
      "[171]\tvalidation_0-auc:0.994734\tvalidation_1-auc:0.983869\n",
      "[172]\tvalidation_0-auc:0.994739\tvalidation_1-auc:0.983873\n",
      "[173]\tvalidation_0-auc:0.994754\tvalidation_1-auc:0.983881\n",
      "[174]\tvalidation_0-auc:0.994767\tvalidation_1-auc:0.983888\n",
      "[175]\tvalidation_0-auc:0.994772\tvalidation_1-auc:0.983891\n",
      "[176]\tvalidation_0-auc:0.994776\tvalidation_1-auc:0.983894\n",
      "[177]\tvalidation_0-auc:0.994788\tvalidation_1-auc:0.98389\n",
      "[178]\tvalidation_0-auc:0.994805\tvalidation_1-auc:0.983886\n",
      "[179]\tvalidation_0-auc:0.994819\tvalidation_1-auc:0.983888\n",
      "[180]\tvalidation_0-auc:0.994832\tvalidation_1-auc:0.983891\n",
      "[181]\tvalidation_0-auc:0.994844\tvalidation_1-auc:0.983894\n",
      "[182]\tvalidation_0-auc:0.994868\tvalidation_1-auc:0.983898\n",
      "[183]\tvalidation_0-auc:0.99488\tvalidation_1-auc:0.9839\n",
      "[184]\tvalidation_0-auc:0.9949\tvalidation_1-auc:0.983902\n",
      "[185]\tvalidation_0-auc:0.994914\tvalidation_1-auc:0.983907\n",
      "[186]\tvalidation_0-auc:0.994925\tvalidation_1-auc:0.983912\n",
      "[187]\tvalidation_0-auc:0.994932\tvalidation_1-auc:0.983915\n",
      "[188]\tvalidation_0-auc:0.994937\tvalidation_1-auc:0.983919\n",
      "[189]\tvalidation_0-auc:0.994944\tvalidation_1-auc:0.98392\n",
      "[190]\tvalidation_0-auc:0.994969\tvalidation_1-auc:0.983918\n",
      "[191]\tvalidation_0-auc:0.994982\tvalidation_1-auc:0.983922\n",
      "[192]\tvalidation_0-auc:0.99499\tvalidation_1-auc:0.983929\n",
      "[193]\tvalidation_0-auc:0.995\tvalidation_1-auc:0.983934\n",
      "[194]\tvalidation_0-auc:0.995019\tvalidation_1-auc:0.983947\n",
      "[195]\tvalidation_0-auc:0.995028\tvalidation_1-auc:0.983948\n",
      "[196]\tvalidation_0-auc:0.995041\tvalidation_1-auc:0.983959\n",
      "[197]\tvalidation_0-auc:0.995049\tvalidation_1-auc:0.98396\n",
      "[198]\tvalidation_0-auc:0.995077\tvalidation_1-auc:0.983961\n",
      "[199]\tvalidation_0-auc:0.995093\tvalidation_1-auc:0.983963\n",
      "[200]\tvalidation_0-auc:0.995113\tvalidation_1-auc:0.983957\n",
      "[201]\tvalidation_0-auc:0.995153\tvalidation_1-auc:0.983962\n",
      "[202]\tvalidation_0-auc:0.995167\tvalidation_1-auc:0.983971\n",
      "[203]\tvalidation_0-auc:0.995202\tvalidation_1-auc:0.983972\n",
      "[204]\tvalidation_0-auc:0.995244\tvalidation_1-auc:0.983981\n",
      "[205]\tvalidation_0-auc:0.995253\tvalidation_1-auc:0.98398\n",
      "[206]\tvalidation_0-auc:0.995283\tvalidation_1-auc:0.983973\n",
      "[207]\tvalidation_0-auc:0.995303\tvalidation_1-auc:0.983977\n",
      "[208]\tvalidation_0-auc:0.995308\tvalidation_1-auc:0.983977\n",
      "[209]\tvalidation_0-auc:0.99532\tvalidation_1-auc:0.983981\n",
      "[210]\tvalidation_0-auc:0.995355\tvalidation_1-auc:0.983992\n",
      "[211]\tvalidation_0-auc:0.995373\tvalidation_1-auc:0.983984\n",
      "[212]\tvalidation_0-auc:0.995396\tvalidation_1-auc:0.983987\n",
      "[213]\tvalidation_0-auc:0.995423\tvalidation_1-auc:0.983983\n",
      "[214]\tvalidation_0-auc:0.995437\tvalidation_1-auc:0.983985\n",
      "[215]\tvalidation_0-auc:0.995466\tvalidation_1-auc:0.98399\n",
      "[216]\tvalidation_0-auc:0.995474\tvalidation_1-auc:0.983991\n",
      "[217]\tvalidation_0-auc:0.995499\tvalidation_1-auc:0.983996\n",
      "[218]\tvalidation_0-auc:0.995519\tvalidation_1-auc:0.983995\n",
      "[219]\tvalidation_0-auc:0.995525\tvalidation_1-auc:0.983995\n",
      "[220]\tvalidation_0-auc:0.995542\tvalidation_1-auc:0.983995\n",
      "[221]\tvalidation_0-auc:0.995562\tvalidation_1-auc:0.983998\n",
      "[222]\tvalidation_0-auc:0.995571\tvalidation_1-auc:0.984006\n",
      "[223]\tvalidation_0-auc:0.99558\tvalidation_1-auc:0.984008\n",
      "[224]\tvalidation_0-auc:0.995601\tvalidation_1-auc:0.984014\n",
      "[225]\tvalidation_0-auc:0.995615\tvalidation_1-auc:0.984018\n",
      "[226]\tvalidation_0-auc:0.995626\tvalidation_1-auc:0.984019\n",
      "[227]\tvalidation_0-auc:0.995643\tvalidation_1-auc:0.984017\n",
      "[228]\tvalidation_0-auc:0.99565\tvalidation_1-auc:0.98402\n",
      "[229]\tvalidation_0-auc:0.995667\tvalidation_1-auc:0.984016\n",
      "[230]\tvalidation_0-auc:0.995693\tvalidation_1-auc:0.98402\n",
      "[231]\tvalidation_0-auc:0.995702\tvalidation_1-auc:0.984016\n",
      "[232]\tvalidation_0-auc:0.995708\tvalidation_1-auc:0.984016\n",
      "[233]\tvalidation_0-auc:0.995723\tvalidation_1-auc:0.984022\n",
      "[234]\tvalidation_0-auc:0.995736\tvalidation_1-auc:0.98403\n",
      "[235]\tvalidation_0-auc:0.995754\tvalidation_1-auc:0.984027\n",
      "[236]\tvalidation_0-auc:0.995757\tvalidation_1-auc:0.984028\n",
      "[237]\tvalidation_0-auc:0.995767\tvalidation_1-auc:0.984025\n",
      "[238]\tvalidation_0-auc:0.995777\tvalidation_1-auc:0.98403\n",
      "[239]\tvalidation_0-auc:0.995802\tvalidation_1-auc:0.984033\n",
      "[240]\tvalidation_0-auc:0.995819\tvalidation_1-auc:0.984028\n",
      "[241]\tvalidation_0-auc:0.995834\tvalidation_1-auc:0.984029\n",
      "[242]\tvalidation_0-auc:0.995859\tvalidation_1-auc:0.984031\n",
      "[243]\tvalidation_0-auc:0.995872\tvalidation_1-auc:0.984036\n",
      "[244]\tvalidation_0-auc:0.995885\tvalidation_1-auc:0.984038\n",
      "[245]\tvalidation_0-auc:0.995893\tvalidation_1-auc:0.984042\n",
      "[246]\tvalidation_0-auc:0.995933\tvalidation_1-auc:0.984036\n",
      "[247]\tvalidation_0-auc:0.995947\tvalidation_1-auc:0.984039\n",
      "[248]\tvalidation_0-auc:0.99596\tvalidation_1-auc:0.98404\n",
      "[249]\tvalidation_0-auc:0.995985\tvalidation_1-auc:0.984036\n",
      "[250]\tvalidation_0-auc:0.996015\tvalidation_1-auc:0.984044\n",
      "[251]\tvalidation_0-auc:0.996025\tvalidation_1-auc:0.984045\n",
      "[252]\tvalidation_0-auc:0.996057\tvalidation_1-auc:0.984046\n",
      "[253]\tvalidation_0-auc:0.996074\tvalidation_1-auc:0.984049\n",
      "[254]\tvalidation_0-auc:0.996089\tvalidation_1-auc:0.984049\n",
      "[255]\tvalidation_0-auc:0.996095\tvalidation_1-auc:0.984049\n",
      "[256]\tvalidation_0-auc:0.996111\tvalidation_1-auc:0.984051\n",
      "[257]\tvalidation_0-auc:0.996127\tvalidation_1-auc:0.984048\n",
      "[258]\tvalidation_0-auc:0.996138\tvalidation_1-auc:0.984041\n",
      "[259]\tvalidation_0-auc:0.996155\tvalidation_1-auc:0.984047\n",
      "[260]\tvalidation_0-auc:0.996171\tvalidation_1-auc:0.984041\n",
      "[261]\tvalidation_0-auc:0.996176\tvalidation_1-auc:0.984043\n",
      "[262]\tvalidation_0-auc:0.996191\tvalidation_1-auc:0.984045\n",
      "[263]\tvalidation_0-auc:0.996217\tvalidation_1-auc:0.98404\n",
      "[264]\tvalidation_0-auc:0.996234\tvalidation_1-auc:0.984038\n",
      "[265]\tvalidation_0-auc:0.996247\tvalidation_1-auc:0.984034\n",
      "[266]\tvalidation_0-auc:0.996269\tvalidation_1-auc:0.984035\n",
      "[267]\tvalidation_0-auc:0.996288\tvalidation_1-auc:0.984032\n",
      "[268]\tvalidation_0-auc:0.996296\tvalidation_1-auc:0.984029\n",
      "[269]\tvalidation_0-auc:0.996305\tvalidation_1-auc:0.984031\n",
      "[270]\tvalidation_0-auc:0.996316\tvalidation_1-auc:0.984028\n",
      "[271]\tvalidation_0-auc:0.996349\tvalidation_1-auc:0.984045\n",
      "[272]\tvalidation_0-auc:0.996356\tvalidation_1-auc:0.984047\n",
      "[273]\tvalidation_0-auc:0.996368\tvalidation_1-auc:0.984049\n",
      "[274]\tvalidation_0-auc:0.996379\tvalidation_1-auc:0.984051\n",
      "[275]\tvalidation_0-auc:0.996414\tvalidation_1-auc:0.984041\n",
      "[276]\tvalidation_0-auc:0.996424\tvalidation_1-auc:0.984045\n",
      "[277]\tvalidation_0-auc:0.996429\tvalidation_1-auc:0.984044\n",
      "[278]\tvalidation_0-auc:0.996435\tvalidation_1-auc:0.984047\n",
      "[279]\tvalidation_0-auc:0.996441\tvalidation_1-auc:0.984045\n",
      "[280]\tvalidation_0-auc:0.996446\tvalidation_1-auc:0.984042\n",
      "[281]\tvalidation_0-auc:0.996486\tvalidation_1-auc:0.984046\n",
      "[282]\tvalidation_0-auc:0.996511\tvalidation_1-auc:0.984047\n",
      "[283]\tvalidation_0-auc:0.996528\tvalidation_1-auc:0.984044\n"
     ]
    },
    {
     "name": "stdout",
     "output_type": "stream",
     "text": [
      "[284]\tvalidation_0-auc:0.996536\tvalidation_1-auc:0.984043\n",
      "[285]\tvalidation_0-auc:0.996542\tvalidation_1-auc:0.984045\n",
      "[286]\tvalidation_0-auc:0.996564\tvalidation_1-auc:0.984048\n",
      "[287]\tvalidation_0-auc:0.996584\tvalidation_1-auc:0.984044\n",
      "[288]\tvalidation_0-auc:0.99662\tvalidation_1-auc:0.984044\n",
      "[289]\tvalidation_0-auc:0.996632\tvalidation_1-auc:0.984039\n",
      "[290]\tvalidation_0-auc:0.996637\tvalidation_1-auc:0.984038\n",
      "[291]\tvalidation_0-auc:0.996654\tvalidation_1-auc:0.984045\n",
      "[292]\tvalidation_0-auc:0.996678\tvalidation_1-auc:0.984042\n",
      "[293]\tvalidation_0-auc:0.996706\tvalidation_1-auc:0.984042\n",
      "[294]\tvalidation_0-auc:0.996716\tvalidation_1-auc:0.984037\n",
      "[295]\tvalidation_0-auc:0.996731\tvalidation_1-auc:0.984038\n",
      "[296]\tvalidation_0-auc:0.996736\tvalidation_1-auc:0.984042\n",
      "[297]\tvalidation_0-auc:0.996768\tvalidation_1-auc:0.984041\n",
      "[298]\tvalidation_0-auc:0.996808\tvalidation_1-auc:0.984048\n",
      "[299]\tvalidation_0-auc:0.996818\tvalidation_1-auc:0.984047\n",
      "[300]\tvalidation_0-auc:0.996838\tvalidation_1-auc:0.984044\n",
      "[301]\tvalidation_0-auc:0.996845\tvalidation_1-auc:0.984045\n",
      "[302]\tvalidation_0-auc:0.996855\tvalidation_1-auc:0.984044\n",
      "[303]\tvalidation_0-auc:0.996884\tvalidation_1-auc:0.984041\n",
      "[304]\tvalidation_0-auc:0.996892\tvalidation_1-auc:0.984046\n",
      "[305]\tvalidation_0-auc:0.99691\tvalidation_1-auc:0.984049\n",
      "[306]\tvalidation_0-auc:0.996919\tvalidation_1-auc:0.984051\n",
      "[307]\tvalidation_0-auc:0.996925\tvalidation_1-auc:0.984047\n",
      "[308]\tvalidation_0-auc:0.996945\tvalidation_1-auc:0.984055\n",
      "[309]\tvalidation_0-auc:0.996952\tvalidation_1-auc:0.984052\n",
      "[310]\tvalidation_0-auc:0.99696\tvalidation_1-auc:0.984047\n",
      "[311]\tvalidation_0-auc:0.997\tvalidation_1-auc:0.984045\n",
      "[312]\tvalidation_0-auc:0.997026\tvalidation_1-auc:0.984043\n",
      "[313]\tvalidation_0-auc:0.997041\tvalidation_1-auc:0.984037\n",
      "[314]\tvalidation_0-auc:0.997055\tvalidation_1-auc:0.984037\n",
      "[315]\tvalidation_0-auc:0.997058\tvalidation_1-auc:0.984036\n",
      "[316]\tvalidation_0-auc:0.997072\tvalidation_1-auc:0.984033\n",
      "[317]\tvalidation_0-auc:0.997075\tvalidation_1-auc:0.984039\n",
      "[318]\tvalidation_0-auc:0.997083\tvalidation_1-auc:0.984041\n",
      "[319]\tvalidation_0-auc:0.997104\tvalidation_1-auc:0.984051\n",
      "[320]\tvalidation_0-auc:0.997114\tvalidation_1-auc:0.984053\n",
      "[321]\tvalidation_0-auc:0.99713\tvalidation_1-auc:0.984049\n",
      "[322]\tvalidation_0-auc:0.997132\tvalidation_1-auc:0.984049\n",
      "[323]\tvalidation_0-auc:0.997143\tvalidation_1-auc:0.984047\n",
      "[324]\tvalidation_0-auc:0.997181\tvalidation_1-auc:0.984043\n",
      "[325]\tvalidation_0-auc:0.997192\tvalidation_1-auc:0.984043\n",
      "[326]\tvalidation_0-auc:0.997198\tvalidation_1-auc:0.984041\n",
      "[327]\tvalidation_0-auc:0.997205\tvalidation_1-auc:0.984039\n",
      "[328]\tvalidation_0-auc:0.99723\tvalidation_1-auc:0.984037\n",
      "[329]\tvalidation_0-auc:0.99724\tvalidation_1-auc:0.984042\n",
      "[330]\tvalidation_0-auc:0.997255\tvalidation_1-auc:0.984034\n",
      "[331]\tvalidation_0-auc:0.997281\tvalidation_1-auc:0.984038\n",
      "[332]\tvalidation_0-auc:0.997287\tvalidation_1-auc:0.984039\n",
      "[333]\tvalidation_0-auc:0.997297\tvalidation_1-auc:0.984038\n",
      "[334]\tvalidation_0-auc:0.997315\tvalidation_1-auc:0.984035\n",
      "[335]\tvalidation_0-auc:0.997325\tvalidation_1-auc:0.984033\n",
      "[336]\tvalidation_0-auc:0.997331\tvalidation_1-auc:0.984036\n",
      "[337]\tvalidation_0-auc:0.997345\tvalidation_1-auc:0.984041\n",
      "[338]\tvalidation_0-auc:0.997351\tvalidation_1-auc:0.98404\n",
      "[339]\tvalidation_0-auc:0.997367\tvalidation_1-auc:0.984039\n",
      "[340]\tvalidation_0-auc:0.997376\tvalidation_1-auc:0.984042\n",
      "[341]\tvalidation_0-auc:0.997379\tvalidation_1-auc:0.984043\n",
      "[342]\tvalidation_0-auc:0.997392\tvalidation_1-auc:0.98404\n",
      "[343]\tvalidation_0-auc:0.9974\tvalidation_1-auc:0.984038\n",
      "[344]\tvalidation_0-auc:0.997428\tvalidation_1-auc:0.984044\n",
      "[345]\tvalidation_0-auc:0.997445\tvalidation_1-auc:0.984047\n",
      "[346]\tvalidation_0-auc:0.997448\tvalidation_1-auc:0.984042\n",
      "[347]\tvalidation_0-auc:0.997457\tvalidation_1-auc:0.984043\n",
      "[348]\tvalidation_0-auc:0.997473\tvalidation_1-auc:0.984051\n",
      "[349]\tvalidation_0-auc:0.997484\tvalidation_1-auc:0.984044\n",
      "[350]\tvalidation_0-auc:0.997502\tvalidation_1-auc:0.984045\n",
      "[351]\tvalidation_0-auc:0.997506\tvalidation_1-auc:0.984042\n",
      "[352]\tvalidation_0-auc:0.997521\tvalidation_1-auc:0.984043\n",
      "[353]\tvalidation_0-auc:0.99754\tvalidation_1-auc:0.984048\n",
      "[354]\tvalidation_0-auc:0.997552\tvalidation_1-auc:0.984047\n",
      "[355]\tvalidation_0-auc:0.997568\tvalidation_1-auc:0.98405\n",
      "[356]\tvalidation_0-auc:0.997572\tvalidation_1-auc:0.984053\n",
      "[357]\tvalidation_0-auc:0.997592\tvalidation_1-auc:0.98405\n",
      "[358]\tvalidation_0-auc:0.99761\tvalidation_1-auc:0.984042\n",
      "[359]\tvalidation_0-auc:0.997617\tvalidation_1-auc:0.984044\n",
      "[360]\tvalidation_0-auc:0.997631\tvalidation_1-auc:0.984037\n",
      "[361]\tvalidation_0-auc:0.997642\tvalidation_1-auc:0.98403\n",
      "[362]\tvalidation_0-auc:0.997646\tvalidation_1-auc:0.984029\n",
      "[363]\tvalidation_0-auc:0.997653\tvalidation_1-auc:0.984028\n",
      "[364]\tvalidation_0-auc:0.997673\tvalidation_1-auc:0.984032\n",
      "[365]\tvalidation_0-auc:0.997689\tvalidation_1-auc:0.984031\n",
      "[366]\tvalidation_0-auc:0.997698\tvalidation_1-auc:0.984034\n",
      "[367]\tvalidation_0-auc:0.997707\tvalidation_1-auc:0.984028\n",
      "[368]\tvalidation_0-auc:0.997715\tvalidation_1-auc:0.984022\n",
      "[369]\tvalidation_0-auc:0.997743\tvalidation_1-auc:0.98402\n",
      "[370]\tvalidation_0-auc:0.997755\tvalidation_1-auc:0.984022\n",
      "[371]\tvalidation_0-auc:0.997768\tvalidation_1-auc:0.984021\n",
      "[372]\tvalidation_0-auc:0.997781\tvalidation_1-auc:0.98402\n",
      "[373]\tvalidation_0-auc:0.997782\tvalidation_1-auc:0.984021\n",
      "[374]\tvalidation_0-auc:0.997792\tvalidation_1-auc:0.984015\n",
      "[375]\tvalidation_0-auc:0.997808\tvalidation_1-auc:0.984022\n",
      "[376]\tvalidation_0-auc:0.997814\tvalidation_1-auc:0.984022\n",
      "[377]\tvalidation_0-auc:0.997832\tvalidation_1-auc:0.984018\n",
      "[378]\tvalidation_0-auc:0.997839\tvalidation_1-auc:0.984012\n",
      "[379]\tvalidation_0-auc:0.997847\tvalidation_1-auc:0.984013\n",
      "[380]\tvalidation_0-auc:0.997865\tvalidation_1-auc:0.984017\n",
      "[381]\tvalidation_0-auc:0.997876\tvalidation_1-auc:0.984012\n",
      "[382]\tvalidation_0-auc:0.997877\tvalidation_1-auc:0.984011\n",
      "[383]\tvalidation_0-auc:0.997901\tvalidation_1-auc:0.984014\n",
      "[384]\tvalidation_0-auc:0.997911\tvalidation_1-auc:0.984012\n",
      "[385]\tvalidation_0-auc:0.99792\tvalidation_1-auc:0.984012\n",
      "[386]\tvalidation_0-auc:0.997927\tvalidation_1-auc:0.984015\n",
      "[387]\tvalidation_0-auc:0.997942\tvalidation_1-auc:0.984025\n",
      "[388]\tvalidation_0-auc:0.997947\tvalidation_1-auc:0.984026\n",
      "[389]\tvalidation_0-auc:0.99795\tvalidation_1-auc:0.984027\n",
      "[390]\tvalidation_0-auc:0.997965\tvalidation_1-auc:0.984029\n",
      "[391]\tvalidation_0-auc:0.997983\tvalidation_1-auc:0.984034\n",
      "[392]\tvalidation_0-auc:0.997985\tvalidation_1-auc:0.984035\n",
      "[393]\tvalidation_0-auc:0.997996\tvalidation_1-auc:0.984027\n",
      "[394]\tvalidation_0-auc:0.998014\tvalidation_1-auc:0.984023\n",
      "[395]\tvalidation_0-auc:0.998023\tvalidation_1-auc:0.984017\n",
      "[396]\tvalidation_0-auc:0.998043\tvalidation_1-auc:0.984017\n",
      "[397]\tvalidation_0-auc:0.998048\tvalidation_1-auc:0.984015\n",
      "[398]\tvalidation_0-auc:0.998055\tvalidation_1-auc:0.984014\n",
      "[399]\tvalidation_0-auc:0.998066\tvalidation_1-auc:0.984016\n",
      "[400]\tvalidation_0-auc:0.998071\tvalidation_1-auc:0.984015\n",
      "[401]\tvalidation_0-auc:0.998076\tvalidation_1-auc:0.984009\n",
      "[402]\tvalidation_0-auc:0.998082\tvalidation_1-auc:0.984006\n",
      "[403]\tvalidation_0-auc:0.998088\tvalidation_1-auc:0.984006\n",
      "[404]\tvalidation_0-auc:0.998111\tvalidation_1-auc:0.984009\n",
      "[405]\tvalidation_0-auc:0.998136\tvalidation_1-auc:0.984003\n",
      "[406]\tvalidation_0-auc:0.998145\tvalidation_1-auc:0.984003\n",
      "[407]\tvalidation_0-auc:0.998158\tvalidation_1-auc:0.983999\n",
      "[408]\tvalidation_0-auc:0.99816\tvalidation_1-auc:0.983996\n",
      "Stopping. Best iteration:\n",
      "[308]\tvalidation_0-auc:0.996945\tvalidation_1-auc:0.984055\n",
      "\n"
     ]
    },
    {
     "data": {
      "text/plain": [
       "XGBClassifier(base_score=0.5, booster='gbtree', colsample_bylevel=1,\n",
       "       colsample_bytree=0.87, gamma=0.2, learning_rate=0.03,\n",
       "       max_delta_step=0, max_depth=10, min_child_weight=5, missing=None,\n",
       "       n_estimators=20000, n_jobs=-1, nthread=None,\n",
       "       objective='binary:logistic', random_state=0, reg_alpha=0,\n",
       "       reg_lambda=1, scale_pos_weight=1, seed=420, silent=True,\n",
       "       subsample=0.82)"
      ]
     },
     "execution_count": 64,
     "metadata": {},
     "output_type": "execute_result"
    }
   ],
   "source": [
    "models.fit(train_x, train_y, eval_metric=['auc'], early_stopping_rounds=100,\n",
    "           eval_set=[(train_x, train_y), (test_x, test_y)])\n"
   ]
  },
  {
   "cell_type": "code",
   "execution_count": 42,
   "metadata": {},
   "outputs": [],
   "source": [
    "feature_selected = [x for x,y in sorted(zip(train_x.columns.values, models.feature_importances_), \n",
    "                     key=lambda x: x[1], reverse=True) if y>0]\n"
   ]
  },
  {
   "cell_type": "code",
   "execution_count": 66,
   "metadata": {},
   "outputs": [
    {
     "data": {
      "text/plain": [
       "[('y_entry_19', 0.10096904),\n",
       " ('x_entry_19', 0.038991664),\n",
       " ('y_entry_18', 0.024488797),\n",
       " ('duration_19', 0.022922177),\n",
       " ('y_exit_18', 0.019942867),\n",
       " ('y_entry_2', 0.015547923),\n",
       " ('entry_hour_19', 0.014663386),\n",
       " ('y_exit_1', 0.012257992),\n",
       " ('y_exit_0', 0.0102666),\n",
       " ('x_exit_18', 0.0098255025),\n",
       " ('x_exit_9', 0.00720055),\n",
       " ('y_entry_1', 0.006573375),\n",
       " ('y_exit_2', 0.0059630927),\n",
       " ('y_entry_8', 0.005912143),\n",
       " ('y_entry_6', 0.0058701728),\n",
       " ('exit_hour_quarter_1', 0.005706703),\n",
       " ('y_entry_0', 0.005680445),\n",
       " ('y_exit_9', 0.005580068),\n",
       " ('x_exit_2', 0.0054984167),\n",
       " ('entry_hour_5', 0.0053022564),\n",
       " ('x_exit_6', 0.005152616),\n",
       " ('x_entry_1', 0.005135173),\n",
       " ('x_exit_1', 0.0049819807),\n",
       " ('x_entry_11', 0.0049576005),\n",
       " ('x_exit_3', 0.0049458733),\n",
       " ('x_entry_8', 0.004873053),\n",
       " ('y_entry_3', 0.0047189128),\n",
       " ('x_exit_11', 0.0046945093),\n",
       " ('y_entry_4', 0.0043952013),\n",
       " ('exit_hour_7', 0.004375856),\n",
       " ('x_entry_2', 0.0043409057),\n",
       " ('x_exit_5', 0.0043303426),\n",
       " ('y_entry_7', 0.0043128654),\n",
       " ('vmin_9', 0.0042873067),\n",
       " ('y_entry_9', 0.0042506894),\n",
       " ('x_entry_3', 0.0042051272),\n",
       " ('y_exit_17', 0.0040761586),\n",
       " ('x_entry_12', 0.0040600793),\n",
       " ('x_entry_4', 0.004057975),\n",
       " ('exit_hour_4', 0.0039585982),\n",
       " ('x_exit_7', 0.0039250874),\n",
       " ('distance_18', 0.0039182296),\n",
       " ('y_exit_7', 0.0038535458),\n",
       " ('y_entry_10', 0.0038378742),\n",
       " ('x_entry_7', 0.0037629113),\n",
       " ('y_entry_12', 0.0037598228),\n",
       " ('vmin_10', 0.0036827335),\n",
       " ('x_entry_5', 0.0036505891),\n",
       " ('entry_hour_4', 0.0036186592),\n",
       " ('vmean_17', 0.003545945),\n",
       " ('y_exit_16', 0.0035089198),\n",
       " ('x_entry_0', 0.0034865136),\n",
       " ('vmax_9', 0.0034736572),\n",
       " ('x_entry_6', 0.0034485357),\n",
       " ('x_exit_8', 0.0034252184),\n",
       " ('x_entry_13', 0.0034114583),\n",
       " ('exit_hour_6', 0.0033429416),\n",
       " ('y_exit_8', 0.003337668),\n",
       " ('x_exit_0', 0.0033283299),\n",
       " ('y_entry_5', 0.0032947692),\n",
       " ('vmean_7', 0.0032856),\n",
       " ('y_exit_6', 0.0032806522),\n",
       " ('vmean_14', 0.0032088764),\n",
       " ('x_entry_18', 0.003194511),\n",
       " ('y_exit_12', 0.0031943119),\n",
       " ('y_exit_13', 0.0031738158),\n",
       " ('y_exit_11', 0.0031694025),\n",
       " ('vmean_9', 0.0031410574),\n",
       " ('entry_minute_19', 0.0031398966),\n",
       " ('y_exit_4', 0.0030617826),\n",
       " ('y_entry_14', 0.0030597707),\n",
       " ('exit_hour_9', 0.003052289),\n",
       " ('y_entry_16', 0.003050199),\n",
       " ('y_exit_10', 0.0030183175),\n",
       " ('x_exit_4', 0.0030072057),\n",
       " ('y_entry_11', 0.0030057456),\n",
       " ('y_exit_15', 0.002980673),\n",
       " ('x_exit_12', 0.0029750161),\n",
       " ('vmean_16', 0.0029714466),\n",
       " ('x_entry_10', 0.0029448175),\n",
       " ('y_entry_17', 0.0029155565),\n",
       " ('x_entry_14', 0.0029027776),\n",
       " ('y_exit_5', 0.002859159),\n",
       " ('vmean_10', 0.0028577957),\n",
       " ('entry_second_2', 0.0028519132),\n",
       " ('x_entry_15', 0.002831849),\n",
       " ('vmean_18', 0.0028301526),\n",
       " ('y_entry_15', 0.0028209859),\n",
       " ('vmin_17', 0.0028132424),\n",
       " ('vmax_14', 0.0028038623),\n",
       " ('x_entry_16', 0.0027883356),\n",
       " ('exit_hour_10', 0.0027772465),\n",
       " ('x_exit_17', 0.0027741436),\n",
       " ('y_exit_14', 0.002771145),\n",
       " ('y_entry_13', 0.002759535),\n",
       " ('x_entry_17', 0.0027510575),\n",
       " ('x_entry_9', 0.0027305894),\n",
       " ('exit_minute_3', 0.0027110665),\n",
       " ('x_exit_16', 0.0026632862),\n",
       " ('vmax_11', 0.002612013),\n",
       " ('entry_hour_6', 0.0025896067),\n",
       " ('y_exit_3', 0.0025862064),\n",
       " ('x_exit_13', 0.0025834048),\n",
       " ('exit_minute_19', 0.0025777777),\n",
       " ('distance_12', 0.0025766904),\n",
       " ('vmin_14', 0.002556972),\n",
       " ('duration_4', 0.0025463048),\n",
       " ('vmean_15', 0.0025115712),\n",
       " ('exit_hour_14', 0.002508944),\n",
       " ('x_exit_14', 0.002491339),\n",
       " ('exit_hour_13', 0.0024741883),\n",
       " ('entry_hour_8', 0.0024728074),\n",
       " ('x_exit_10', 0.0024600942),\n",
       " ('vmean_12', 0.0024551186),\n",
       " ('duration_14', 0.0024465115),\n",
       " ('entry_hour_10', 0.002430419),\n",
       " ('exit_hour_11', 0.0024126244),\n",
       " ('speed_16', 0.0023932182),\n",
       " ('distance_16', 0.0023900224),\n",
       " ('speed_14', 0.0023818915),\n",
       " ('exit_hour_quarter_0', 0.0023736814),\n",
       " ('x_exit_15', 0.0023702686),\n",
       " ('duration_18', 0.002363824),\n",
       " ('vmin_15', 0.002356588),\n",
       " ('exit_hour_3', 0.0023481252),\n",
       " ('distance_17', 0.0023425065),\n",
       " ('vmax_6', 0.0023332434),\n",
       " ('duration_2', 0.002331368),\n",
       " ('vmax_17', 0.0023199723),\n",
       " ('distance_14', 0.0023195064),\n",
       " ('duration_9', 0.002319091),\n",
       " ('entry_second_7', 0.0023080679),\n",
       " ('distance_8', 0.0023071985),\n",
       " ('speed_13', 0.002301957),\n",
       " ('exit_hour_12', 0.002292309),\n",
       " ('vmax_18', 0.0022922899),\n",
       " ('entry_second_0', 0.002285624),\n",
       " ('exit_minute_5', 0.0022820611),\n",
       " ('entry_minute_5', 0.002268236),\n",
       " ('vmean_13', 0.0022676461),\n",
       " ('entry_hour_9', 0.002265264),\n",
       " ('distance_7', 0.0022637646),\n",
       " ('exit_minute_0', 0.0022508027),\n",
       " ('speed_6', 0.0022473028),\n",
       " ('speed_18', 0.0022426618),\n",
       " ('vmax_16', 0.0022358182),\n",
       " ('distance_13', 0.002235133),\n",
       " ('vmean_4', 0.0022336917),\n",
       " ('exit_second_3', 0.0022284747),\n",
       " ('vmin_18', 0.0022234994),\n",
       " ('entry_hour_13', 0.0022193573),\n",
       " ('vmax_15', 0.0022117998),\n",
       " ('entry_second_6', 0.0022024352),\n",
       " ('speed_15', 0.0021915003),\n",
       " ('exit_second_1', 0.002191308),\n",
       " ('speed_17', 0.0021908784),\n",
       " ('exit_minute_6', 0.0021874416),\n",
       " ('distance_15', 0.0021861342),\n",
       " ('entry_minute_9', 0.0021846865),\n",
       " ('speed_10', 0.0021839489),\n",
       " ('entry_hour_quarter_1', 0.0021744822),\n",
       " ('vmin_16', 0.0021740007),\n",
       " ('exit_minute_9', 0.0021731912),\n",
       " ('vmean_11', 0.0021710193),\n",
       " ('duration_15', 0.002169041),\n",
       " ('distance_6', 0.0021665154),\n",
       " ('entry_hour_14', 0.0021598756),\n",
       " ('vmean_6', 0.0021570697),\n",
       " ('entry_hour_17', 0.0021461414),\n",
       " ('duration_7', 0.0021443036),\n",
       " ('exit_second_4', 0.002138602),\n",
       " ('exit_second_2', 0.0021360375),\n",
       " ('duration_11', 0.0021336484),\n",
       " ('exit_second_9', 0.002126753),\n",
       " ('speed_9', 0.0021265578),\n",
       " ('distance_3', 0.0021149833),\n",
       " ('exit_hour_16', 0.0020976872),\n",
       " ('exit_second_6', 0.0020942055),\n",
       " ('entry_hour_11', 0.0020929098),\n",
       " ('entry_hour_quarter_0', 0.0020884513),\n",
       " ('entry_minute_7', 0.0020848662),\n",
       " ('speed_8', 0.0020820252),\n",
       " ('exit_minute_11', 0.0020712647),\n",
       " ('duration_8', 0.002065519),\n",
       " ('speed_11', 0.0020631894),\n",
       " ('entry_hour_18', 0.0020622278),\n",
       " ('entry_minute_6', 0.0020538445),\n",
       " ('entry_hour_1', 0.0020531386),\n",
       " ('entry_hour_12', 0.0020525162),\n",
       " ('exit_minute_18', 0.0020451457),\n",
       " ('distance_10', 0.0020439948),\n",
       " ('duration_12', 0.002042992),\n",
       " ('entry_minute_8', 0.0020403143),\n",
       " ('exit_minute_2', 0.002040025),\n",
       " ('exit_minute_10', 0.0020377508),\n",
       " ('entry_second_10', 0.002033869),\n",
       " ('distance_9', 0.0020329992),\n",
       " ('duration_16', 0.002031633),\n",
       " ('entry_hour_7', 0.0020311226),\n",
       " ('entry_second_11', 0.0020302034),\n",
       " ('exit_second_14', 0.0020292832),\n",
       " ('entry_second_8', 0.0020250678),\n",
       " ('entry_hour_3', 0.002024571),\n",
       " ('entry_second_13', 0.0020241817),\n",
       " ('entry_second_4', 0.002021785),\n",
       " ('entry_minute_4', 0.002013812),\n",
       " ('exit_minute_12', 0.0020130589),\n",
       " ('entry_minute_14', 0.0020068106),\n",
       " ('entry_minute_10', 0.0020045564),\n",
       " ('exit_hour_15', 0.0020043715),\n",
       " ('entry_hour_16', 0.0020041731),\n",
       " ('entry_second_12', 0.0019993759),\n",
       " ('vmin_11', 0.0019981535),\n",
       " ('entry_minute_1', 0.001987137),\n",
       " ('exit_second_13', 0.0019843115),\n",
       " ('exit_minute_13', 0.0019704388),\n",
       " ('exit_minute_15', 0.0019613921),\n",
       " ('duration_13', 0.0019586463),\n",
       " ('duration_17', 0.0019577108),\n",
       " ('vmin_13', 0.0019574778),\n",
       " ('exit_hour_17', 0.0019564268),\n",
       " ('entry_minute_16', 0.0019533117),\n",
       " ('exit_second_16', 0.0019528164),\n",
       " ('entry_hour_2', 0.0019515208),\n",
       " ('entry_hour_0', 0.0019504365),\n",
       " ('entry_second_5', 0.0019501806),\n",
       " ('exit_hour_8', 0.0019462998),\n",
       " ('entry_minute_11', 0.0019455188),\n",
       " ('exit_second_12', 0.0019442057),\n",
       " ('entry_second_16', 0.001944095),\n",
       " ('entry_hour_15', 0.001940639),\n",
       " ('entry_minute_17', 0.0019382315),\n",
       " ('exit_minute_14', 0.0019377435),\n",
       " ('entry_second_14', 0.0019342203),\n",
       " ('exit_hour_18', 0.001926067),\n",
       " ('vmax_13', 0.0019204682),\n",
       " ('entry_second_15', 0.0019166906),\n",
       " ('duration_10', 0.0019166563),\n",
       " ('exit_minute_8', 0.0019147865),\n",
       " ('exit_second_5', 0.0019034793),\n",
       " ('entry_minute_12', 0.001903461),\n",
       " ('exit_second_18', 0.0019001941),\n",
       " ('entry_minute_15', 0.0018988318),\n",
       " ('exit_second_10', 0.0018978717),\n",
       " ('distance_11', 0.0018977175),\n",
       " ('exit_minute_16', 0.0018947629),\n",
       " ('exit_minute_7', 0.0018906983),\n",
       " ('distance_2', 0.0018885853),\n",
       " ('exit_second_15', 0.0018775241),\n",
       " ('exit_minute_4', 0.0018705245),\n",
       " ('exit_minute_17', 0.0018702121),\n",
       " ('entry_second_17', 0.0018697567),\n",
       " ('exit_second_11', 0.0018689489),\n",
       " ('speed_12', 0.0018669459),\n",
       " ('exit_minute_1', 0.0018656089),\n",
       " ('vmax_7', 0.0018564482),\n",
       " ('exit_second_7', 0.001854638),\n",
       " ('entry_minute_13', 0.0018445444),\n",
       " ('exit_second_19', 0.0018332723),\n",
       " ('exit_second_8', 0.0018308528),\n",
       " ('entry_minute_18', 0.0018276243),\n",
       " ('entry_second_9', 0.0018274881),\n",
       " ('entry_minute_3', 0.0018253039),\n",
       " ('entry_second_18', 0.0018244665),\n",
       " ('entry_minute_0', 0.0018082462),\n",
       " ('entry_second_19', 0.0017958216),\n",
       " ('exit_second_17', 0.0017951715),\n",
       " ('duration_6', 0.0017901497),\n",
       " ('entry_second_1', 0.0017513697),\n",
       " ('vmin_12', 0.0017506573),\n",
       " ('vmean_8', 0.0017299475),\n",
       " ('exit_hour_5', 0.0017232173),\n",
       " ('speed_4', 0.0017222097),\n",
       " ('duration_3', 0.0017098167),\n",
       " ('vmin_7', 0.0017023546),\n",
       " ('exit_hour_2', 0.0016973509),\n",
       " ('entry_second_3', 0.0015609768),\n",
       " ('vmin_6', 0.0015471538),\n",
       " ('entry_minute_2', 0.0015434539),\n",
       " ('duration_5', 0.001526539),\n",
       " ('exit_hour_0', 0.0015254224),\n",
       " ('entry_hour_quarter_2', 0.0014947009),\n",
       " ('speed_3', 0.0014684789),\n",
       " ('speed_7', 0.0014429825),\n",
       " ('vmax_10', 0.0014290104),\n",
       " ('vmax_12', 0.0014283751),\n",
       " ('exit_second_0', 0.0013959827),\n",
       " ('vmean_5', 0.0012713327),\n",
       " ('vmax_5', 0.0012484704),\n",
       " ('vmin_8', 0.0011390891),\n",
       " ('vmax_4', 0.00095365394),\n",
       " ('speed_5', 0.00091115944),\n",
       " ('duration_1', 0.00030232852),\n",
       " ('vmax_8', 0.00018609788),\n",
       " ('distance_4', 0.00015424582),\n",
       " ('distance_0', 0.0),\n",
       " ('duration_0', 0.0),\n",
       " ('speed_0', 0.0),\n",
       " ('vmax_0', 0.0),\n",
       " ('vmean_0', 0.0),\n",
       " ('vmin_0', 0.0),\n",
       " ('distance_1', 0.0),\n",
       " ('exit_hour_1', 0.0),\n",
       " ('speed_1', 0.0),\n",
       " ('vmax_1', 0.0),\n",
       " ('vmean_1', 0.0),\n",
       " ('vmin_1', 0.0),\n",
       " ('exit_hour_quarter_2', 0.0),\n",
       " ('speed_2', 0.0),\n",
       " ('vmax_2', 0.0),\n",
       " ('vmean_2', 0.0),\n",
       " ('vmin_2', 0.0),\n",
       " ('entry_hour_quarter_3', 0.0),\n",
       " ('exit_hour_quarter_3', 0.0),\n",
       " ('vmax_3', 0.0),\n",
       " ('vmean_3', 0.0),\n",
       " ('vmin_3', 0.0),\n",
       " ('entry_hour_quarter_4', 0.0),\n",
       " ('exit_hour_quarter_4', 0.0),\n",
       " ('vmin_4', 0.0),\n",
       " ('distance_5', 0.0),\n",
       " ('entry_hour_quarter_5', 0.0),\n",
       " ('exit_hour_quarter_5', 0.0),\n",
       " ('vmin_5', 0.0),\n",
       " ('entry_hour_quarter_6', 0.0),\n",
       " ('exit_hour_quarter_6', 0.0),\n",
       " ('entry_hour_quarter_7', 0.0),\n",
       " ('exit_hour_quarter_7', 0.0),\n",
       " ('entry_hour_quarter_8', 0.0),\n",
       " ('exit_hour_quarter_8', 0.0),\n",
       " ('entry_hour_quarter_9', 0.0),\n",
       " ('exit_hour_quarter_9', 0.0),\n",
       " ('entry_hour_quarter_10', 0.0),\n",
       " ('exit_hour_quarter_10', 0.0),\n",
       " ('entry_hour_quarter_11', 0.0),\n",
       " ('exit_hour_quarter_11', 0.0),\n",
       " ('entry_hour_quarter_12', 0.0),\n",
       " ('exit_hour_quarter_12', 0.0),\n",
       " ('entry_hour_quarter_13', 0.0),\n",
       " ('exit_hour_quarter_13', 0.0),\n",
       " ('entry_hour_quarter_14', 0.0),\n",
       " ('exit_hour_quarter_14', 0.0),\n",
       " ('entry_hour_quarter_15', 0.0),\n",
       " ('exit_hour_quarter_15', 0.0),\n",
       " ('entry_hour_quarter_16', 0.0),\n",
       " ('exit_hour_quarter_16', 0.0),\n",
       " ('entry_hour_quarter_17', 0.0),\n",
       " ('exit_hour_quarter_17', 0.0),\n",
       " ('entry_hour_quarter_18', 0.0),\n",
       " ('exit_hour_quarter_18', 0.0),\n",
       " ('entry_hour_quarter_19', 0.0),\n",
       " ('exit_hour_19', 0.0),\n",
       " ('exit_hour_quarter_19', 0.0)]"
      ]
     },
     "execution_count": 66,
     "metadata": {},
     "output_type": "execute_result"
    }
   ],
   "source": [
    "sorted(zip(train_x.columns.values, models.feature_importances_), key=lambda x: x[1], reverse=True)\n"
   ]
  },
  {
   "cell_type": "code",
   "execution_count": 65,
   "metadata": {},
   "outputs": [
    {
     "name": "stderr",
     "output_type": "stream",
     "text": [
      "/home/ubuntu/anaconda3/envs/python3/lib/python3.6/site-packages/sklearn/preprocessing/label.py:151: DeprecationWarning: The truth value of an empty array is ambiguous. Returning False, but in future this will result in an error. Use `array.size > 0` to check that an array is not empty.\n",
      "  if diff:\n"
     ]
    },
    {
     "data": {
      "text/plain": [
       "0.9419684481408273"
      ]
     },
     "execution_count": 65,
     "metadata": {},
     "output_type": "execute_result"
    }
   ],
   "source": [
    "pred_y = models.predict(test_x)\n",
    "(pred_y==test_y).sum()/test_y.count()"
   ]
  },
  {
   "cell_type": "code",
   "execution_count": 72,
   "metadata": {
    "scrolled": true
   },
   "outputs": [
    {
     "name": "stdout",
     "output_type": "stream",
     "text": [
      "Fitting 4 folds for each of 1 candidates, totalling 4 fits\n",
      "[CV] subsample=0.8 ...................................................\n",
      "[CV] .......... subsample=0.8, score=0.9831463016614883, total=  36.7s\n",
      "[CV] subsample=0.8 ...................................................\n"
     ]
    },
    {
     "name": "stderr",
     "output_type": "stream",
     "text": [
      "[Parallel(n_jobs=1)]: Done   1 out of   1 | elapsed:   37.3s remaining:    0.0s\n"
     ]
    },
    {
     "name": "stdout",
     "output_type": "stream",
     "text": [
      "[CV] .......... subsample=0.8, score=0.9831311762047277, total=  39.4s\n",
      "[CV] subsample=0.8 ...................................................\n"
     ]
    },
    {
     "name": "stderr",
     "output_type": "stream",
     "text": [
      "[Parallel(n_jobs=1)]: Done   2 out of   2 | elapsed:  1.3min remaining:    0.0s\n"
     ]
    },
    {
     "name": "stdout",
     "output_type": "stream",
     "text": [
      "[CV] .......... subsample=0.8, score=0.9834275824803944, total=  35.7s\n",
      "[CV] subsample=0.8 ...................................................\n"
     ]
    },
    {
     "name": "stderr",
     "output_type": "stream",
     "text": [
      "[Parallel(n_jobs=1)]: Done   3 out of   3 | elapsed:  1.9min remaining:    0.0s\n"
     ]
    },
    {
     "name": "stdout",
     "output_type": "stream",
     "text": [
      "[CV] .......... subsample=0.8, score=0.9828726510007434, total=  40.5s\n"
     ]
    },
    {
     "name": "stderr",
     "output_type": "stream",
     "text": [
      "[Parallel(n_jobs=1)]: Done   4 out of   4 | elapsed:  2.6min remaining:    0.0s\n",
      "[Parallel(n_jobs=1)]: Done   4 out of   4 | elapsed:  2.6min finished\n"
     ]
    },
    {
     "data": {
      "text/plain": [
       "GridSearchCV(cv=4, error_score='raise',\n",
       "       estimator=XGBClassifier(base_score=0.5, booster='gbtree', colsample_bylevel=1,\n",
       "       colsample_bytree=0.8, gamma=0, learning_rate=0.03, max_delta_step=0,\n",
       "       max_depth=10, min_child_weight=1, missing=None, n_estimators=262,\n",
       "       n_jobs=-1, nthread=None, objective='binary:logistic',\n",
       "       random_state=0, reg_alpha=0, reg_lambda=1, scale_pos_weight=1,\n",
       "       seed=420, silent=True, subsample=0.8),\n",
       "       fit_params=None, iid=True, n_jobs=1,\n",
       "       param_grid={'subsample': [0.8]}, pre_dispatch='2*n_jobs',\n",
       "       refit=True, return_train_score='warn', scoring='roc_auc',\n",
       "       verbose=10)"
      ]
     },
     "execution_count": 72,
     "metadata": {},
     "output_type": "execute_result"
    }
   ],
   "source": [
    "param_test = {\n",
    "    'subsample': [0.8]\n",
    "}\n",
    "\n",
    "gsearch = GridSearchCV(estimator = xgb.XGBClassifier(max_depth=10, learning_rate=0.03, \n",
    "                        n_estimators=262, n_jobs=-1,\n",
    "                        subsample=0.8, colsample_bytree=0.8, seed=420),\n",
    "                        param_grid = param_test, \n",
    "                        scoring='roc_auc', cv=4, verbose=10)\n",
    "gsearch.fit(X,Y)"
   ]
  },
  {
   "cell_type": "code",
   "execution_count": 73,
   "metadata": {},
   "outputs": [
    {
     "name": "stderr",
     "output_type": "stream",
     "text": [
      "/home/ubuntu/anaconda3/envs/python3/lib/python3.6/site-packages/sklearn/model_selection/_search.py:761: DeprecationWarning: The grid_scores_ attribute was deprecated in version 0.18 in favor of the more elaborate cv_results_ attribute. The grid_scores_ attribute will not be available from 0.20\n",
      "  DeprecationWarning)\n"
     ]
    },
    {
     "data": {
      "text/plain": [
       "([mean: 0.98314, std: 0.00020, params: {'subsample': 0.8}],\n",
       " {'subsample': 0.8},\n",
       " 0.9831444298640706)"
      ]
     },
     "execution_count": 73,
     "metadata": {},
     "output_type": "execute_result"
    }
   ],
   "source": [
    "(gsearch.grid_scores_, gsearch.best_params_, gsearch.best_score_)"
   ]
  },
  {
   "cell_type": "markdown",
   "metadata": {},
   "source": [
    "## 2.1 Fine Tuning"
   ]
  },
  {
   "cell_type": "code",
   "execution_count": 20,
   "metadata": {},
   "outputs": [],
   "source": [
    "from sklearn.model_selection import GridSearchCV"
   ]
  },
  {
   "cell_type": "markdown",
   "metadata": {},
   "source": [
    "### 2.1.1 Max_Depth and Min_Child Weight"
   ]
  },
  {
   "cell_type": "code",
   "execution_count": 25,
   "metadata": {
    "scrolled": true
   },
   "outputs": [
    {
     "name": "stdout",
     "output_type": "stream",
     "text": [
      "Fitting 5 folds for each of 12 candidates, totalling 60 fits\n",
      "[CV] max_depth=3, min_child_weight=1 .................................\n",
      "[CV]  max_depth=3, min_child_weight=1, score=0.9754736948707831, total=  18.9s\n",
      "[CV] max_depth=3, min_child_weight=1 .................................\n"
     ]
    },
    {
     "name": "stderr",
     "output_type": "stream",
     "text": [
      "[Parallel(n_jobs=1)]: Done   1 out of   1 | elapsed:   19.5s remaining:    0.0s\n"
     ]
    },
    {
     "name": "stdout",
     "output_type": "stream",
     "text": [
      "[CV]  max_depth=3, min_child_weight=1, score=0.9744238726575192, total=  20.6s\n",
      "[CV] max_depth=3, min_child_weight=1 .................................\n"
     ]
    },
    {
     "name": "stderr",
     "output_type": "stream",
     "text": [
      "[Parallel(n_jobs=1)]: Done   2 out of   2 | elapsed:   40.6s remaining:    0.0s\n"
     ]
    },
    {
     "name": "stdout",
     "output_type": "stream",
     "text": [
      "[CV]  max_depth=3, min_child_weight=1, score=0.9748612977003671, total=  19.4s\n",
      "[CV] max_depth=3, min_child_weight=1 .................................\n"
     ]
    },
    {
     "name": "stderr",
     "output_type": "stream",
     "text": [
      "[Parallel(n_jobs=1)]: Done   3 out of   3 | elapsed:  1.0min remaining:    0.0s\n"
     ]
    },
    {
     "name": "stdout",
     "output_type": "stream",
     "text": [
      "[CV]  max_depth=3, min_child_weight=1, score=0.9752800675225428, total=  19.7s\n",
      "[CV] max_depth=3, min_child_weight=1 .................................\n"
     ]
    },
    {
     "name": "stderr",
     "output_type": "stream",
     "text": [
      "[Parallel(n_jobs=1)]: Done   4 out of   4 | elapsed:  1.3min remaining:    0.0s\n"
     ]
    },
    {
     "name": "stdout",
     "output_type": "stream",
     "text": [
      "[CV]  max_depth=3, min_child_weight=1, score=0.9740269609531568, total=  18.8s\n",
      "[CV] max_depth=3, min_child_weight=3 .................................\n"
     ]
    },
    {
     "name": "stderr",
     "output_type": "stream",
     "text": [
      "[Parallel(n_jobs=1)]: Done   5 out of   5 | elapsed:  1.7min remaining:    0.0s\n"
     ]
    },
    {
     "name": "stdout",
     "output_type": "stream",
     "text": [
      "[CV]  max_depth=3, min_child_weight=3, score=0.9756109536371733, total=  19.7s\n",
      "[CV] max_depth=3, min_child_weight=3 .................................\n"
     ]
    },
    {
     "name": "stderr",
     "output_type": "stream",
     "text": [
      "[Parallel(n_jobs=1)]: Done   6 out of   6 | elapsed:  2.0min remaining:    0.0s\n"
     ]
    },
    {
     "name": "stdout",
     "output_type": "stream",
     "text": [
      "[CV]  max_depth=3, min_child_weight=3, score=0.9744078122949807, total=  19.2s\n",
      "[CV] max_depth=3, min_child_weight=3 .................................\n"
     ]
    },
    {
     "name": "stderr",
     "output_type": "stream",
     "text": [
      "[Parallel(n_jobs=1)]: Done   7 out of   7 | elapsed:  2.3min remaining:    0.0s\n"
     ]
    },
    {
     "name": "stdout",
     "output_type": "stream",
     "text": [
      "[CV]  max_depth=3, min_child_weight=3, score=0.9748459935747857, total=  19.2s\n",
      "[CV] max_depth=3, min_child_weight=3 .................................\n"
     ]
    },
    {
     "name": "stderr",
     "output_type": "stream",
     "text": [
      "[Parallel(n_jobs=1)]: Done   8 out of   8 | elapsed:  2.7min remaining:    0.0s\n"
     ]
    },
    {
     "name": "stdout",
     "output_type": "stream",
     "text": [
      "[CV]  max_depth=3, min_child_weight=3, score=0.9751098105233276, total=  19.8s\n",
      "[CV] max_depth=3, min_child_weight=3 .................................\n"
     ]
    },
    {
     "name": "stderr",
     "output_type": "stream",
     "text": [
      "[Parallel(n_jobs=1)]: Done   9 out of   9 | elapsed:  3.0min remaining:    0.0s\n"
     ]
    },
    {
     "name": "stdout",
     "output_type": "stream",
     "text": [
      "[CV]  max_depth=3, min_child_weight=3, score=0.9739585690099366, total=  19.9s\n",
      "[CV] max_depth=3, min_child_weight=5 .................................\n",
      "[CV]  max_depth=3, min_child_weight=5, score=0.9756103064390335, total=  20.3s\n",
      "[CV] max_depth=3, min_child_weight=5 .................................\n",
      "[CV]  max_depth=3, min_child_weight=5, score=0.9744540236491265, total=  18.9s\n",
      "[CV] max_depth=3, min_child_weight=5 .................................\n",
      "[CV]  max_depth=3, min_child_weight=5, score=0.9748393351721828, total=  19.1s\n",
      "[CV] max_depth=3, min_child_weight=5 .................................\n",
      "[CV]  max_depth=3, min_child_weight=5, score=0.9754333382185223, total=  19.3s\n",
      "[CV] max_depth=3, min_child_weight=5 .................................\n",
      "[CV]  max_depth=3, min_child_weight=5, score=0.9740500115319728, total=  20.2s\n",
      "[CV] max_depth=5, min_child_weight=1 .................................\n",
      "[CV]  max_depth=5, min_child_weight=1, score=0.9822001974911054, total=  32.9s\n",
      "[CV] max_depth=5, min_child_weight=1 .................................\n",
      "[CV]  max_depth=5, min_child_weight=1, score=0.9814405029483675, total=  32.9s\n",
      "[CV] max_depth=5, min_child_weight=1 .................................\n",
      "[CV]  max_depth=5, min_child_weight=1, score=0.9816611553055207, total=  35.0s\n",
      "[CV] max_depth=5, min_child_weight=1 .................................\n",
      "[CV]  max_depth=5, min_child_weight=1, score=0.9821833975386752, total=  32.5s\n",
      "[CV] max_depth=5, min_child_weight=1 .................................\n",
      "[CV]  max_depth=5, min_child_weight=1, score=0.9816219420010995, total=  34.1s\n",
      "[CV] max_depth=5, min_child_weight=3 .................................\n",
      "[CV]  max_depth=5, min_child_weight=3, score=0.9821872078023507, total=  33.6s\n",
      "[CV] max_depth=5, min_child_weight=3 .................................\n",
      "[CV]  max_depth=5, min_child_weight=3, score=0.981435888144239, total=  32.8s\n",
      "[CV] max_depth=5, min_child_weight=3 .................................\n",
      "[CV]  max_depth=5, min_child_weight=3, score=0.9815942160239899, total=  35.1s\n",
      "[CV] max_depth=5, min_child_weight=3 .................................\n",
      "[CV]  max_depth=5, min_child_weight=3, score=0.9822026385986664, total=  32.4s\n",
      "[CV] max_depth=5, min_child_weight=3 .................................\n",
      "[CV]  max_depth=5, min_child_weight=3, score=0.9816374438934912, total=  33.3s\n",
      "[CV] max_depth=5, min_child_weight=5 .................................\n",
      "[CV]  max_depth=5, min_child_weight=5, score=0.9822275908558558, total=  30.7s\n",
      "[CV] max_depth=5, min_child_weight=5 .................................\n",
      "[CV]  max_depth=5, min_child_weight=5, score=0.9813739822351989, total=  33.5s\n",
      "[CV] max_depth=5, min_child_weight=5 .................................\n",
      "[CV]  max_depth=5, min_child_weight=5, score=0.9816425202199471, total=  32.1s\n",
      "[CV] max_depth=5, min_child_weight=5 .................................\n",
      "[CV]  max_depth=5, min_child_weight=5, score=0.9822651632497359, total=  34.4s\n",
      "[CV] max_depth=5, min_child_weight=5 .................................\n",
      "[CV]  max_depth=5, min_child_weight=5, score=0.9816679305967718, total=  32.2s\n",
      "[CV] max_depth=7, min_child_weight=1 .................................\n",
      "[CV]  max_depth=7, min_child_weight=1, score=0.9832380852299732, total=  53.2s\n",
      "[CV] max_depth=7, min_child_weight=1 .................................\n",
      "[CV]  max_depth=7, min_child_weight=1, score=0.9829174724166263, total=  51.6s\n",
      "[CV] max_depth=7, min_child_weight=1 .................................\n",
      "[CV]  max_depth=7, min_child_weight=1, score=0.9826472460889044, total=  54.3s\n",
      "[CV] max_depth=7, min_child_weight=1 .................................\n",
      "[CV]  max_depth=7, min_child_weight=1, score=0.9832801168528218, total=  51.8s\n",
      "[CV] max_depth=7, min_child_weight=1 .................................\n",
      "[CV]  max_depth=7, min_child_weight=1, score=0.98290931313454, total=  52.6s\n",
      "[CV] max_depth=7, min_child_weight=3 .................................\n",
      "[CV]  max_depth=7, min_child_weight=3, score=0.9833267197187175, total=  52.0s\n",
      "[CV] max_depth=7, min_child_weight=3 .................................\n",
      "[CV]  max_depth=7, min_child_weight=3, score=0.9828767305902395, total=  51.8s\n",
      "[CV] max_depth=7, min_child_weight=3 .................................\n",
      "[CV]  max_depth=7, min_child_weight=3, score=0.9827447197565926, total=  54.1s\n",
      "[CV] max_depth=7, min_child_weight=3 .................................\n",
      "[CV]  max_depth=7, min_child_weight=3, score=0.9833523675607236, total=  50.7s\n",
      "[CV] max_depth=7, min_child_weight=3 .................................\n",
      "[CV]  max_depth=7, min_child_weight=3, score=0.9828903077511517, total=  55.8s\n",
      "[CV] max_depth=7, min_child_weight=5 .................................\n",
      "[CV]  max_depth=7, min_child_weight=5, score=0.9832966285225904, total=  52.3s\n",
      "[CV] max_depth=7, min_child_weight=5 .................................\n",
      "[CV]  max_depth=7, min_child_weight=5, score=0.982897796186219, total=  50.8s\n",
      "[CV] max_depth=7, min_child_weight=5 .................................\n",
      "[CV]  max_depth=7, min_child_weight=5, score=0.9827182268414284, total=  53.1s\n",
      "[CV] max_depth=7, min_child_weight=5 .................................\n",
      "[CV]  max_depth=7, min_child_weight=5, score=0.9833718407797574, total=  50.5s\n",
      "[CV] max_depth=7, min_child_weight=5 .................................\n",
      "[CV]  max_depth=7, min_child_weight=5, score=0.9828202625541479, total=  50.9s\n",
      "[CV] max_depth=9, min_child_weight=1 .................................\n",
      "[CV]  max_depth=9, min_child_weight=1, score=0.983520703291647, total= 1.4min\n",
      "[CV] max_depth=9, min_child_weight=1 .................................\n",
      "[CV]  max_depth=9, min_child_weight=1, score=0.9831789615694589, total= 1.4min\n",
      "[CV] max_depth=9, min_child_weight=1 .................................\n",
      "[CV]  max_depth=9, min_child_weight=1, score=0.9829782457289215, total= 1.3min\n",
      "[CV] max_depth=9, min_child_weight=1 .................................\n",
      "[CV]  max_depth=9, min_child_weight=1, score=0.9836540934113434, total= 1.4min\n",
      "[CV] max_depth=9, min_child_weight=1 .................................\n",
      "[CV]  max_depth=9, min_child_weight=1, score=0.9831340360520199, total= 1.4min\n",
      "[CV] max_depth=9, min_child_weight=3 .................................\n",
      "[CV]  max_depth=9, min_child_weight=3, score=0.9835961440835272, total= 1.2min\n",
      "[CV] max_depth=9, min_child_weight=3 .................................\n",
      "[CV]  max_depth=9, min_child_weight=3, score=0.9831719971546917, total= 1.3min\n",
      "[CV] max_depth=9, min_child_weight=3 .................................\n",
      "[CV]  max_depth=9, min_child_weight=3, score=0.9830368523344002, total= 1.2min\n",
      "[CV] max_depth=9, min_child_weight=3 .................................\n",
      "[CV]  max_depth=9, min_child_weight=3, score=0.983750812275242, total= 1.1min\n",
      "[CV] max_depth=9, min_child_weight=3 .................................\n",
      "[CV]  max_depth=9, min_child_weight=3, score=0.983271125966288, total= 1.2min\n",
      "[CV] max_depth=9, min_child_weight=5 .................................\n",
      "[CV]  max_depth=9, min_child_weight=5, score=0.9836253277953058, total= 1.1min\n",
      "[CV] max_depth=9, min_child_weight=5 .................................\n",
      "[CV]  max_depth=9, min_child_weight=5, score=0.9832516025259074, total= 1.1min\n",
      "[CV] max_depth=9, min_child_weight=5 .................................\n",
      "[CV]  max_depth=9, min_child_weight=5, score=0.9830510906934791, total= 1.1min\n",
      "[CV] max_depth=9, min_child_weight=5 .................................\n",
      "[CV]  max_depth=9, min_child_weight=5, score=0.9838805997323727, total= 1.1min\n",
      "[CV] max_depth=9, min_child_weight=5 .................................\n",
      "[CV]  max_depth=9, min_child_weight=5, score=0.9832926323357191, total= 1.1min\n"
     ]
    },
    {
     "name": "stderr",
     "output_type": "stream",
     "text": [
      "[Parallel(n_jobs=1)]: Done  60 out of  60 | elapsed: 45.4min finished\n"
     ]
    },
    {
     "data": {
      "text/plain": [
       "GridSearchCV(cv=5, error_score='raise',\n",
       "       estimator=XGBClassifier(base_score=0.5, booster='gbtree', colsample_bylevel=1,\n",
       "       colsample_bytree=0.8, gamma=0, learning_rate=0.03, max_delta_step=0,\n",
       "       max_depth=3, min_child_weight=1, missing=None, n_estimators=261,\n",
       "       n_jobs=-1, nthread=None, objective='binary:logistic',\n",
       "       random_state=0, reg_alpha=0, reg_lambda=1, scale_pos_weight=1,\n",
       "       seed=420, silent=True, subsample=0.8),\n",
       "       fit_params=None, iid=True, n_jobs=1,\n",
       "       param_grid={'max_depth': range(3, 11, 2), 'min_child_weight': range(1, 6, 2)},\n",
       "       pre_dispatch='2*n_jobs', refit=True, return_train_score='warn',\n",
       "       scoring='roc_auc', verbose=10)"
      ]
     },
     "execution_count": 25,
     "metadata": {},
     "output_type": "execute_result"
    }
   ],
   "source": [
    "param_test1 = {\n",
    "    'max_depth': range(3,11,2),\n",
    "    'min_child_weight': range(1,6,2)\n",
    "}\n",
    "gsearch1 = GridSearchCV(estimator = xgb.XGBClassifier(learning_rate=0.03, \n",
    "                        n_estimators=261, n_jobs=-1, subsample=0.8, \n",
    "                        colsample_bytree=0.8, seed=420), \n",
    "                        param_grid = param_test1, \n",
    "                        scoring='roc_auc', cv=5, verbose=10)\n",
    "gsearch1.fit(X, Y)"
   ]
  },
  {
   "cell_type": "code",
   "execution_count": 26,
   "metadata": {
    "scrolled": true
   },
   "outputs": [
    {
     "name": "stderr",
     "output_type": "stream",
     "text": [
      "/home/ubuntu/anaconda3/envs/tensorflow_p36/lib/python3.6/site-packages/sklearn/model_selection/_search.py:761: DeprecationWarning: The grid_scores_ attribute was deprecated in version 0.18 in favor of the more elaborate cv_results_ attribute. The grid_scores_ attribute will not be available from 0.20\n",
      "  DeprecationWarning)\n"
     ]
    },
    {
     "data": {
      "text/plain": [
       "([mean: 0.97481, std: 0.00053, params: {'max_depth': 3, 'min_child_weight': 1},\n",
       "  mean: 0.97479, std: 0.00057, params: {'max_depth': 3, 'min_child_weight': 3},\n",
       "  mean: 0.97488, std: 0.00059, params: {'max_depth': 3, 'min_child_weight': 5},\n",
       "  mean: 0.98182, std: 0.00031, params: {'max_depth': 5, 'min_child_weight': 1},\n",
       "  mean: 0.98181, std: 0.00032, params: {'max_depth': 5, 'min_child_weight': 3},\n",
       "  mean: 0.98184, std: 0.00035, params: {'max_depth': 5, 'min_child_weight': 5},\n",
       "  mean: 0.98300, std: 0.00023, params: {'max_depth': 7, 'min_child_weight': 1},\n",
       "  mean: 0.98304, std: 0.00025, params: {'max_depth': 7, 'min_child_weight': 3},\n",
       "  mean: 0.98302, std: 0.00026, params: {'max_depth': 7, 'min_child_weight': 5},\n",
       "  mean: 0.98329, std: 0.00025, params: {'max_depth': 9, 'min_child_weight': 1},\n",
       "  mean: 0.98337, std: 0.00027, params: {'max_depth': 9, 'min_child_weight': 3},\n",
       "  mean: 0.98342, std: 0.00029, params: {'max_depth': 9, 'min_child_weight': 5}],\n",
       " {'max_depth': 9, 'min_child_weight': 5},\n",
       " 0.9834202481346577)"
      ]
     },
     "execution_count": 26,
     "metadata": {},
     "output_type": "execute_result"
    }
   ],
   "source": [
    "(gsearch1.grid_scores_, gsearch1.best_params_, gsearch1.best_score_)"
   ]
  },
  {
   "cell_type": "code",
   "execution_count": 21,
   "metadata": {
    "scrolled": true
   },
   "outputs": [
    {
     "name": "stdout",
     "output_type": "stream",
     "text": [
      "Fitting 5 folds for each of 8 candidates, totalling 40 fits\n",
      "[CV] max_depth=9, min_child_weight=1 .................................\n",
      "[CV]  max_depth=9, min_child_weight=1, score=0.983520703291647, total=  32.3s\n",
      "[CV] max_depth=9, min_child_weight=1 .................................\n"
     ]
    },
    {
     "name": "stderr",
     "output_type": "stream",
     "text": [
      "[Parallel(n_jobs=1)]: Done   1 out of   1 | elapsed:   32.9s remaining:    0.0s\n"
     ]
    },
    {
     "name": "stdout",
     "output_type": "stream",
     "text": [
      "[CV]  max_depth=9, min_child_weight=1, score=0.9831789615694589, total=  28.3s\n",
      "[CV] max_depth=9, min_child_weight=1 .................................\n"
     ]
    },
    {
     "name": "stderr",
     "output_type": "stream",
     "text": [
      "[Parallel(n_jobs=1)]: Done   2 out of   2 | elapsed:  1.0min remaining:    0.0s\n"
     ]
    },
    {
     "name": "stdout",
     "output_type": "stream",
     "text": [
      "[CV]  max_depth=9, min_child_weight=1, score=0.9829782457289215, total=  27.1s\n",
      "[CV] max_depth=9, min_child_weight=1 .................................\n"
     ]
    },
    {
     "name": "stderr",
     "output_type": "stream",
     "text": [
      "[Parallel(n_jobs=1)]: Done   3 out of   3 | elapsed:  1.5min remaining:    0.0s\n"
     ]
    },
    {
     "name": "stdout",
     "output_type": "stream",
     "text": [
      "[CV]  max_depth=9, min_child_weight=1, score=0.9836540934113434, total=  29.2s\n",
      "[CV] max_depth=9, min_child_weight=1 .................................\n"
     ]
    },
    {
     "name": "stderr",
     "output_type": "stream",
     "text": [
      "[Parallel(n_jobs=1)]: Done   4 out of   4 | elapsed:  2.0min remaining:    0.0s\n"
     ]
    },
    {
     "name": "stdout",
     "output_type": "stream",
     "text": [
      "[CV]  max_depth=9, min_child_weight=1, score=0.9831340360520199, total=  27.9s\n",
      "[CV] max_depth=9, min_child_weight=4 .................................\n"
     ]
    },
    {
     "name": "stderr",
     "output_type": "stream",
     "text": [
      "[Parallel(n_jobs=1)]: Done   5 out of   5 | elapsed:  2.5min remaining:    0.0s\n"
     ]
    },
    {
     "name": "stdout",
     "output_type": "stream",
     "text": [
      "[CV]  max_depth=9, min_child_weight=4, score=0.9835821097325571, total=  27.1s\n",
      "[CV] max_depth=9, min_child_weight=4 .................................\n"
     ]
    },
    {
     "name": "stderr",
     "output_type": "stream",
     "text": [
      "[Parallel(n_jobs=1)]: Done   6 out of   6 | elapsed:  2.9min remaining:    0.0s\n"
     ]
    },
    {
     "name": "stdout",
     "output_type": "stream",
     "text": [
      "[CV]  max_depth=9, min_child_weight=4, score=0.9832919609577442, total=  28.5s\n",
      "[CV] max_depth=9, min_child_weight=4 .................................\n"
     ]
    },
    {
     "name": "stderr",
     "output_type": "stream",
     "text": [
      "[Parallel(n_jobs=1)]: Done   7 out of   7 | elapsed:  3.4min remaining:    0.0s\n"
     ]
    },
    {
     "name": "stdout",
     "output_type": "stream",
     "text": [
      "[CV]  max_depth=9, min_child_weight=4, score=0.9830352519259562, total=  26.5s\n",
      "[CV] max_depth=9, min_child_weight=4 .................................\n"
     ]
    },
    {
     "name": "stderr",
     "output_type": "stream",
     "text": [
      "[Parallel(n_jobs=1)]: Done   8 out of   8 | elapsed:  3.9min remaining:    0.0s\n"
     ]
    },
    {
     "name": "stdout",
     "output_type": "stream",
     "text": [
      "[CV]  max_depth=9, min_child_weight=4, score=0.9838545908845523, total=  27.0s\n",
      "[CV] max_depth=9, min_child_weight=4 .................................\n"
     ]
    },
    {
     "name": "stderr",
     "output_type": "stream",
     "text": [
      "[Parallel(n_jobs=1)]: Done   9 out of   9 | elapsed:  4.3min remaining:    0.0s\n"
     ]
    },
    {
     "name": "stdout",
     "output_type": "stream",
     "text": [
      "[CV]  max_depth=9, min_child_weight=4, score=0.9831370435668814, total=  27.8s\n",
      "[CV] max_depth=9, min_child_weight=5 .................................\n",
      "[CV]  max_depth=9, min_child_weight=5, score=0.9836253277953058, total=  27.1s\n",
      "[CV] max_depth=9, min_child_weight=5 .................................\n",
      "[CV]  max_depth=9, min_child_weight=5, score=0.9832516025259074, total=  26.4s\n",
      "[CV] max_depth=9, min_child_weight=5 .................................\n",
      "[CV]  max_depth=9, min_child_weight=5, score=0.9830510906934791, total=  26.6s\n",
      "[CV] max_depth=9, min_child_weight=5 .................................\n",
      "[CV]  max_depth=9, min_child_weight=5, score=0.9838805997323727, total=  26.8s\n",
      "[CV] max_depth=9, min_child_weight=5 .................................\n",
      "[CV]  max_depth=9, min_child_weight=5, score=0.9832926323357191, total=  26.5s\n",
      "[CV] max_depth=9, min_child_weight=6 .................................\n",
      "[CV]  max_depth=9, min_child_weight=6, score=0.983567709573943, total=  27.1s\n",
      "[CV] max_depth=9, min_child_weight=6 .................................\n",
      "[CV]  max_depth=9, min_child_weight=6, score=0.9831991865113329, total=  26.0s\n",
      "[CV] max_depth=9, min_child_weight=6 .................................\n",
      "[CV]  max_depth=9, min_child_weight=6, score=0.983034601210435, total=  26.6s\n",
      "[CV] max_depth=9, min_child_weight=6 .................................\n",
      "[CV]  max_depth=9, min_child_weight=6, score=0.9839760593093468, total=  26.5s\n",
      "[CV] max_depth=9, min_child_weight=6 .................................\n",
      "[CV]  max_depth=9, min_child_weight=6, score=0.9833023267345011, total=  26.3s\n",
      "[CV] max_depth=10, min_child_weight=1 ................................\n",
      "[CV]  max_depth=10, min_child_weight=1, score=0.9835862145164124, total=  33.1s\n",
      "[CV] max_depth=10, min_child_weight=1 ................................\n",
      "[CV]  max_depth=10, min_child_weight=1, score=0.9832122500650925, total=  33.0s\n",
      "[CV] max_depth=10, min_child_weight=1 ................................\n",
      "[CV]  max_depth=10, min_child_weight=1, score=0.9830048089917094, total=  30.8s\n",
      "[CV] max_depth=10, min_child_weight=1 ................................\n",
      "[CV]  max_depth=10, min_child_weight=1, score=0.9836795570371711, total=  32.7s\n",
      "[CV] max_depth=10, min_child_weight=1 ................................\n",
      "[CV]  max_depth=10, min_child_weight=1, score=0.9831802040433157, total=  31.0s\n",
      "[CV] max_depth=10, min_child_weight=4 ................................\n",
      "[CV]  max_depth=10, min_child_weight=4, score=0.9836756720723563, total=  30.6s\n",
      "[CV] max_depth=10, min_child_weight=4 ................................\n",
      "[CV]  max_depth=10, min_child_weight=4, score=0.9833114753886164, total=  31.0s\n",
      "[CV] max_depth=10, min_child_weight=4 ................................\n",
      "[CV]  max_depth=10, min_child_weight=4, score=0.9830221391288594, total=  30.7s\n",
      "[CV] max_depth=10, min_child_weight=4 ................................\n",
      "[CV]  max_depth=10, min_child_weight=4, score=0.9838973679468113, total=  32.2s\n",
      "[CV] max_depth=10, min_child_weight=4 ................................\n",
      "[CV]  max_depth=10, min_child_weight=4, score=0.9833117608337508, total=  30.3s\n",
      "[CV] max_depth=10, min_child_weight=5 ................................\n",
      "[CV]  max_depth=10, min_child_weight=5, score=0.9836884190618086, total=  28.8s\n",
      "[CV] max_depth=10, min_child_weight=5 ................................\n",
      "[CV]  max_depth=10, min_child_weight=5, score=0.9833364065865299, total=  29.5s\n",
      "[CV] max_depth=10, min_child_weight=5 ................................\n",
      "[CV]  max_depth=10, min_child_weight=5, score=0.9830905557104921, total=  29.7s\n",
      "[CV] max_depth=10, min_child_weight=5 ................................\n",
      "[CV]  max_depth=10, min_child_weight=5, score=0.9839416118321078, total=  29.6s\n",
      "[CV] max_depth=10, min_child_weight=5 ................................\n",
      "[CV]  max_depth=10, min_child_weight=5, score=0.9831948230278358, total=  32.0s\n",
      "[CV] max_depth=10, min_child_weight=6 ................................\n",
      "[CV]  max_depth=10, min_child_weight=6, score=0.9835649765687542, total=  28.9s\n",
      "[CV] max_depth=10, min_child_weight=6 ................................\n",
      "[CV]  max_depth=10, min_child_weight=6, score=0.9833914782239072, total=  32.7s\n",
      "[CV] max_depth=10, min_child_weight=6 ................................\n",
      "[CV]  max_depth=10, min_child_weight=6, score=0.9829730013135591, total=  31.6s\n",
      "[CV] max_depth=10, min_child_weight=6 ................................\n",
      "[CV]  max_depth=10, min_child_weight=6, score=0.9838718761804934, total=  30.1s\n",
      "[CV] max_depth=10, min_child_weight=6 ................................\n",
      "[CV]  max_depth=10, min_child_weight=6, score=0.9832275504176274, total=  29.0s\n"
     ]
    },
    {
     "name": "stderr",
     "output_type": "stream",
     "text": [
      "[Parallel(n_jobs=1)]: Done  40 out of  40 | elapsed: 19.8min finished\n"
     ]
    },
    {
     "data": {
      "text/plain": [
       "GridSearchCV(cv=5, error_score='raise',\n",
       "       estimator=XGBClassifier(base_score=0.5, booster='gbtree', colsample_bylevel=1,\n",
       "       colsample_bytree=0.8, gamma=0, learning_rate=0.03, max_delta_step=0,\n",
       "       max_depth=3, min_child_weight=1, missing=None, n_estimators=261,\n",
       "       n_jobs=-1, nthread=None, objective='binary:logistic',\n",
       "       random_state=0, reg_alpha=0, reg_lambda=1, scale_pos_weight=1,\n",
       "       seed=420, silent=True, subsample=0.8),\n",
       "       fit_params=None, iid=True, n_jobs=1,\n",
       "       param_grid={'max_depth': [9, 10], 'min_child_weight': [1, 4, 5, 6]},\n",
       "       pre_dispatch='2*n_jobs', refit=True, return_train_score='warn',\n",
       "       scoring='roc_auc', verbose=10)"
      ]
     },
     "execution_count": 21,
     "metadata": {},
     "output_type": "execute_result"
    }
   ],
   "source": [
    "param_test2 = {\n",
    "    'max_depth': [9,10],\n",
    "    'min_child_weight': [1,4,5,6]\n",
    "}\n",
    "gsearch2 = GridSearchCV(estimator = xgb.XGBClassifier(learning_rate=0.03, \n",
    "                        n_estimators=261, n_jobs=-1, subsample=0.8, \n",
    "                        colsample_bytree=0.8, seed=420), \n",
    "                        param_grid = param_test2, \n",
    "                        scoring='roc_auc', cv=5, verbose=10)\n",
    "gsearch2.fit(X, Y)"
   ]
  },
  {
   "cell_type": "code",
   "execution_count": 22,
   "metadata": {},
   "outputs": [
    {
     "name": "stderr",
     "output_type": "stream",
     "text": [
      "/home/ubuntu/anaconda3/envs/python3/lib/python3.6/site-packages/sklearn/model_selection/_search.py:761: DeprecationWarning: The grid_scores_ attribute was deprecated in version 0.18 in favor of the more elaborate cv_results_ attribute. The grid_scores_ attribute will not be available from 0.20\n",
      "  DeprecationWarning)\n"
     ]
    },
    {
     "data": {
      "text/plain": [
       "([mean: 0.98329, std: 0.00025, params: {'max_depth': 9, 'min_child_weight': 1},\n",
       "  mean: 0.98338, std: 0.00030, params: {'max_depth': 9, 'min_child_weight': 4},\n",
       "  mean: 0.98342, std: 0.00029, params: {'max_depth': 9, 'min_child_weight': 5},\n",
       "  mean: 0.98342, std: 0.00033, params: {'max_depth': 9, 'min_child_weight': 6},\n",
       "  mean: 0.98333, std: 0.00026, params: {'max_depth': 10, 'min_child_weight': 1},\n",
       "  mean: 0.98344, std: 0.00031, params: {'max_depth': 10, 'min_child_weight': 4},\n",
       "  mean: 0.98345, std: 0.00032, params: {'max_depth': 10, 'min_child_weight': 5},\n",
       "  mean: 0.98341, std: 0.00030, params: {'max_depth': 10, 'min_child_weight': 6}],\n",
       " {'max_depth': 10, 'min_child_weight': 5},\n",
       " 0.9834503614855639)"
      ]
     },
     "execution_count": 22,
     "metadata": {},
     "output_type": "execute_result"
    }
   ],
   "source": [
    "(gsearch2.grid_scores_, gsearch2.best_params_, gsearch2.best_score_)"
   ]
  },
  {
   "cell_type": "markdown",
   "metadata": {},
   "source": [
    "### 2.1.2 Gamma"
   ]
  },
  {
   "cell_type": "code",
   "execution_count": 24,
   "metadata": {
    "scrolled": true
   },
   "outputs": [
    {
     "name": "stdout",
     "output_type": "stream",
     "text": [
      "Fitting 4 folds for each of 5 candidates, totalling 20 fits\n",
      "[CV] gamma=0.0 .......................................................\n",
      "[CV] .............. gamma=0.0, score=0.9831392263064357, total=  29.3s\n",
      "[CV] gamma=0.0 .......................................................\n"
     ]
    },
    {
     "name": "stderr",
     "output_type": "stream",
     "text": [
      "[Parallel(n_jobs=1)]: Done   1 out of   1 | elapsed:   29.9s remaining:    0.0s\n"
     ]
    },
    {
     "name": "stdout",
     "output_type": "stream",
     "text": [
      "[CV] .............. gamma=0.0, score=0.9833505437274163, total=  28.1s\n",
      "[CV] gamma=0.0 .......................................................\n"
     ]
    },
    {
     "name": "stderr",
     "output_type": "stream",
     "text": [
      "[Parallel(n_jobs=1)]: Done   2 out of   2 | elapsed:   58.7s remaining:    0.0s\n"
     ]
    },
    {
     "name": "stdout",
     "output_type": "stream",
     "text": [
      "[CV] .............. gamma=0.0, score=0.9836445885498695, total=  28.0s\n",
      "[CV] gamma=0.0 .......................................................\n"
     ]
    },
    {
     "name": "stderr",
     "output_type": "stream",
     "text": [
      "[Parallel(n_jobs=1)]: Done   3 out of   3 | elapsed:  1.5min remaining:    0.0s\n"
     ]
    },
    {
     "name": "stdout",
     "output_type": "stream",
     "text": [
      "[CV] .............. gamma=0.0, score=0.9829391638627483, total=  29.6s\n",
      "[CV] gamma=0.1 .......................................................\n"
     ]
    },
    {
     "name": "stderr",
     "output_type": "stream",
     "text": [
      "[Parallel(n_jobs=1)]: Done   4 out of   4 | elapsed:  2.0min remaining:    0.0s\n"
     ]
    },
    {
     "name": "stdout",
     "output_type": "stream",
     "text": [
      "[CV] .............. gamma=0.1, score=0.9831369684059846, total=  29.3s\n",
      "[CV] gamma=0.1 .......................................................\n"
     ]
    },
    {
     "name": "stderr",
     "output_type": "stream",
     "text": [
      "[Parallel(n_jobs=1)]: Done   5 out of   5 | elapsed:  2.5min remaining:    0.0s\n"
     ]
    },
    {
     "name": "stdout",
     "output_type": "stream",
     "text": [
      "[CV] .............. gamma=0.1, score=0.9833661891991361, total=  29.9s\n",
      "[CV] gamma=0.1 .......................................................\n"
     ]
    },
    {
     "name": "stderr",
     "output_type": "stream",
     "text": [
      "[Parallel(n_jobs=1)]: Done   6 out of   6 | elapsed:  3.0min remaining:    0.0s\n"
     ]
    },
    {
     "name": "stdout",
     "output_type": "stream",
     "text": [
      "[CV] .............. gamma=0.1, score=0.9836839881248394, total=  29.2s\n",
      "[CV] gamma=0.1 .......................................................\n"
     ]
    },
    {
     "name": "stderr",
     "output_type": "stream",
     "text": [
      "[Parallel(n_jobs=1)]: Done   7 out of   7 | elapsed:  3.5min remaining:    0.0s\n"
     ]
    },
    {
     "name": "stdout",
     "output_type": "stream",
     "text": [
      "[CV] .............. gamma=0.1, score=0.9829606339309472, total=  31.0s\n",
      "[CV] gamma=0.2 .......................................................\n"
     ]
    },
    {
     "name": "stderr",
     "output_type": "stream",
     "text": [
      "[Parallel(n_jobs=1)]: Done   8 out of   8 | elapsed:  4.0min remaining:    0.0s\n"
     ]
    },
    {
     "name": "stdout",
     "output_type": "stream",
     "text": [
      "[CV] .............. gamma=0.2, score=0.9831878961047931, total=  29.7s\n",
      "[CV] gamma=0.2 .......................................................\n"
     ]
    },
    {
     "name": "stderr",
     "output_type": "stream",
     "text": [
      "[Parallel(n_jobs=1)]: Done   9 out of   9 | elapsed:  4.5min remaining:    0.0s\n"
     ]
    },
    {
     "name": "stdout",
     "output_type": "stream",
     "text": [
      "[CV] .............. gamma=0.2, score=0.9833666124147743, total=  30.4s\n",
      "[CV] gamma=0.2 .......................................................\n",
      "[CV] .............. gamma=0.2, score=0.9837317709712748, total=  29.5s\n",
      "[CV] gamma=0.2 .......................................................\n",
      "[CV] .............. gamma=0.2, score=0.9829321467501786, total=  29.5s\n",
      "[CV] gamma=0.3 .......................................................\n",
      "[CV] .............. gamma=0.3, score=0.9831684394411851, total=  30.4s\n",
      "[CV] gamma=0.3 .......................................................\n",
      "[CV] .............. gamma=0.3, score=0.9833746039866598, total=  28.6s\n",
      "[CV] gamma=0.3 .......................................................\n",
      "[CV] .............. gamma=0.3, score=0.9835951848775868, total=  35.0s\n",
      "[CV] gamma=0.3 .......................................................\n",
      "[CV] .............. gamma=0.3, score=0.9829944182775409, total=  29.2s\n",
      "[CV] gamma=0.4 .......................................................\n",
      "[CV] .............. gamma=0.4, score=0.9831865026447938, total=  30.4s\n",
      "[CV] gamma=0.4 .......................................................\n",
      "[CV] .............. gamma=0.4, score=0.9834251872599757, total=  28.8s\n",
      "[CV] gamma=0.4 .......................................................\n",
      "[CV] .............. gamma=0.4, score=0.9836687185946701, total=  28.4s\n",
      "[CV] gamma=0.4 .......................................................\n",
      "[CV] .............. gamma=0.4, score=0.9829224146431403, total=  28.1s\n"
     ]
    },
    {
     "name": "stderr",
     "output_type": "stream",
     "text": [
      "[Parallel(n_jobs=1)]: Done  20 out of  20 | elapsed: 10.1min finished\n"
     ]
    },
    {
     "data": {
      "text/plain": [
       "GridSearchCV(cv=4, error_score='raise',\n",
       "       estimator=XGBClassifier(base_score=0.5, booster='gbtree', colsample_bylevel=1,\n",
       "       colsample_bytree=0.8, gamma=0, learning_rate=0.03, max_delta_step=0,\n",
       "       max_depth=10, min_child_weight=5, missing=None, n_estimators=261,\n",
       "       n_jobs=-1, nthread=None, objective='binary:logistic',\n",
       "       random_state=0, reg_alpha=0, reg_lambda=1, scale_pos_weight=1,\n",
       "       seed=420, silent=True, subsample=0.8),\n",
       "       fit_params=None, iid=True, n_jobs=1,\n",
       "       param_grid={'gamma': [0.0, 0.1, 0.2, 0.3, 0.4]},\n",
       "       pre_dispatch='2*n_jobs', refit=True, return_train_score='warn',\n",
       "       scoring='roc_auc', verbose=10)"
      ]
     },
     "execution_count": 24,
     "metadata": {},
     "output_type": "execute_result"
    }
   ],
   "source": [
    "param_test3 = {\n",
    "    'gamma': [i/10.0 for i in range(0,5)]\n",
    "}\n",
    "gsearch3 = GridSearchCV(estimator = xgb.XGBClassifier(learning_rate=0.03, \n",
    "                        max_depth=10, min_child_weight=5,\n",
    "                        n_estimators=261, n_jobs=-1, subsample=0.8, \n",
    "                        colsample_bytree=0.8, seed=420), \n",
    "                        param_grid = param_test3, \n",
    "                        scoring='roc_auc', cv=4, verbose=10)\n",
    "gsearch3.fit(X, Y)"
   ]
  },
  {
   "cell_type": "code",
   "execution_count": 25,
   "metadata": {},
   "outputs": [
    {
     "name": "stderr",
     "output_type": "stream",
     "text": [
      "/home/ubuntu/anaconda3/envs/python3/lib/python3.6/site-packages/sklearn/model_selection/_search.py:761: DeprecationWarning: The grid_scores_ attribute was deprecated in version 0.18 in favor of the more elaborate cv_results_ attribute. The grid_scores_ attribute will not be available from 0.20\n",
      "  DeprecationWarning)\n"
     ]
    },
    {
     "data": {
      "text/plain": [
       "([mean: 0.98327, std: 0.00026, params: {'gamma': 0.0},\n",
       "  mean: 0.98329, std: 0.00027, params: {'gamma': 0.1},\n",
       "  mean: 0.98330, std: 0.00029, params: {'gamma': 0.2},\n",
       "  mean: 0.98328, std: 0.00022, params: {'gamma': 0.3},\n",
       "  mean: 0.98330, std: 0.00028, params: {'gamma': 0.4}],\n",
       " {'gamma': 0.2},\n",
       " 0.9833046093384997)"
      ]
     },
     "execution_count": 25,
     "metadata": {},
     "output_type": "execute_result"
    }
   ],
   "source": [
    "(gsearch3.grid_scores_, gsearch3.best_params_, gsearch3.best_score_)"
   ]
  },
  {
   "cell_type": "markdown",
   "metadata": {},
   "source": [
    "### 2.1.3 Subsample and Colsample_bytree"
   ]
  },
  {
   "cell_type": "code",
   "execution_count": 46,
   "metadata": {
    "scrolled": true
   },
   "outputs": [
    {
     "name": "stdout",
     "output_type": "stream",
     "text": [
      "Fitting 4 folds for each of 16 candidates, totalling 64 fits\n",
      "[CV] colsample_bytree=0.6, subsample=0.6 .............................\n",
      "[CV]  colsample_bytree=0.6, subsample=0.6, score=0.982647087300539, total=  29.1s\n",
      "[CV] colsample_bytree=0.6, subsample=0.6 .............................\n"
     ]
    },
    {
     "name": "stderr",
     "output_type": "stream",
     "text": [
      "[Parallel(n_jobs=1)]: Done   1 out of   1 | elapsed:   29.6s remaining:    0.0s\n"
     ]
    },
    {
     "name": "stdout",
     "output_type": "stream",
     "text": [
      "[CV]  colsample_bytree=0.6, subsample=0.6, score=0.9827103490338155, total=  27.8s\n",
      "[CV] colsample_bytree=0.6, subsample=0.6 .............................\n"
     ]
    },
    {
     "name": "stderr",
     "output_type": "stream",
     "text": [
      "[Parallel(n_jobs=1)]: Done   2 out of   2 | elapsed:   58.1s remaining:    0.0s\n"
     ]
    },
    {
     "name": "stdout",
     "output_type": "stream",
     "text": [
      "[CV]  colsample_bytree=0.6, subsample=0.6, score=0.9830936203191591, total=  32.8s\n",
      "[CV] colsample_bytree=0.6, subsample=0.6 .............................\n"
     ]
    },
    {
     "name": "stderr",
     "output_type": "stream",
     "text": [
      "[Parallel(n_jobs=1)]: Done   3 out of   3 | elapsed:  1.5min remaining:    0.0s\n"
     ]
    },
    {
     "name": "stdout",
     "output_type": "stream",
     "text": [
      "[CV]  colsample_bytree=0.6, subsample=0.6, score=0.9822252058645683, total=  33.0s\n",
      "[CV] colsample_bytree=0.6, subsample=0.7 .............................\n"
     ]
    },
    {
     "name": "stderr",
     "output_type": "stream",
     "text": [
      "[Parallel(n_jobs=1)]: Done   4 out of   4 | elapsed:  2.1min remaining:    0.0s\n"
     ]
    },
    {
     "name": "stdout",
     "output_type": "stream",
     "text": [
      "[CV]  colsample_bytree=0.6, subsample=0.7, score=0.9828910193394014, total=  30.6s\n",
      "[CV] colsample_bytree=0.6, subsample=0.7 .............................\n"
     ]
    },
    {
     "name": "stderr",
     "output_type": "stream",
     "text": [
      "[Parallel(n_jobs=1)]: Done   5 out of   5 | elapsed:  2.6min remaining:    0.0s\n"
     ]
    },
    {
     "name": "stdout",
     "output_type": "stream",
     "text": [
      "[CV]  colsample_bytree=0.6, subsample=0.7, score=0.9829356213151115, total=  31.1s\n",
      "[CV] colsample_bytree=0.6, subsample=0.7 .............................\n"
     ]
    },
    {
     "name": "stderr",
     "output_type": "stream",
     "text": [
      "[Parallel(n_jobs=1)]: Done   6 out of   6 | elapsed:  3.1min remaining:    0.0s\n"
     ]
    },
    {
     "name": "stdout",
     "output_type": "stream",
     "text": [
      "[CV]  colsample_bytree=0.6, subsample=0.7, score=0.9832063645148635, total=  31.0s\n",
      "[CV] colsample_bytree=0.6, subsample=0.7 .............................\n"
     ]
    },
    {
     "name": "stderr",
     "output_type": "stream",
     "text": [
      "[Parallel(n_jobs=1)]: Done   7 out of   7 | elapsed:  3.7min remaining:    0.0s\n"
     ]
    },
    {
     "name": "stdout",
     "output_type": "stream",
     "text": [
      "[CV]  colsample_bytree=0.6, subsample=0.7, score=0.9824204986134618, total=  28.0s\n",
      "[CV] colsample_bytree=0.6, subsample=0.8 .............................\n"
     ]
    },
    {
     "name": "stderr",
     "output_type": "stream",
     "text": [
      "[Parallel(n_jobs=1)]: Done   8 out of   8 | elapsed:  4.1min remaining:    0.0s\n"
     ]
    },
    {
     "name": "stdout",
     "output_type": "stream",
     "text": [
      "[CV]  colsample_bytree=0.6, subsample=0.8, score=0.9826937603314985, total=  28.4s\n",
      "[CV] colsample_bytree=0.6, subsample=0.8 .............................\n"
     ]
    },
    {
     "name": "stderr",
     "output_type": "stream",
     "text": [
      "[Parallel(n_jobs=1)]: Done   9 out of   9 | elapsed:  4.6min remaining:    0.0s\n"
     ]
    },
    {
     "name": "stdout",
     "output_type": "stream",
     "text": [
      "[CV]  colsample_bytree=0.6, subsample=0.8, score=0.9830470643478443, total=  29.0s\n",
      "[CV] colsample_bytree=0.6, subsample=0.8 .............................\n",
      "[CV]  colsample_bytree=0.6, subsample=0.8, score=0.9833456362269345, total=  31.7s\n",
      "[CV] colsample_bytree=0.6, subsample=0.8 .............................\n",
      "[CV]  colsample_bytree=0.6, subsample=0.8, score=0.9822438236127076, total=  28.6s\n",
      "[CV] colsample_bytree=0.6, subsample=0.9 .............................\n",
      "[CV]  colsample_bytree=0.6, subsample=0.9, score=0.9829353399217352, total=  29.6s\n",
      "[CV] colsample_bytree=0.6, subsample=0.9 .............................\n",
      "[CV]  colsample_bytree=0.6, subsample=0.9, score=0.9829742937695973, total=  27.9s\n",
      "[CV] colsample_bytree=0.6, subsample=0.9 .............................\n",
      "[CV]  colsample_bytree=0.6, subsample=0.9, score=0.98317777945013, total=  29.4s\n",
      "[CV] colsample_bytree=0.6, subsample=0.9 .............................\n",
      "[CV]  colsample_bytree=0.6, subsample=0.9, score=0.9823974841951753, total=  28.7s\n",
      "[CV] colsample_bytree=0.7, subsample=0.6 .............................\n",
      "[CV]  colsample_bytree=0.7, subsample=0.6, score=0.9829264771559567, total=  30.2s\n",
      "[CV] colsample_bytree=0.7, subsample=0.6 .............................\n",
      "[CV]  colsample_bytree=0.7, subsample=0.6, score=0.9830675542879296, total=  29.4s\n",
      "[CV] colsample_bytree=0.7, subsample=0.6 .............................\n",
      "[CV]  colsample_bytree=0.7, subsample=0.6, score=0.9835056455052619, total=  33.5s\n",
      "[CV] colsample_bytree=0.7, subsample=0.6 .............................\n",
      "[CV]  colsample_bytree=0.7, subsample=0.6, score=0.9825288575096159, total=  35.2s\n",
      "[CV] colsample_bytree=0.7, subsample=0.7 .............................\n",
      "[CV]  colsample_bytree=0.7, subsample=0.7, score=0.9830743302404298, total=  31.0s\n",
      "[CV] colsample_bytree=0.7, subsample=0.7 .............................\n",
      "[CV]  colsample_bytree=0.7, subsample=0.7, score=0.9832465227263759, total=  30.6s\n",
      "[CV] colsample_bytree=0.7, subsample=0.7 .............................\n",
      "[CV]  colsample_bytree=0.7, subsample=0.7, score=0.9833955193935301, total=  31.9s\n",
      "[CV] colsample_bytree=0.7, subsample=0.7 .............................\n",
      "[CV]  colsample_bytree=0.7, subsample=0.7, score=0.9826206112654711, total=  31.1s\n",
      "[CV] colsample_bytree=0.7, subsample=0.8 .............................\n",
      "[CV]  colsample_bytree=0.7, subsample=0.8, score=0.9831401425232688, total=  29.6s\n",
      "[CV] colsample_bytree=0.7, subsample=0.8 .............................\n",
      "[CV]  colsample_bytree=0.7, subsample=0.8, score=0.9833049512470217, total=  30.9s\n",
      "[CV] colsample_bytree=0.7, subsample=0.8 .............................\n",
      "[CV]  colsample_bytree=0.7, subsample=0.8, score=0.9836570261370998, total=  32.3s\n",
      "[CV] colsample_bytree=0.7, subsample=0.8 .............................\n",
      "[CV]  colsample_bytree=0.7, subsample=0.8, score=0.9827044429106, total=  33.7s\n",
      "[CV] colsample_bytree=0.7, subsample=0.9 .............................\n",
      "[CV]  colsample_bytree=0.7, subsample=0.9, score=0.9831550653767984, total=  33.6s\n",
      "[CV] colsample_bytree=0.7, subsample=0.9 .............................\n",
      "[CV]  colsample_bytree=0.7, subsample=0.9, score=0.9833646899352275, total=  35.2s\n",
      "[CV] colsample_bytree=0.7, subsample=0.9 .............................\n",
      "[CV]  colsample_bytree=0.7, subsample=0.9, score=0.9835792490079026, total=  33.0s\n",
      "[CV] colsample_bytree=0.7, subsample=0.9 .............................\n",
      "[CV]  colsample_bytree=0.7, subsample=0.9, score=0.9827267571934972, total=  33.8s\n",
      "[CV] colsample_bytree=0.8, subsample=0.6 .............................\n",
      "[CV]  colsample_bytree=0.8, subsample=0.6, score=0.9831347577796208, total=  29.7s\n",
      "[CV] colsample_bytree=0.8, subsample=0.6 .............................\n",
      "[CV]  colsample_bytree=0.8, subsample=0.6, score=0.9830782157201692, total=  32.3s\n",
      "[CV] colsample_bytree=0.8, subsample=0.6 .............................\n",
      "[CV]  colsample_bytree=0.8, subsample=0.6, score=0.9835410785592001, total=  31.6s\n",
      "[CV] colsample_bytree=0.8, subsample=0.6 .............................\n",
      "[CV]  colsample_bytree=0.8, subsample=0.6, score=0.9828719621215497, total=  35.1s\n",
      "[CV] colsample_bytree=0.8, subsample=0.7 .............................\n",
      "[CV]  colsample_bytree=0.8, subsample=0.7, score=0.983145995505495, total=  34.6s\n",
      "[CV] colsample_bytree=0.8, subsample=0.7 .............................\n",
      "[CV]  colsample_bytree=0.8, subsample=0.7, score=0.9833325840765703, total=  33.0s\n",
      "[CV] colsample_bytree=0.8, subsample=0.7 .............................\n",
      "[CV]  colsample_bytree=0.8, subsample=0.7, score=0.983601947323205, total=  32.9s\n",
      "[CV] colsample_bytree=0.8, subsample=0.7 .............................\n",
      "[CV]  colsample_bytree=0.8, subsample=0.7, score=0.982902560964683, total=  32.3s\n",
      "[CV] colsample_bytree=0.8, subsample=0.8 .............................\n",
      "[CV]  colsample_bytree=0.8, subsample=0.8, score=0.9831878961047931, total=  33.3s\n",
      "[CV] colsample_bytree=0.8, subsample=0.8 .............................\n",
      "[CV]  colsample_bytree=0.8, subsample=0.8, score=0.9833666124147743, total=  34.7s\n",
      "[CV] colsample_bytree=0.8, subsample=0.8 .............................\n",
      "[CV]  colsample_bytree=0.8, subsample=0.8, score=0.9837317709712748, total=  31.8s\n",
      "[CV] colsample_bytree=0.8, subsample=0.8 .............................\n",
      "[CV]  colsample_bytree=0.8, subsample=0.8, score=0.9829321467501786, total=  35.8s\n",
      "[CV] colsample_bytree=0.8, subsample=0.9 .............................\n",
      "[CV]  colsample_bytree=0.8, subsample=0.9, score=0.9832512006098627, total=  31.1s\n",
      "[CV] colsample_bytree=0.8, subsample=0.9 .............................\n",
      "[CV]  colsample_bytree=0.8, subsample=0.9, score=0.9834120630729072, total=  35.1s\n",
      "[CV] colsample_bytree=0.8, subsample=0.9 .............................\n",
      "[CV]  colsample_bytree=0.8, subsample=0.9, score=0.9835732294407978, total=  36.0s\n",
      "[CV] colsample_bytree=0.8, subsample=0.9 .............................\n",
      "[CV]  colsample_bytree=0.8, subsample=0.9, score=0.9830754088588065, total=  35.4s\n",
      "[CV] colsample_bytree=0.9, subsample=0.6 .............................\n",
      "[CV]  colsample_bytree=0.9, subsample=0.6, score=0.9830581489957215, total=  41.5s\n",
      "[CV] colsample_bytree=0.9, subsample=0.6 .............................\n",
      "[CV]  colsample_bytree=0.9, subsample=0.6, score=0.9832730862610944, total=  34.7s\n",
      "[CV] colsample_bytree=0.9, subsample=0.6 .............................\n",
      "[CV]  colsample_bytree=0.9, subsample=0.6, score=0.9833966382135941, total=  34.5s\n",
      "[CV] colsample_bytree=0.9, subsample=0.6 .............................\n",
      "[CV]  colsample_bytree=0.9, subsample=0.6, score=0.9828671962481748, total=  37.6s\n",
      "[CV] colsample_bytree=0.9, subsample=0.7 .............................\n",
      "[CV]  colsample_bytree=0.9, subsample=0.7, score=0.9830399597278804, total=  39.3s\n",
      "[CV] colsample_bytree=0.9, subsample=0.7 .............................\n",
      "[CV]  colsample_bytree=0.9, subsample=0.7, score=0.9832417255320975, total=  35.4s\n",
      "[CV] colsample_bytree=0.9, subsample=0.7 .............................\n",
      "[CV]  colsample_bytree=0.9, subsample=0.7, score=0.9837180659882774, total=  36.6s\n",
      "[CV] colsample_bytree=0.9, subsample=0.7 .............................\n",
      "[CV]  colsample_bytree=0.9, subsample=0.7, score=0.9828919711355115, total=  36.1s\n",
      "[CV] colsample_bytree=0.9, subsample=0.8 .............................\n",
      "[CV]  colsample_bytree=0.9, subsample=0.8, score=0.9831092117633506, total=  40.6s\n",
      "[CV] colsample_bytree=0.9, subsample=0.8 .............................\n",
      "[CV]  colsample_bytree=0.9, subsample=0.8, score=0.9833216412509542, total=  38.9s\n",
      "[CV] colsample_bytree=0.9, subsample=0.8 .............................\n",
      "[CV]  colsample_bytree=0.9, subsample=0.8, score=0.9835890257393674, total=  35.7s\n",
      "[CV] colsample_bytree=0.9, subsample=0.8 .............................\n",
      "[CV]  colsample_bytree=0.9, subsample=0.8, score=0.9830525205099144, total=  35.4s\n",
      "[CV] colsample_bytree=0.9, subsample=0.9 .............................\n",
      "[CV]  colsample_bytree=0.9, subsample=0.9, score=0.9831676335305555, total=  34.3s\n",
      "[CV] colsample_bytree=0.9, subsample=0.9 .............................\n",
      "[CV]  colsample_bytree=0.9, subsample=0.9, score=0.9834381943873998, total=  40.5s\n",
      "[CV] colsample_bytree=0.9, subsample=0.9 .............................\n",
      "[CV]  colsample_bytree=0.9, subsample=0.9, score=0.9836194815072664, total=  35.6s\n",
      "[CV] colsample_bytree=0.9, subsample=0.9 .............................\n"
     ]
    },
    {
     "name": "stdout",
     "output_type": "stream",
     "text": [
      "[CV]  colsample_bytree=0.9, subsample=0.9, score=0.9831150982058074, total=  36.3s\n"
     ]
    },
    {
     "name": "stderr",
     "output_type": "stream",
     "text": [
      "[Parallel(n_jobs=1)]: Done  64 out of  64 | elapsed: 36.0min finished\n"
     ]
    },
    {
     "data": {
      "text/plain": [
       "GridSearchCV(cv=4, error_score='raise',\n",
       "       estimator=XGBClassifier(base_score=0.5, booster='gbtree', colsample_bylevel=1,\n",
       "       colsample_bytree=1, gamma=0.2, learning_rate=0.03, max_delta_step=0,\n",
       "       max_depth=10, min_child_weight=5, missing=None, n_estimators=261,\n",
       "       n_jobs=-1, nthread=None, objective='binary:logistic',\n",
       "       random_state=0, reg_alpha=0, reg_lambda=1, scale_pos_weight=1,\n",
       "       seed=420, silent=True, subsample=1),\n",
       "       fit_params=None, iid=True, n_jobs=1,\n",
       "       param_grid={'subsample': [0.6, 0.7, 0.8, 0.9], 'colsample_bytree': [0.6, 0.7, 0.8, 0.9]},\n",
       "       pre_dispatch='2*n_jobs', refit=True, return_train_score='warn',\n",
       "       scoring='roc_auc', verbose=10)"
      ]
     },
     "execution_count": 46,
     "metadata": {},
     "output_type": "execute_result"
    }
   ],
   "source": [
    "param_test4 = {\n",
    "    'subsample': [i/10.0 for i in range(6,10)],\n",
    "    'colsample_bytree': [i/10.0 for i in range(6,10)]\n",
    "}\n",
    "gsearch4 = GridSearchCV(estimator = xgb.XGBClassifier(learning_rate=0.03, \n",
    "                        max_depth=10, min_child_weight=5, gamma=0.2,\n",
    "                        n_estimators=261, n_jobs=-1, seed=420), \n",
    "                        param_grid = param_test4, \n",
    "                        scoring='roc_auc', cv=4, verbose=10)\n",
    "gsearch4.fit(X, Y)"
   ]
  },
  {
   "cell_type": "code",
   "execution_count": 47,
   "metadata": {},
   "outputs": [
    {
     "name": "stderr",
     "output_type": "stream",
     "text": [
      "/home/ubuntu/anaconda3/envs/python3/lib/python3.6/site-packages/sklearn/model_selection/_search.py:761: DeprecationWarning: The grid_scores_ attribute was deprecated in version 0.18 in favor of the more elaborate cv_results_ attribute. The grid_scores_ attribute will not be available from 0.20\n",
      "  DeprecationWarning)\n"
     ]
    },
    {
     "data": {
      "text/plain": [
       "([mean: 0.98267, std: 0.00031, params: {'colsample_bytree': 0.6, 'subsample': 0.6},\n",
       "  mean: 0.98286, std: 0.00028, params: {'colsample_bytree': 0.6, 'subsample': 0.7},\n",
       "  mean: 0.98283, std: 0.00041, params: {'colsample_bytree': 0.6, 'subsample': 0.8},\n",
       "  mean: 0.98287, std: 0.00029, params: {'colsample_bytree': 0.6, 'subsample': 0.9},\n",
       "  mean: 0.98301, std: 0.00035, params: {'colsample_bytree': 0.7, 'subsample': 0.6},\n",
       "  mean: 0.98308, std: 0.00029, params: {'colsample_bytree': 0.7, 'subsample': 0.7},\n",
       "  mean: 0.98320, std: 0.00034, params: {'colsample_bytree': 0.7, 'subsample': 0.8},\n",
       "  mean: 0.98321, std: 0.00031, params: {'colsample_bytree': 0.7, 'subsample': 0.9},\n",
       "  mean: 0.98316, std: 0.00024, params: {'colsample_bytree': 0.8, 'subsample': 0.6},\n",
       "  mean: 0.98325, std: 0.00026, params: {'colsample_bytree': 0.8, 'subsample': 0.7},\n",
       "  mean: 0.98330, std: 0.00029, params: {'colsample_bytree': 0.8, 'subsample': 0.8},\n",
       "  mean: 0.98333, std: 0.00019, params: {'colsample_bytree': 0.8, 'subsample': 0.9},\n",
       "  mean: 0.98315, std: 0.00020, params: {'colsample_bytree': 0.9, 'subsample': 0.6},\n",
       "  mean: 0.98322, std: 0.00031, params: {'colsample_bytree': 0.9, 'subsample': 0.7},\n",
       "  mean: 0.98327, std: 0.00021, params: {'colsample_bytree': 0.9, 'subsample': 0.8},\n",
       "  mean: 0.98334, std: 0.00020, params: {'colsample_bytree': 0.9, 'subsample': 0.9}],\n",
       " {'colsample_bytree': 0.9, 'subsample': 0.9},\n",
       " 0.9833351035488044)"
      ]
     },
     "execution_count": 47,
     "metadata": {},
     "output_type": "execute_result"
    }
   ],
   "source": [
    "(gsearch4.grid_scores_, gsearch4.best_params_, gsearch4.best_score_)"
   ]
  },
  {
   "cell_type": "code",
   "execution_count": 58,
   "metadata": {
    "scrolled": true
   },
   "outputs": [
    {
     "name": "stdout",
     "output_type": "stream",
     "text": [
      "Fitting 4 folds for each of 9 candidates, totalling 36 fits\n",
      "[CV] colsample_bytree=0.82, subsample=0.82 ...........................\n",
      "[CV]  colsample_bytree=0.82, subsample=0.82, score=0.9831901450006562, total=  37.1s\n",
      "[CV] colsample_bytree=0.82, subsample=0.82 ...........................\n"
     ]
    },
    {
     "name": "stderr",
     "output_type": "stream",
     "text": [
      "[Parallel(n_jobs=1)]: Done   1 out of   1 | elapsed:   37.7s remaining:    0.0s\n"
     ]
    },
    {
     "name": "stdout",
     "output_type": "stream",
     "text": [
      "[CV]  colsample_bytree=0.82, subsample=0.82, score=0.9833833519439409, total=  34.7s\n",
      "[CV] colsample_bytree=0.82, subsample=0.82 ...........................\n"
     ]
    },
    {
     "name": "stderr",
     "output_type": "stream",
     "text": [
      "[Parallel(n_jobs=1)]: Done   2 out of   2 | elapsed:  1.2min remaining:    0.0s\n"
     ]
    },
    {
     "name": "stdout",
     "output_type": "stream",
     "text": [
      "[CV]  colsample_bytree=0.82, subsample=0.82, score=0.9836860659335295, total=  37.5s\n",
      "[CV] colsample_bytree=0.82, subsample=0.82 ...........................\n"
     ]
    },
    {
     "name": "stderr",
     "output_type": "stream",
     "text": [
      "[Parallel(n_jobs=1)]: Done   3 out of   3 | elapsed:  1.9min remaining:    0.0s\n"
     ]
    },
    {
     "name": "stdout",
     "output_type": "stream",
     "text": [
      "[CV]  colsample_bytree=0.82, subsample=0.82, score=0.9829935065256671, total=  35.9s\n",
      "[CV] colsample_bytree=0.82, subsample=0.87 ...........................\n"
     ]
    },
    {
     "name": "stderr",
     "output_type": "stream",
     "text": [
      "[Parallel(n_jobs=1)]: Done   4 out of   4 | elapsed:  2.5min remaining:    0.0s\n"
     ]
    },
    {
     "name": "stdout",
     "output_type": "stream",
     "text": [
      "[CV]  colsample_bytree=0.82, subsample=0.87, score=0.9832919553753326, total=  30.8s\n",
      "[CV] colsample_bytree=0.82, subsample=0.87 ...........................\n"
     ]
    },
    {
     "name": "stderr",
     "output_type": "stream",
     "text": [
      "[Parallel(n_jobs=1)]: Done   5 out of   5 | elapsed:  3.0min remaining:    0.0s\n"
     ]
    },
    {
     "name": "stdout",
     "output_type": "stream",
     "text": [
      "[CV]  colsample_bytree=0.82, subsample=0.87, score=0.9834003255923967, total=  33.5s\n",
      "[CV] colsample_bytree=0.82, subsample=0.87 ...........................\n"
     ]
    },
    {
     "name": "stderr",
     "output_type": "stream",
     "text": [
      "[Parallel(n_jobs=1)]: Done   6 out of   6 | elapsed:  3.6min remaining:    0.0s\n"
     ]
    },
    {
     "name": "stdout",
     "output_type": "stream",
     "text": [
      "[CV]  colsample_bytree=0.82, subsample=0.87, score=0.9836480868323231, total=  36.9s\n",
      "[CV] colsample_bytree=0.82, subsample=0.87 ...........................\n"
     ]
    },
    {
     "name": "stderr",
     "output_type": "stream",
     "text": [
      "[Parallel(n_jobs=1)]: Done   7 out of   7 | elapsed:  4.2min remaining:    0.0s\n"
     ]
    },
    {
     "name": "stdout",
     "output_type": "stream",
     "text": [
      "[CV]  colsample_bytree=0.82, subsample=0.87, score=0.9831192089685767, total=  37.2s\n",
      "[CV] colsample_bytree=0.82, subsample=0.92 ...........................\n"
     ]
    },
    {
     "name": "stderr",
     "output_type": "stream",
     "text": [
      "[Parallel(n_jobs=1)]: Done   8 out of   8 | elapsed:  4.8min remaining:    0.0s\n"
     ]
    },
    {
     "name": "stdout",
     "output_type": "stream",
     "text": [
      "[CV]  colsample_bytree=0.82, subsample=0.92, score=0.9832111999786411, total=  37.1s\n",
      "[CV] colsample_bytree=0.82, subsample=0.92 ...........................\n"
     ]
    },
    {
     "name": "stderr",
     "output_type": "stream",
     "text": [
      "[Parallel(n_jobs=1)]: Done   9 out of   9 | elapsed:  5.4min remaining:    0.0s\n"
     ]
    },
    {
     "name": "stdout",
     "output_type": "stream",
     "text": [
      "[CV]  colsample_bytree=0.82, subsample=0.92, score=0.9833872374236803, total=  36.5s\n",
      "[CV] colsample_bytree=0.82, subsample=0.92 ...........................\n",
      "[CV]  colsample_bytree=0.82, subsample=0.92, score=0.9835957251528693, total=  36.6s\n",
      "[CV] colsample_bytree=0.82, subsample=0.92 ...........................\n",
      "[CV]  colsample_bytree=0.82, subsample=0.92, score=0.9830280675497827, total=  36.1s\n",
      "[CV] colsample_bytree=0.87, subsample=0.82 ...........................\n",
      "[CV]  colsample_bytree=0.87, subsample=0.82, score=0.983149826957706, total=  35.8s\n",
      "[CV] colsample_bytree=0.87, subsample=0.82 ...........................\n",
      "[CV]  colsample_bytree=0.87, subsample=0.82, score=0.983328052517639, total=  33.7s\n",
      "[CV] colsample_bytree=0.87, subsample=0.82 ...........................\n",
      "[CV]  colsample_bytree=0.87, subsample=0.82, score=0.9837107407559068, total=  34.2s\n",
      "[CV] colsample_bytree=0.87, subsample=0.82 ...........................\n",
      "[CV]  colsample_bytree=0.87, subsample=0.82, score=0.9831166920831572, total=  35.3s\n",
      "[CV] colsample_bytree=0.87, subsample=0.87 ...........................\n",
      "[CV]  colsample_bytree=0.87, subsample=0.87, score=0.9832153150753754, total=  35.0s\n",
      "[CV] colsample_bytree=0.87, subsample=0.87 ...........................\n",
      "[CV]  colsample_bytree=0.87, subsample=0.87, score=0.9833454291214095, total=  40.8s\n",
      "[CV] colsample_bytree=0.87, subsample=0.87 ...........................\n",
      "[CV]  colsample_bytree=0.87, subsample=0.87, score=0.9836308925714603, total=  41.7s\n",
      "[CV] colsample_bytree=0.87, subsample=0.87 ...........................\n",
      "[CV]  colsample_bytree=0.87, subsample=0.87, score=0.982954904527197, total=  38.6s\n",
      "[CV] colsample_bytree=0.87, subsample=0.92 ...........................\n",
      "[CV]  colsample_bytree=0.87, subsample=0.92, score=0.9831217641590788, total=  39.5s\n",
      "[CV] colsample_bytree=0.87, subsample=0.92 ...........................\n",
      "[CV]  colsample_bytree=0.87, subsample=0.92, score=0.9833061916290242, total=  38.3s\n",
      "[CV] colsample_bytree=0.87, subsample=0.92 ...........................\n",
      "[CV]  colsample_bytree=0.87, subsample=0.92, score=0.9835406373343862, total=  38.2s\n",
      "[CV] colsample_bytree=0.87, subsample=0.92 ...........................\n",
      "[CV]  colsample_bytree=0.87, subsample=0.92, score=0.9830816290327011, total=  37.7s\n",
      "[CV] colsample_bytree=0.92, subsample=0.82 ...........................\n",
      "[CV]  colsample_bytree=0.92, subsample=0.82, score=0.9830926658328266, total=  37.9s\n",
      "[CV] colsample_bytree=0.92, subsample=0.82 ...........................\n",
      "[CV]  colsample_bytree=0.92, subsample=0.82, score=0.9833868164591894, total=  38.5s\n",
      "[CV] colsample_bytree=0.92, subsample=0.82 ...........................\n",
      "[CV]  colsample_bytree=0.92, subsample=0.82, score=0.983620985273469, total=  37.2s\n",
      "[CV] colsample_bytree=0.92, subsample=0.82 ...........................\n",
      "[CV]  colsample_bytree=0.92, subsample=0.82, score=0.9830997942817624, total=  35.5s\n",
      "[CV] colsample_bytree=0.92, subsample=0.87 ...........................\n",
      "[CV]  colsample_bytree=0.92, subsample=0.87, score=0.9831951065286663, total=  42.4s\n",
      "[CV] colsample_bytree=0.92, subsample=0.87 ...........................\n",
      "[CV]  colsample_bytree=0.92, subsample=0.87, score=0.9832585708651738, total=  38.3s\n",
      "[CV] colsample_bytree=0.92, subsample=0.87 ...........................\n",
      "[CV]  colsample_bytree=0.92, subsample=0.87, score=0.9836377720767229, total=  39.2s\n",
      "[CV] colsample_bytree=0.92, subsample=0.87 ...........................\n",
      "[CV]  colsample_bytree=0.92, subsample=0.87, score=0.983082819938235, total=  40.0s\n",
      "[CV] colsample_bytree=0.92, subsample=0.92 ...........................\n",
      "[CV]  colsample_bytree=0.92, subsample=0.92, score=0.9831418804087606, total=  44.2s\n",
      "[CV] colsample_bytree=0.92, subsample=0.92 ...........................\n",
      "[CV]  colsample_bytree=0.92, subsample=0.92, score=0.9833010432558122, total=  41.6s\n",
      "[CV] colsample_bytree=0.92, subsample=0.92 ...........................\n",
      "[CV]  colsample_bytree=0.92, subsample=0.92, score=0.9835325962372663, total=  38.2s\n",
      "[CV] colsample_bytree=0.92, subsample=0.92 ...........................\n",
      "[CV]  colsample_bytree=0.92, subsample=0.92, score=0.9830948573142085, total=  38.8s\n"
     ]
    },
    {
     "name": "stderr",
     "output_type": "stream",
     "text": [
      "[Parallel(n_jobs=1)]: Done  36 out of  36 | elapsed: 22.9min finished\n"
     ]
    },
    {
     "data": {
      "text/plain": [
       "GridSearchCV(cv=4, error_score='raise',\n",
       "       estimator=XGBClassifier(base_score=0.5, booster='gbtree', colsample_bylevel=1,\n",
       "       colsample_bytree=1, gamma=0.2, learning_rate=0.03, max_delta_step=0,\n",
       "       max_depth=10, min_child_weight=5, missing=None, n_estimators=261,\n",
       "       n_jobs=-1, nthread=None, objective='binary:logistic',\n",
       "       random_state=0, reg_alpha=0, reg_lambda=1, scale_pos_weight=1,\n",
       "       seed=420, silent=True, subsample=1),\n",
       "       fit_params=None, iid=True, n_jobs=1,\n",
       "       param_grid={'subsample': [0.82, 0.87, 0.92], 'colsample_bytree': [0.82, 0.87, 0.92]},\n",
       "       pre_dispatch='2*n_jobs', refit=True, return_train_score='warn',\n",
       "       scoring='roc_auc', verbose=10)"
      ]
     },
     "execution_count": 58,
     "metadata": {},
     "output_type": "execute_result"
    }
   ],
   "source": [
    "param_test5 = {\n",
    "    'subsample':[i/100.0 for i in range(82,93,5)],\n",
    "    'colsample_bytree':[i/100.0 for i in range(82,93,5)]\n",
    "}\n",
    "gsearch5 = GridSearchCV(estimator = xgb.XGBClassifier(learning_rate=0.03, \n",
    "                        max_depth=10, min_child_weight=5, gamma=0.2,\n",
    "                        n_estimators=261, n_jobs=-1, seed=420), \n",
    "                        param_grid = param_test5, \n",
    "                        scoring='roc_auc', cv=4, verbose=10)\n",
    "gsearch5.fit(X, Y)"
   ]
  },
  {
   "cell_type": "code",
   "execution_count": 59,
   "metadata": {},
   "outputs": [
    {
     "name": "stderr",
     "output_type": "stream",
     "text": [
      "/home/ubuntu/anaconda3/envs/python3/lib/python3.6/site-packages/sklearn/model_selection/_search.py:761: DeprecationWarning: The grid_scores_ attribute was deprecated in version 0.18 in favor of the more elaborate cv_results_ attribute. The grid_scores_ attribute will not be available from 0.20\n",
      "  DeprecationWarning)\n"
     ]
    },
    {
     "data": {
      "text/plain": [
       "([mean: 0.98331, std: 0.00026, params: {'colsample_bytree': 0.82, 'subsample': 0.82},\n",
       "  mean: 0.98336, std: 0.00019, params: {'colsample_bytree': 0.82, 'subsample': 0.87},\n",
       "  mean: 0.98331, std: 0.00021, params: {'colsample_bytree': 0.82, 'subsample': 0.92},\n",
       "  mean: 0.98333, std: 0.00024, params: {'colsample_bytree': 0.87, 'subsample': 0.82},\n",
       "  mean: 0.98329, std: 0.00024, params: {'colsample_bytree': 0.87, 'subsample': 0.87},\n",
       "  mean: 0.98326, std: 0.00018, params: {'colsample_bytree': 0.87, 'subsample': 0.92},\n",
       "  mean: 0.98330, std: 0.00022, params: {'colsample_bytree': 0.92, 'subsample': 0.82},\n",
       "  mean: 0.98329, std: 0.00021, params: {'colsample_bytree': 0.92, 'subsample': 0.87},\n",
       "  mean: 0.98327, std: 0.00017, params: {'colsample_bytree': 0.92, 'subsample': 0.92}],\n",
       " {'colsample_bytree': 0.82, 'subsample': 0.87},\n",
       " 0.9833648960247675)"
      ]
     },
     "execution_count": 59,
     "metadata": {},
     "output_type": "execute_result"
    }
   ],
   "source": [
    "(gsearch5.grid_scores_, gsearch5.best_params_, gsearch5.best_score_)"
   ]
  },
  {
   "cell_type": "code",
   "execution_count": 61,
   "metadata": {
    "scrolled": true
   },
   "outputs": [
    {
     "name": "stdout",
     "output_type": "stream",
     "text": [
      "Fitting 4 folds for each of 1 candidates, totalling 4 fits\n",
      "[CV] colsample_bytree=0.85, subsample=0.85 ...........................\n",
      "[CV]  colsample_bytree=0.85, subsample=0.85, score=0.9831339811339023, total=  38.7s\n",
      "[CV] colsample_bytree=0.85, subsample=0.85 ...........................\n"
     ]
    },
    {
     "name": "stderr",
     "output_type": "stream",
     "text": [
      "[Parallel(n_jobs=1)]: Done   1 out of   1 | elapsed:   39.3s remaining:    0.0s\n"
     ]
    },
    {
     "name": "stdout",
     "output_type": "stream",
     "text": [
      "[CV]  colsample_bytree=0.85, subsample=0.85, score=0.9834318866734775, total=  38.2s\n",
      "[CV] colsample_bytree=0.85, subsample=0.85 ...........................\n"
     ]
    },
    {
     "name": "stderr",
     "output_type": "stream",
     "text": [
      "[Parallel(n_jobs=1)]: Done   2 out of   2 | elapsed:  1.3min remaining:    0.0s\n"
     ]
    },
    {
     "name": "stdout",
     "output_type": "stream",
     "text": [
      "[CV]  colsample_bytree=0.85, subsample=0.85, score=0.9837344655942456, total=  37.3s\n",
      "[CV] colsample_bytree=0.85, subsample=0.85 ...........................\n"
     ]
    },
    {
     "name": "stderr",
     "output_type": "stream",
     "text": [
      "[Parallel(n_jobs=1)]: Done   3 out of   3 | elapsed:  1.9min remaining:    0.0s\n"
     ]
    },
    {
     "name": "stdout",
     "output_type": "stream",
     "text": [
      "[CV]  colsample_bytree=0.85, subsample=0.85, score=0.983075057665492, total=  37.5s\n"
     ]
    },
    {
     "name": "stderr",
     "output_type": "stream",
     "text": [
      "[Parallel(n_jobs=1)]: Done   4 out of   4 | elapsed:  2.6min remaining:    0.0s\n",
      "[Parallel(n_jobs=1)]: Done   4 out of   4 | elapsed:  2.6min finished\n"
     ]
    },
    {
     "data": {
      "text/plain": [
       "GridSearchCV(cv=4, error_score='raise',\n",
       "       estimator=XGBClassifier(base_score=0.5, booster='gbtree', colsample_bylevel=1,\n",
       "       colsample_bytree=1, gamma=0.2, learning_rate=0.03, max_delta_step=0,\n",
       "       max_depth=10, min_child_weight=5, missing=None, n_estimators=261,\n",
       "       n_jobs=-1, nthread=None, objective='binary:logistic',\n",
       "       random_state=0, reg_alpha=0, reg_lambda=1, scale_pos_weight=1,\n",
       "       seed=420, silent=True, subsample=1),\n",
       "       fit_params=None, iid=True, n_jobs=1,\n",
       "       param_grid={'subsample': [0.85], 'colsample_bytree': [0.85]},\n",
       "       pre_dispatch='2*n_jobs', refit=True, return_train_score='warn',\n",
       "       scoring='roc_auc', verbose=10)"
      ]
     },
     "execution_count": 61,
     "metadata": {},
     "output_type": "execute_result"
    }
   ],
   "source": [
    "param_test5 = {\n",
    "    'subsample': [0.85],\n",
    "    'colsample_bytree': [0.85]\n",
    "}\n",
    "gsearch5 = GridSearchCV(estimator = xgb.XGBClassifier(learning_rate=0.03, \n",
    "                        max_depth=10, min_child_weight=5, gamma=0.2,\n",
    "                        n_estimators=261, n_jobs=-1, seed=420), \n",
    "                        param_grid = param_test5, \n",
    "                        scoring='roc_auc', cv=4, verbose=10)\n",
    "gsearch5.fit(X, Y)"
   ]
  },
  {
   "cell_type": "code",
   "execution_count": 62,
   "metadata": {},
   "outputs": [
    {
     "name": "stderr",
     "output_type": "stream",
     "text": [
      "/home/ubuntu/anaconda3/envs/python3/lib/python3.6/site-packages/sklearn/model_selection/_search.py:761: DeprecationWarning: The grid_scores_ attribute was deprecated in version 0.18 in favor of the more elaborate cv_results_ attribute. The grid_scores_ attribute will not be available from 0.20\n",
      "  DeprecationWarning)\n"
     ]
    },
    {
     "data": {
      "text/plain": [
       "([mean: 0.98334, std: 0.00026, params: {'colsample_bytree': 0.85, 'subsample': 0.85}],\n",
       " {'colsample_bytree': 0.85, 'subsample': 0.85},\n",
       " 0.983343849771733)"
      ]
     },
     "execution_count": 62,
     "metadata": {},
     "output_type": "execute_result"
    }
   ],
   "source": [
    "(gsearch5.grid_scores_, gsearch5.best_params_, gsearch5.best_score_)"
   ]
  },
  {
   "cell_type": "markdown",
   "metadata": {},
   "source": [
    "### 2.1.4 Reg_alpha"
   ]
  },
  {
   "cell_type": "code",
   "execution_count": 68,
   "metadata": {
    "scrolled": true
   },
   "outputs": [
    {
     "name": "stdout",
     "output_type": "stream",
     "text": [
      "Fitting 4 folds for each of 5 candidates, totalling 20 fits\n",
      "[CV] reg_alpha=1e-05 .................................................\n",
      "[CV] ........ reg_alpha=1e-05, score=0.9833101198805568, total=  39.8s\n",
      "[CV] reg_alpha=1e-05 .................................................\n"
     ]
    },
    {
     "name": "stderr",
     "output_type": "stream",
     "text": [
      "[Parallel(n_jobs=1)]: Done   1 out of   1 | elapsed:   40.4s remaining:    0.0s\n"
     ]
    },
    {
     "name": "stdout",
     "output_type": "stream",
     "text": [
      "[CV] ........ reg_alpha=1e-05, score=0.9834003255923968, total=  40.5s\n",
      "[CV] reg_alpha=1e-05 .................................................\n"
     ]
    },
    {
     "name": "stderr",
     "output_type": "stream",
     "text": [
      "[Parallel(n_jobs=1)]: Done   2 out of   2 | elapsed:  1.4min remaining:    0.0s\n"
     ]
    },
    {
     "name": "stdout",
     "output_type": "stream",
     "text": [
      "[CV] .......... reg_alpha=1e-05, score=0.98364808908347, total=  41.5s\n",
      "[CV] reg_alpha=1e-05 .................................................\n"
     ]
    },
    {
     "name": "stderr",
     "output_type": "stream",
     "text": [
      "[Parallel(n_jobs=1)]: Done   3 out of   3 | elapsed:  2.1min remaining:    0.0s\n"
     ]
    },
    {
     "name": "stdout",
     "output_type": "stream",
     "text": [
      "[CV] ........ reg_alpha=1e-05, score=0.9831177906878841, total=  39.8s\n",
      "[CV] reg_alpha=0.01 ..................................................\n"
     ]
    },
    {
     "name": "stderr",
     "output_type": "stream",
     "text": [
      "[Parallel(n_jobs=1)]: Done   4 out of   4 | elapsed:  2.7min remaining:    0.0s\n"
     ]
    },
    {
     "name": "stdout",
     "output_type": "stream",
     "text": [
      "[CV] .......... reg_alpha=0.01, score=0.983290883829356, total=  36.4s\n",
      "[CV] reg_alpha=0.01 ..................................................\n"
     ]
    },
    {
     "name": "stderr",
     "output_type": "stream",
     "text": [
      "[Parallel(n_jobs=1)]: Done   5 out of   5 | elapsed:  3.4min remaining:    0.0s\n"
     ]
    },
    {
     "name": "stdout",
     "output_type": "stream",
     "text": [
      "[CV] ......... reg_alpha=0.01, score=0.9833002170848595, total=  38.0s\n",
      "[CV] reg_alpha=0.01 ..................................................\n"
     ]
    },
    {
     "name": "stderr",
     "output_type": "stream",
     "text": [
      "[Parallel(n_jobs=1)]: Done   6 out of   6 | elapsed:  4.0min remaining:    0.0s\n"
     ]
    },
    {
     "name": "stdout",
     "output_type": "stream",
     "text": [
      "[CV] ......... reg_alpha=0.01, score=0.9836515716078946, total=  32.4s\n",
      "[CV] reg_alpha=0.01 ..................................................\n"
     ]
    },
    {
     "name": "stderr",
     "output_type": "stream",
     "text": [
      "[Parallel(n_jobs=1)]: Done   7 out of   7 | elapsed:  4.5min remaining:    0.0s\n"
     ]
    },
    {
     "name": "stdout",
     "output_type": "stream",
     "text": [
      "[CV] ......... reg_alpha=0.01, score=0.9830516920538911, total=  38.3s\n",
      "[CV] reg_alpha=0.1 ...................................................\n"
     ]
    },
    {
     "name": "stderr",
     "output_type": "stream",
     "text": [
      "[Parallel(n_jobs=1)]: Done   8 out of   8 | elapsed:  5.2min remaining:    0.0s\n"
     ]
    },
    {
     "name": "stdout",
     "output_type": "stream",
     "text": [
      "[CV] .......... reg_alpha=0.1, score=0.9832918293111002, total=  39.3s\n",
      "[CV] reg_alpha=0.1 ...................................................\n"
     ]
    },
    {
     "name": "stderr",
     "output_type": "stream",
     "text": [
      "[Parallel(n_jobs=1)]: Done   9 out of   9 | elapsed:  5.9min remaining:    0.0s\n"
     ]
    },
    {
     "name": "stdout",
     "output_type": "stream",
     "text": [
      "[CV] .......... reg_alpha=0.1, score=0.9834333859373862, total=  32.8s\n",
      "[CV] reg_alpha=0.1 ...................................................\n",
      "[CV] .......... reg_alpha=0.1, score=0.9836747944404503, total=  35.4s\n",
      "[CV] reg_alpha=0.1 ...................................................\n",
      "[CV] .......... reg_alpha=0.1, score=0.9830604156057703, total=  36.4s\n",
      "[CV] reg_alpha=1 .....................................................\n",
      "[CV] ............. reg_alpha=1, score=0.983314608667695, total=  41.2s\n",
      "[CV] reg_alpha=1 .....................................................\n",
      "[CV] ............. reg_alpha=1, score=0.983287345026256, total=  34.7s\n",
      "[CV] reg_alpha=1 .....................................................\n",
      "[CV] ............ reg_alpha=1, score=0.9836050921755781, total=  37.5s\n",
      "[CV] reg_alpha=1 .....................................................\n",
      "[CV] ............ reg_alpha=1, score=0.9831802490680995, total=  37.1s\n",
      "[CV] reg_alpha=100 ...................................................\n",
      "[CV] .......... reg_alpha=100, score=0.9803543526006231, total=  31.4s\n",
      "[CV] reg_alpha=100 ...................................................\n",
      "[CV] ........... reg_alpha=100, score=0.980641659740075, total=  28.3s\n",
      "[CV] reg_alpha=100 ...................................................\n",
      "[CV] .......... reg_alpha=100, score=0.9813720241271634, total=  31.9s\n",
      "[CV] reg_alpha=100 ...................................................\n",
      "[CV] .......... reg_alpha=100, score=0.9800068617770653, total=  34.6s\n"
     ]
    },
    {
     "name": "stderr",
     "output_type": "stream",
     "text": [
      "[Parallel(n_jobs=1)]: Done  20 out of  20 | elapsed: 12.3min finished\n"
     ]
    },
    {
     "data": {
      "text/plain": [
       "GridSearchCV(cv=4, error_score='raise',\n",
       "       estimator=XGBClassifier(base_score=0.5, booster='gbtree', colsample_bylevel=1,\n",
       "       colsample_bytree=0.82, gamma=0.2, learning_rate=0.03,\n",
       "       max_delta_step=0, max_depth=10, min_child_weight=5, missing=None,\n",
       "       n_estimators=261, n_jobs=-1, nthread=None,\n",
       "       objective='binary:logistic', random_state=0, reg_alpha=0,\n",
       "       reg_lambda=1, scale_pos_weight=1, seed=420, silent=True,\n",
       "       subsample=0.87),\n",
       "       fit_params=None, iid=True, n_jobs=1,\n",
       "       param_grid={'reg_alpha': [1e-05, 0.01, 0.1, 1, 100]},\n",
       "       pre_dispatch='2*n_jobs', refit=True, return_train_score='warn',\n",
       "       scoring='roc_auc', verbose=10)"
      ]
     },
     "execution_count": 68,
     "metadata": {},
     "output_type": "execute_result"
    }
   ],
   "source": [
    "param_test6 = {\n",
    "    'reg_alpha':[1e-5, 1e-2, 0.1, 1, 100]\n",
    "}\n",
    "\n",
    "gsearch6 = GridSearchCV(estimator = xgb.XGBClassifier(learning_rate=0.03, \n",
    "                        max_depth=10, min_child_weight=5, gamma=0.2,\n",
    "                        subsample=0.87, colsample_bytree=0.82,\n",
    "                        n_estimators=261, n_jobs=-1, seed=420), \n",
    "                        param_grid = param_test6, \n",
    "                        scoring='roc_auc', cv=4, verbose=10)\n",
    "gsearch6.fit(X,Y)"
   ]
  },
  {
   "cell_type": "code",
   "execution_count": 69,
   "metadata": {},
   "outputs": [
    {
     "name": "stderr",
     "output_type": "stream",
     "text": [
      "/home/ubuntu/anaconda3/envs/python3/lib/python3.6/site-packages/sklearn/model_selection/_search.py:761: DeprecationWarning: The grid_scores_ attribute was deprecated in version 0.18 in favor of the more elaborate cv_results_ attribute. The grid_scores_ attribute will not be available from 0.20\n",
      "  DeprecationWarning)\n"
     ]
    },
    {
     "data": {
      "text/plain": [
       "([mean: 0.98337, std: 0.00019, params: {'reg_alpha': 1e-05},\n",
       "  mean: 0.98332, std: 0.00021, params: {'reg_alpha': 0.01},\n",
       "  mean: 0.98337, std: 0.00022, params: {'reg_alpha': 0.1},\n",
       "  mean: 0.98335, std: 0.00016, params: {'reg_alpha': 1},\n",
       "  mean: 0.98059, std: 0.00050, params: {'reg_alpha': 100}],\n",
       " {'reg_alpha': 1e-05},\n",
       " 0.983369083185499)"
      ]
     },
     "execution_count": 69,
     "metadata": {},
     "output_type": "execute_result"
    }
   ],
   "source": [
    "(gsearch6.grid_scores_, gsearch6.best_params_, gsearch6.best_score_)"
   ]
  },
  {
   "cell_type": "code",
   "execution_count": 74,
   "metadata": {
    "scrolled": true
   },
   "outputs": [
    {
     "name": "stdout",
     "output_type": "stream",
     "text": [
      "Fitting 4 folds for each of 3 candidates, totalling 12 fits\n",
      "[CV] reg_alpha=0.0001 ................................................\n",
      "[CV] ....... reg_alpha=0.0001, score=0.9833425071325905, total=  35.1s\n",
      "[CV] reg_alpha=0.0001 ................................................\n"
     ]
    },
    {
     "name": "stderr",
     "output_type": "stream",
     "text": [
      "[Parallel(n_jobs=1)]: Done   1 out of   1 | elapsed:   35.8s remaining:    0.0s\n"
     ]
    },
    {
     "name": "stdout",
     "output_type": "stream",
     "text": [
      "[CV] ....... reg_alpha=0.0001, score=0.9834439393145694, total=  35.2s\n",
      "[CV] reg_alpha=0.0001 ................................................\n"
     ]
    },
    {
     "name": "stderr",
     "output_type": "stream",
     "text": [
      "[Parallel(n_jobs=1)]: Done   2 out of   2 | elapsed:  1.2min remaining:    0.0s\n"
     ]
    },
    {
     "name": "stdout",
     "output_type": "stream",
     "text": [
      "[CV] ....... reg_alpha=0.0001, score=0.9836936522989536, total=  37.2s\n",
      "[CV] reg_alpha=0.0001 ................................................\n"
     ]
    },
    {
     "name": "stderr",
     "output_type": "stream",
     "text": [
      "[Parallel(n_jobs=1)]: Done   3 out of   3 | elapsed:  1.8min remaining:    0.0s\n"
     ]
    },
    {
     "name": "stdout",
     "output_type": "stream",
     "text": [
      "[CV] ....... reg_alpha=0.0001, score=0.9830220905097212, total=  37.0s\n",
      "[CV] reg_alpha=0.001 .................................................\n"
     ]
    },
    {
     "name": "stderr",
     "output_type": "stream",
     "text": [
      "[Parallel(n_jobs=1)]: Done   4 out of   4 | elapsed:  2.4min remaining:    0.0s\n"
     ]
    },
    {
     "name": "stdout",
     "output_type": "stream",
     "text": [
      "[CV] ........ reg_alpha=0.001, score=0.9832600633756412, total=  38.4s\n",
      "[CV] reg_alpha=0.001 .................................................\n"
     ]
    },
    {
     "name": "stderr",
     "output_type": "stream",
     "text": [
      "[Parallel(n_jobs=1)]: Done   5 out of   5 | elapsed:  3.1min remaining:    0.0s\n"
     ]
    },
    {
     "name": "stdout",
     "output_type": "stream",
     "text": [
      "[CV] ........ reg_alpha=0.001, score=0.9834023178575004, total=  35.7s\n",
      "[CV] reg_alpha=0.001 .................................................\n"
     ]
    },
    {
     "name": "stderr",
     "output_type": "stream",
     "text": [
      "[Parallel(n_jobs=1)]: Done   6 out of   6 | elapsed:  3.7min remaining:    0.0s\n"
     ]
    },
    {
     "name": "stdout",
     "output_type": "stream",
     "text": [
      "[CV] ........ reg_alpha=0.001, score=0.9836558127688616, total=  37.6s\n",
      "[CV] reg_alpha=0.001 .................................................\n"
     ]
    },
    {
     "name": "stderr",
     "output_type": "stream",
     "text": [
      "[Parallel(n_jobs=1)]: Done   7 out of   7 | elapsed:  4.3min remaining:    0.0s\n"
     ]
    },
    {
     "name": "stdout",
     "output_type": "stream",
     "text": [
      "[CV] ........ reg_alpha=0.001, score=0.9830635493307291, total=  36.2s\n",
      "[CV] reg_alpha=0.05 ..................................................\n"
     ]
    },
    {
     "name": "stderr",
     "output_type": "stream",
     "text": [
      "[Parallel(n_jobs=1)]: Done   8 out of   8 | elapsed:  5.0min remaining:    0.0s\n"
     ]
    },
    {
     "name": "stdout",
     "output_type": "stream",
     "text": [
      "[CV] .......... reg_alpha=0.05, score=0.983285751214173, total=  32.6s\n",
      "[CV] reg_alpha=0.05 ..................................................\n"
     ]
    },
    {
     "name": "stderr",
     "output_type": "stream",
     "text": [
      "[Parallel(n_jobs=1)]: Done   9 out of   9 | elapsed:  5.5min remaining:    0.0s\n"
     ]
    },
    {
     "name": "stdout",
     "output_type": "stream",
     "text": [
      "[CV] ......... reg_alpha=0.05, score=0.9834113517104519, total=  33.0s\n",
      "[CV] reg_alpha=0.05 ..................................................\n",
      "[CV] ......... reg_alpha=0.05, score=0.9836906672780181, total=  37.0s\n",
      "[CV] reg_alpha=0.05 ..................................................\n",
      "[CV] ......... reg_alpha=0.05, score=0.9831482184368384, total=  38.1s\n"
     ]
    },
    {
     "name": "stderr",
     "output_type": "stream",
     "text": [
      "[Parallel(n_jobs=1)]: Done  12 out of  12 | elapsed:  7.3min finished\n"
     ]
    },
    {
     "data": {
      "text/plain": [
       "GridSearchCV(cv=4, error_score='raise',\n",
       "       estimator=XGBClassifier(base_score=0.5, booster='gbtree', colsample_bylevel=1,\n",
       "       colsample_bytree=0.82, gamma=0.2, learning_rate=0.03,\n",
       "       max_delta_step=0, max_depth=10, min_child_weight=5, missing=None,\n",
       "       n_estimators=261, n_jobs=-1, nthread=None,\n",
       "       objective='binary:logistic', random_state=0, reg_alpha=0,\n",
       "       reg_lambda=1, scale_pos_weight=1, seed=420, silent=True,\n",
       "       subsample=0.87),\n",
       "       fit_params=None, iid=True, n_jobs=1,\n",
       "       param_grid={'reg_alpha': [0.0001, 0.001, 0.05]},\n",
       "       pre_dispatch='2*n_jobs', refit=True, return_train_score='warn',\n",
       "       scoring='roc_auc', verbose=10)"
      ]
     },
     "execution_count": 74,
     "metadata": {},
     "output_type": "execute_result"
    }
   ],
   "source": [
    "param_test7 = {\n",
    "    'reg_alpha': [1e-4, 1e-3, 0.05]\n",
    "}\n",
    "\n",
    "gsearch7 = GridSearchCV(estimator = xgb.XGBClassifier(learning_rate=0.03, \n",
    "                        max_depth=10, min_child_weight=5, gamma=0.2,\n",
    "                        subsample=0.87, colsample_bytree=0.82,\n",
    "                        n_estimators=261, n_jobs=-1, seed=420), \n",
    "                        param_grid = param_test7, \n",
    "                        scoring='roc_auc', cv=4, verbose=10)\n",
    "gsearch7.fit(X,Y)"
   ]
  },
  {
   "cell_type": "code",
   "execution_count": 75,
   "metadata": {},
   "outputs": [
    {
     "name": "stderr",
     "output_type": "stream",
     "text": [
      "/home/ubuntu/anaconda3/envs/python3/lib/python3.6/site-packages/sklearn/model_selection/_search.py:761: DeprecationWarning: The grid_scores_ attribute was deprecated in version 0.18 in favor of the more elaborate cv_results_ attribute. The grid_scores_ attribute will not be available from 0.20\n",
      "  DeprecationWarning)\n"
     ]
    },
    {
     "data": {
      "text/plain": [
       "([mean: 0.98338, std: 0.00024, params: {'reg_alpha': 0.0001},\n",
       "  mean: 0.98335, std: 0.00022, params: {'reg_alpha': 0.001},\n",
       "  mean: 0.98338, std: 0.00020, params: {'reg_alpha': 0.05}],\n",
       " {'reg_alpha': 0.05},\n",
       " 0.9833839989185863)"
      ]
     },
     "execution_count": 75,
     "metadata": {},
     "output_type": "execute_result"
    }
   ],
   "source": [
    "(gsearch7.grid_scores_, gsearch7.best_params_, gsearch7.best_score_)"
   ]
  },
  {
   "cell_type": "markdown",
   "metadata": {},
   "source": [
    "### 2.1.5 Learning Rate"
   ]
  },
  {
   "cell_type": "code",
   "execution_count": 21,
   "metadata": {
    "scrolled": true
   },
   "outputs": [
    {
     "name": "stdout",
     "output_type": "stream",
     "text": [
      "[0]\tvalidation_0-auc:0.982544\tvalidation_1-auc:0.977668\n",
      "Multiple eval metrics have been passed: 'validation_1-auc' will be used for early stopping.\n",
      "\n",
      "Will train until validation_1-auc hasn't improved in 100 rounds.\n",
      "[1]\tvalidation_0-auc:0.980008\tvalidation_1-auc:0.972932\n",
      "[2]\tvalidation_0-auc:0.983344\tvalidation_1-auc:0.976778\n",
      "[3]\tvalidation_0-auc:0.981828\tvalidation_1-auc:0.974417\n",
      "[4]\tvalidation_0-auc:0.980049\tvalidation_1-auc:0.972135\n",
      "[5]\tvalidation_0-auc:0.982203\tvalidation_1-auc:0.974491\n",
      "[6]\tvalidation_0-auc:0.983639\tvalidation_1-auc:0.976311\n",
      "[7]\tvalidation_0-auc:0.984593\tvalidation_1-auc:0.97727\n",
      "[8]\tvalidation_0-auc:0.98523\tvalidation_1-auc:0.977719\n",
      "[9]\tvalidation_0-auc:0.985783\tvalidation_1-auc:0.978263\n",
      "[10]\tvalidation_0-auc:0.98619\tvalidation_1-auc:0.978875\n",
      "[11]\tvalidation_0-auc:0.986527\tvalidation_1-auc:0.979253\n",
      "[12]\tvalidation_0-auc:0.986867\tvalidation_1-auc:0.979573\n",
      "[13]\tvalidation_0-auc:0.987046\tvalidation_1-auc:0.979695\n",
      "[14]\tvalidation_0-auc:0.986842\tvalidation_1-auc:0.979253\n",
      "[15]\tvalidation_0-auc:0.987058\tvalidation_1-auc:0.979554\n",
      "[16]\tvalidation_0-auc:0.987301\tvalidation_1-auc:0.979826\n",
      "[17]\tvalidation_0-auc:0.987185\tvalidation_1-auc:0.979524\n",
      "[18]\tvalidation_0-auc:0.986986\tvalidation_1-auc:0.979119\n",
      "[19]\tvalidation_0-auc:0.987243\tvalidation_1-auc:0.97944\n",
      "[20]\tvalidation_0-auc:0.987473\tvalidation_1-auc:0.979634\n",
      "[21]\tvalidation_0-auc:0.987648\tvalidation_1-auc:0.979861\n",
      "[22]\tvalidation_0-auc:0.987629\tvalidation_1-auc:0.979938\n",
      "[23]\tvalidation_0-auc:0.987832\tvalidation_1-auc:0.980168\n",
      "[24]\tvalidation_0-auc:0.987985\tvalidation_1-auc:0.980414\n",
      "[25]\tvalidation_0-auc:0.988141\tvalidation_1-auc:0.98055\n",
      "[26]\tvalidation_0-auc:0.988313\tvalidation_1-auc:0.980713\n",
      "[27]\tvalidation_0-auc:0.988481\tvalidation_1-auc:0.98084\n",
      "[28]\tvalidation_0-auc:0.988489\tvalidation_1-auc:0.980868\n",
      "[29]\tvalidation_0-auc:0.988605\tvalidation_1-auc:0.980956\n",
      "[30]\tvalidation_0-auc:0.988739\tvalidation_1-auc:0.981161\n",
      "[31]\tvalidation_0-auc:0.988759\tvalidation_1-auc:0.98116\n",
      "[32]\tvalidation_0-auc:0.988717\tvalidation_1-auc:0.981106\n",
      "[33]\tvalidation_0-auc:0.988782\tvalidation_1-auc:0.980962\n",
      "[34]\tvalidation_0-auc:0.988797\tvalidation_1-auc:0.98085\n",
      "[35]\tvalidation_0-auc:0.988909\tvalidation_1-auc:0.980983\n",
      "[36]\tvalidation_0-auc:0.988917\tvalidation_1-auc:0.98086\n",
      "[37]\tvalidation_0-auc:0.989048\tvalidation_1-auc:0.981013\n",
      "[38]\tvalidation_0-auc:0.989008\tvalidation_1-auc:0.980835\n",
      "[39]\tvalidation_0-auc:0.989152\tvalidation_1-auc:0.980984\n",
      "[40]\tvalidation_0-auc:0.989175\tvalidation_1-auc:0.980995\n",
      "[41]\tvalidation_0-auc:0.989297\tvalidation_1-auc:0.981088\n",
      "[42]\tvalidation_0-auc:0.989283\tvalidation_1-auc:0.981063\n",
      "[43]\tvalidation_0-auc:0.989383\tvalidation_1-auc:0.981179\n",
      "[44]\tvalidation_0-auc:0.989464\tvalidation_1-auc:0.981289\n",
      "[45]\tvalidation_0-auc:0.98956\tvalidation_1-auc:0.981384\n",
      "[46]\tvalidation_0-auc:0.989604\tvalidation_1-auc:0.981359\n",
      "[47]\tvalidation_0-auc:0.989707\tvalidation_1-auc:0.981454\n",
      "[48]\tvalidation_0-auc:0.989738\tvalidation_1-auc:0.981413\n",
      "[49]\tvalidation_0-auc:0.989783\tvalidation_1-auc:0.981331\n",
      "[50]\tvalidation_0-auc:0.989878\tvalidation_1-auc:0.981419\n",
      "[51]\tvalidation_0-auc:0.989976\tvalidation_1-auc:0.981524\n",
      "[52]\tvalidation_0-auc:0.990055\tvalidation_1-auc:0.98166\n",
      "[53]\tvalidation_0-auc:0.990148\tvalidation_1-auc:0.981762\n",
      "[54]\tvalidation_0-auc:0.99023\tvalidation_1-auc:0.981804\n",
      "[55]\tvalidation_0-auc:0.990281\tvalidation_1-auc:0.981764\n",
      "[56]\tvalidation_0-auc:0.990312\tvalidation_1-auc:0.981739\n",
      "[57]\tvalidation_0-auc:0.990347\tvalidation_1-auc:0.981712\n",
      "[58]\tvalidation_0-auc:0.990393\tvalidation_1-auc:0.981628\n",
      "[59]\tvalidation_0-auc:0.990486\tvalidation_1-auc:0.981728\n",
      "[60]\tvalidation_0-auc:0.990575\tvalidation_1-auc:0.981824\n",
      "[61]\tvalidation_0-auc:0.990652\tvalidation_1-auc:0.981906\n",
      "[62]\tvalidation_0-auc:0.9907\tvalidation_1-auc:0.981866\n",
      "[63]\tvalidation_0-auc:0.990757\tvalidation_1-auc:0.981845\n",
      "[64]\tvalidation_0-auc:0.990833\tvalidation_1-auc:0.981917\n",
      "[65]\tvalidation_0-auc:0.990914\tvalidation_1-auc:0.981969\n",
      "[66]\tvalidation_0-auc:0.990988\tvalidation_1-auc:0.982062\n",
      "[67]\tvalidation_0-auc:0.991076\tvalidation_1-auc:0.982146\n",
      "[68]\tvalidation_0-auc:0.991107\tvalidation_1-auc:0.982093\n",
      "[69]\tvalidation_0-auc:0.991178\tvalidation_1-auc:0.98216\n",
      "[70]\tvalidation_0-auc:0.991227\tvalidation_1-auc:0.982146\n",
      "[71]\tvalidation_0-auc:0.991269\tvalidation_1-auc:0.982162\n",
      "[72]\tvalidation_0-auc:0.991338\tvalidation_1-auc:0.982221\n",
      "[73]\tvalidation_0-auc:0.99141\tvalidation_1-auc:0.982311\n",
      "[74]\tvalidation_0-auc:0.991465\tvalidation_1-auc:0.982361\n",
      "[75]\tvalidation_0-auc:0.991539\tvalidation_1-auc:0.982427\n",
      "[76]\tvalidation_0-auc:0.991584\tvalidation_1-auc:0.982421\n",
      "[77]\tvalidation_0-auc:0.991653\tvalidation_1-auc:0.982473\n",
      "[78]\tvalidation_0-auc:0.99171\tvalidation_1-auc:0.982523\n",
      "[79]\tvalidation_0-auc:0.991775\tvalidation_1-auc:0.982569\n",
      "[80]\tvalidation_0-auc:0.991825\tvalidation_1-auc:0.982619\n",
      "[81]\tvalidation_0-auc:0.991862\tvalidation_1-auc:0.982622\n",
      "[82]\tvalidation_0-auc:0.99192\tvalidation_1-auc:0.982674\n",
      "[83]\tvalidation_0-auc:0.991975\tvalidation_1-auc:0.982707\n",
      "[84]\tvalidation_0-auc:0.992024\tvalidation_1-auc:0.982748\n",
      "[85]\tvalidation_0-auc:0.99207\tvalidation_1-auc:0.982798\n",
      "[86]\tvalidation_0-auc:0.99211\tvalidation_1-auc:0.982789\n",
      "[87]\tvalidation_0-auc:0.992169\tvalidation_1-auc:0.982831\n",
      "[88]\tvalidation_0-auc:0.992211\tvalidation_1-auc:0.982826\n",
      "[89]\tvalidation_0-auc:0.992257\tvalidation_1-auc:0.982837\n",
      "[90]\tvalidation_0-auc:0.992289\tvalidation_1-auc:0.982844\n",
      "[91]\tvalidation_0-auc:0.992357\tvalidation_1-auc:0.982888\n",
      "[92]\tvalidation_0-auc:0.99241\tvalidation_1-auc:0.982931\n",
      "[93]\tvalidation_0-auc:0.992471\tvalidation_1-auc:0.982985\n",
      "[94]\tvalidation_0-auc:0.992521\tvalidation_1-auc:0.983026\n",
      "[95]\tvalidation_0-auc:0.992554\tvalidation_1-auc:0.983033\n",
      "[96]\tvalidation_0-auc:0.992603\tvalidation_1-auc:0.983052\n",
      "[97]\tvalidation_0-auc:0.99266\tvalidation_1-auc:0.983097\n",
      "[98]\tvalidation_0-auc:0.992711\tvalidation_1-auc:0.983133\n",
      "[99]\tvalidation_0-auc:0.992755\tvalidation_1-auc:0.983136\n",
      "[100]\tvalidation_0-auc:0.992808\tvalidation_1-auc:0.983193\n",
      "[101]\tvalidation_0-auc:0.992844\tvalidation_1-auc:0.983186\n",
      "[102]\tvalidation_0-auc:0.992868\tvalidation_1-auc:0.983173\n",
      "[103]\tvalidation_0-auc:0.99291\tvalidation_1-auc:0.983196\n",
      "[104]\tvalidation_0-auc:0.992954\tvalidation_1-auc:0.983209\n",
      "[105]\tvalidation_0-auc:0.992988\tvalidation_1-auc:0.983211\n",
      "[106]\tvalidation_0-auc:0.993036\tvalidation_1-auc:0.983256\n",
      "[107]\tvalidation_0-auc:0.993089\tvalidation_1-auc:0.983287\n",
      "[108]\tvalidation_0-auc:0.993128\tvalidation_1-auc:0.983326\n",
      "[109]\tvalidation_0-auc:0.993166\tvalidation_1-auc:0.983324\n",
      "[110]\tvalidation_0-auc:0.993219\tvalidation_1-auc:0.983365\n",
      "[111]\tvalidation_0-auc:0.993264\tvalidation_1-auc:0.983382\n",
      "[112]\tvalidation_0-auc:0.993315\tvalidation_1-auc:0.983398\n",
      "[113]\tvalidation_0-auc:0.993361\tvalidation_1-auc:0.983424\n",
      "[114]\tvalidation_0-auc:0.993394\tvalidation_1-auc:0.983437\n",
      "[115]\tvalidation_0-auc:0.993435\tvalidation_1-auc:0.983463\n",
      "[116]\tvalidation_0-auc:0.99346\tvalidation_1-auc:0.983463\n",
      "[117]\tvalidation_0-auc:0.993516\tvalidation_1-auc:0.983488\n",
      "[118]\tvalidation_0-auc:0.993559\tvalidation_1-auc:0.983505\n",
      "[119]\tvalidation_0-auc:0.993601\tvalidation_1-auc:0.983514\n",
      "[120]\tvalidation_0-auc:0.993651\tvalidation_1-auc:0.983506\n",
      "[121]\tvalidation_0-auc:0.993695\tvalidation_1-auc:0.983527\n",
      "[122]\tvalidation_0-auc:0.993748\tvalidation_1-auc:0.983533\n",
      "[123]\tvalidation_0-auc:0.99378\tvalidation_1-auc:0.983552\n",
      "[124]\tvalidation_0-auc:0.993817\tvalidation_1-auc:0.983581\n",
      "[125]\tvalidation_0-auc:0.993857\tvalidation_1-auc:0.983609\n",
      "[126]\tvalidation_0-auc:0.993891\tvalidation_1-auc:0.983632\n",
      "[127]\tvalidation_0-auc:0.993927\tvalidation_1-auc:0.983661\n",
      "[128]\tvalidation_0-auc:0.993954\tvalidation_1-auc:0.983681\n",
      "[129]\tvalidation_0-auc:0.993992\tvalidation_1-auc:0.9837\n",
      "[130]\tvalidation_0-auc:0.994029\tvalidation_1-auc:0.983717\n",
      "[131]\tvalidation_0-auc:0.994057\tvalidation_1-auc:0.983721\n",
      "[132]\tvalidation_0-auc:0.994085\tvalidation_1-auc:0.983733\n",
      "[133]\tvalidation_0-auc:0.994117\tvalidation_1-auc:0.983737\n",
      "[134]\tvalidation_0-auc:0.994145\tvalidation_1-auc:0.983751\n",
      "[135]\tvalidation_0-auc:0.994176\tvalidation_1-auc:0.983763\n",
      "[136]\tvalidation_0-auc:0.994201\tvalidation_1-auc:0.983768\n",
      "[137]\tvalidation_0-auc:0.994234\tvalidation_1-auc:0.983775\n",
      "[138]\tvalidation_0-auc:0.99426\tvalidation_1-auc:0.98379\n",
      "[139]\tvalidation_0-auc:0.99431\tvalidation_1-auc:0.983794\n",
      "[140]\tvalidation_0-auc:0.99435\tvalidation_1-auc:0.983797\n"
     ]
    },
    {
     "name": "stdout",
     "output_type": "stream",
     "text": [
      "[141]\tvalidation_0-auc:0.994381\tvalidation_1-auc:0.983817\n",
      "[142]\tvalidation_0-auc:0.994397\tvalidation_1-auc:0.983828\n",
      "[143]\tvalidation_0-auc:0.994428\tvalidation_1-auc:0.983845\n",
      "[144]\tvalidation_0-auc:0.99447\tvalidation_1-auc:0.98386\n",
      "[145]\tvalidation_0-auc:0.994491\tvalidation_1-auc:0.983867\n",
      "[146]\tvalidation_0-auc:0.994523\tvalidation_1-auc:0.983876\n",
      "[147]\tvalidation_0-auc:0.99456\tvalidation_1-auc:0.983881\n",
      "[148]\tvalidation_0-auc:0.994589\tvalidation_1-auc:0.983913\n",
      "[149]\tvalidation_0-auc:0.994608\tvalidation_1-auc:0.983916\n",
      "[150]\tvalidation_0-auc:0.99464\tvalidation_1-auc:0.983929\n",
      "[151]\tvalidation_0-auc:0.994667\tvalidation_1-auc:0.983938\n",
      "[152]\tvalidation_0-auc:0.994686\tvalidation_1-auc:0.983937\n",
      "[153]\tvalidation_0-auc:0.994715\tvalidation_1-auc:0.98394\n",
      "[154]\tvalidation_0-auc:0.994749\tvalidation_1-auc:0.98395\n",
      "[155]\tvalidation_0-auc:0.994778\tvalidation_1-auc:0.983957\n",
      "[156]\tvalidation_0-auc:0.9948\tvalidation_1-auc:0.983979\n",
      "[157]\tvalidation_0-auc:0.994834\tvalidation_1-auc:0.983993\n",
      "[158]\tvalidation_0-auc:0.994859\tvalidation_1-auc:0.984009\n",
      "[159]\tvalidation_0-auc:0.994875\tvalidation_1-auc:0.984013\n",
      "[160]\tvalidation_0-auc:0.9949\tvalidation_1-auc:0.984022\n",
      "[161]\tvalidation_0-auc:0.994922\tvalidation_1-auc:0.98403\n",
      "[162]\tvalidation_0-auc:0.99494\tvalidation_1-auc:0.984035\n",
      "[163]\tvalidation_0-auc:0.994968\tvalidation_1-auc:0.984038\n",
      "[164]\tvalidation_0-auc:0.994993\tvalidation_1-auc:0.984064\n",
      "[165]\tvalidation_0-auc:0.995016\tvalidation_1-auc:0.984072\n",
      "[166]\tvalidation_0-auc:0.995034\tvalidation_1-auc:0.984082\n",
      "[167]\tvalidation_0-auc:0.99505\tvalidation_1-auc:0.984088\n",
      "[168]\tvalidation_0-auc:0.995075\tvalidation_1-auc:0.984098\n",
      "[169]\tvalidation_0-auc:0.995101\tvalidation_1-auc:0.984109\n",
      "[170]\tvalidation_0-auc:0.995112\tvalidation_1-auc:0.984116\n",
      "[171]\tvalidation_0-auc:0.995131\tvalidation_1-auc:0.984134\n",
      "[172]\tvalidation_0-auc:0.995147\tvalidation_1-auc:0.984139\n",
      "[173]\tvalidation_0-auc:0.995164\tvalidation_1-auc:0.984154\n",
      "[174]\tvalidation_0-auc:0.995187\tvalidation_1-auc:0.98416\n",
      "[175]\tvalidation_0-auc:0.995204\tvalidation_1-auc:0.984173\n",
      "[176]\tvalidation_0-auc:0.99521\tvalidation_1-auc:0.984179\n",
      "[177]\tvalidation_0-auc:0.995217\tvalidation_1-auc:0.984179\n",
      "[178]\tvalidation_0-auc:0.995234\tvalidation_1-auc:0.984182\n",
      "[179]\tvalidation_0-auc:0.995263\tvalidation_1-auc:0.984181\n",
      "[180]\tvalidation_0-auc:0.995276\tvalidation_1-auc:0.984186\n",
      "[181]\tvalidation_0-auc:0.995279\tvalidation_1-auc:0.984191\n",
      "[182]\tvalidation_0-auc:0.995305\tvalidation_1-auc:0.984188\n",
      "[183]\tvalidation_0-auc:0.995335\tvalidation_1-auc:0.984195\n",
      "[184]\tvalidation_0-auc:0.995354\tvalidation_1-auc:0.984196\n",
      "[185]\tvalidation_0-auc:0.995367\tvalidation_1-auc:0.984201\n",
      "[186]\tvalidation_0-auc:0.995386\tvalidation_1-auc:0.984209\n",
      "[187]\tvalidation_0-auc:0.995392\tvalidation_1-auc:0.984206\n",
      "[188]\tvalidation_0-auc:0.995411\tvalidation_1-auc:0.984215\n",
      "[189]\tvalidation_0-auc:0.995428\tvalidation_1-auc:0.984216\n",
      "[190]\tvalidation_0-auc:0.995438\tvalidation_1-auc:0.984226\n",
      "[191]\tvalidation_0-auc:0.99546\tvalidation_1-auc:0.984231\n",
      "[192]\tvalidation_0-auc:0.995474\tvalidation_1-auc:0.984239\n",
      "[193]\tvalidation_0-auc:0.995487\tvalidation_1-auc:0.984234\n",
      "[194]\tvalidation_0-auc:0.995504\tvalidation_1-auc:0.98424\n",
      "[195]\tvalidation_0-auc:0.99552\tvalidation_1-auc:0.984248\n",
      "[196]\tvalidation_0-auc:0.995533\tvalidation_1-auc:0.984253\n",
      "[197]\tvalidation_0-auc:0.995548\tvalidation_1-auc:0.984253\n",
      "[198]\tvalidation_0-auc:0.995557\tvalidation_1-auc:0.984251\n",
      "[199]\tvalidation_0-auc:0.995571\tvalidation_1-auc:0.984254\n",
      "[200]\tvalidation_0-auc:0.995581\tvalidation_1-auc:0.984256\n",
      "[201]\tvalidation_0-auc:0.995605\tvalidation_1-auc:0.984254\n",
      "[202]\tvalidation_0-auc:0.995629\tvalidation_1-auc:0.98425\n",
      "[203]\tvalidation_0-auc:0.995662\tvalidation_1-auc:0.984262\n",
      "[204]\tvalidation_0-auc:0.995684\tvalidation_1-auc:0.984263\n",
      "[205]\tvalidation_0-auc:0.995699\tvalidation_1-auc:0.984266\n",
      "[206]\tvalidation_0-auc:0.99573\tvalidation_1-auc:0.984269\n",
      "[207]\tvalidation_0-auc:0.995755\tvalidation_1-auc:0.984275\n",
      "[208]\tvalidation_0-auc:0.995765\tvalidation_1-auc:0.984274\n",
      "[209]\tvalidation_0-auc:0.995785\tvalidation_1-auc:0.984268\n",
      "[210]\tvalidation_0-auc:0.995814\tvalidation_1-auc:0.984267\n",
      "[211]\tvalidation_0-auc:0.995827\tvalidation_1-auc:0.984265\n",
      "[212]\tvalidation_0-auc:0.995846\tvalidation_1-auc:0.984256\n",
      "[213]\tvalidation_0-auc:0.995881\tvalidation_1-auc:0.98426\n",
      "[214]\tvalidation_0-auc:0.99589\tvalidation_1-auc:0.984261\n",
      "[215]\tvalidation_0-auc:0.995904\tvalidation_1-auc:0.984262\n",
      "[216]\tvalidation_0-auc:0.995916\tvalidation_1-auc:0.984272\n",
      "[217]\tvalidation_0-auc:0.995928\tvalidation_1-auc:0.984279\n",
      "[218]\tvalidation_0-auc:0.995947\tvalidation_1-auc:0.984278\n",
      "[219]\tvalidation_0-auc:0.995969\tvalidation_1-auc:0.984278\n",
      "[220]\tvalidation_0-auc:0.995995\tvalidation_1-auc:0.984279\n",
      "[221]\tvalidation_0-auc:0.996007\tvalidation_1-auc:0.984288\n",
      "[222]\tvalidation_0-auc:0.99602\tvalidation_1-auc:0.984291\n",
      "[223]\tvalidation_0-auc:0.996037\tvalidation_1-auc:0.984293\n",
      "[224]\tvalidation_0-auc:0.996047\tvalidation_1-auc:0.984293\n",
      "[225]\tvalidation_0-auc:0.996051\tvalidation_1-auc:0.984293\n",
      "[226]\tvalidation_0-auc:0.99606\tvalidation_1-auc:0.984293\n",
      "[227]\tvalidation_0-auc:0.996078\tvalidation_1-auc:0.984303\n",
      "[228]\tvalidation_0-auc:0.996083\tvalidation_1-auc:0.984303\n",
      "[229]\tvalidation_0-auc:0.9961\tvalidation_1-auc:0.984304\n",
      "[230]\tvalidation_0-auc:0.996105\tvalidation_1-auc:0.984307\n",
      "[231]\tvalidation_0-auc:0.99611\tvalidation_1-auc:0.984308\n",
      "[232]\tvalidation_0-auc:0.996134\tvalidation_1-auc:0.984304\n",
      "[233]\tvalidation_0-auc:0.996147\tvalidation_1-auc:0.984296\n",
      "[234]\tvalidation_0-auc:0.996154\tvalidation_1-auc:0.9843\n",
      "[235]\tvalidation_0-auc:0.996166\tvalidation_1-auc:0.984302\n",
      "[236]\tvalidation_0-auc:0.996175\tvalidation_1-auc:0.984302\n",
      "[237]\tvalidation_0-auc:0.99619\tvalidation_1-auc:0.984302\n",
      "[238]\tvalidation_0-auc:0.996199\tvalidation_1-auc:0.984304\n",
      "[239]\tvalidation_0-auc:0.996232\tvalidation_1-auc:0.984301\n",
      "[240]\tvalidation_0-auc:0.996245\tvalidation_1-auc:0.984302\n",
      "[241]\tvalidation_0-auc:0.996258\tvalidation_1-auc:0.984299\n",
      "[242]\tvalidation_0-auc:0.996276\tvalidation_1-auc:0.984302\n",
      "[243]\tvalidation_0-auc:0.996284\tvalidation_1-auc:0.984308\n",
      "[244]\tvalidation_0-auc:0.99629\tvalidation_1-auc:0.984307\n",
      "[245]\tvalidation_0-auc:0.996312\tvalidation_1-auc:0.984308\n",
      "[246]\tvalidation_0-auc:0.996317\tvalidation_1-auc:0.984312\n",
      "[247]\tvalidation_0-auc:0.996329\tvalidation_1-auc:0.984317\n",
      "[248]\tvalidation_0-auc:0.996341\tvalidation_1-auc:0.984322\n",
      "[249]\tvalidation_0-auc:0.996356\tvalidation_1-auc:0.984324\n",
      "[250]\tvalidation_0-auc:0.996372\tvalidation_1-auc:0.984322\n",
      "[251]\tvalidation_0-auc:0.996387\tvalidation_1-auc:0.984321\n",
      "[252]\tvalidation_0-auc:0.996405\tvalidation_1-auc:0.984329\n",
      "[253]\tvalidation_0-auc:0.996419\tvalidation_1-auc:0.984324\n",
      "[254]\tvalidation_0-auc:0.996435\tvalidation_1-auc:0.984326\n",
      "[255]\tvalidation_0-auc:0.996459\tvalidation_1-auc:0.984336\n",
      "[256]\tvalidation_0-auc:0.996471\tvalidation_1-auc:0.984334\n",
      "[257]\tvalidation_0-auc:0.996485\tvalidation_1-auc:0.984333\n",
      "[258]\tvalidation_0-auc:0.996495\tvalidation_1-auc:0.984329\n",
      "[259]\tvalidation_0-auc:0.996503\tvalidation_1-auc:0.984325\n",
      "[260]\tvalidation_0-auc:0.996513\tvalidation_1-auc:0.984324\n",
      "[261]\tvalidation_0-auc:0.996517\tvalidation_1-auc:0.984324\n",
      "[262]\tvalidation_0-auc:0.996529\tvalidation_1-auc:0.984324\n",
      "[263]\tvalidation_0-auc:0.996551\tvalidation_1-auc:0.984318\n",
      "[264]\tvalidation_0-auc:0.996561\tvalidation_1-auc:0.984318\n",
      "[265]\tvalidation_0-auc:0.996575\tvalidation_1-auc:0.984316\n",
      "[266]\tvalidation_0-auc:0.996591\tvalidation_1-auc:0.984309\n",
      "[267]\tvalidation_0-auc:0.996596\tvalidation_1-auc:0.984313\n",
      "[268]\tvalidation_0-auc:0.996605\tvalidation_1-auc:0.984311\n",
      "[269]\tvalidation_0-auc:0.996619\tvalidation_1-auc:0.984313\n",
      "[270]\tvalidation_0-auc:0.996629\tvalidation_1-auc:0.984312\n",
      "[271]\tvalidation_0-auc:0.996636\tvalidation_1-auc:0.984315\n",
      "[272]\tvalidation_0-auc:0.996658\tvalidation_1-auc:0.984319\n",
      "[273]\tvalidation_0-auc:0.996662\tvalidation_1-auc:0.984317\n",
      "[274]\tvalidation_0-auc:0.996679\tvalidation_1-auc:0.984319\n",
      "[275]\tvalidation_0-auc:0.996707\tvalidation_1-auc:0.984314\n",
      "[276]\tvalidation_0-auc:0.996724\tvalidation_1-auc:0.984317\n",
      "[277]\tvalidation_0-auc:0.996737\tvalidation_1-auc:0.984315\n",
      "[278]\tvalidation_0-auc:0.99675\tvalidation_1-auc:0.984316\n",
      "[279]\tvalidation_0-auc:0.996756\tvalidation_1-auc:0.984321\n",
      "[280]\tvalidation_0-auc:0.996778\tvalidation_1-auc:0.984324\n",
      "[281]\tvalidation_0-auc:0.99679\tvalidation_1-auc:0.984317\n",
      "[282]\tvalidation_0-auc:0.996805\tvalidation_1-auc:0.984315\n"
     ]
    },
    {
     "name": "stdout",
     "output_type": "stream",
     "text": [
      "[283]\tvalidation_0-auc:0.996819\tvalidation_1-auc:0.984316\n",
      "[284]\tvalidation_0-auc:0.996839\tvalidation_1-auc:0.984319\n",
      "[285]\tvalidation_0-auc:0.996866\tvalidation_1-auc:0.984319\n",
      "[286]\tvalidation_0-auc:0.996872\tvalidation_1-auc:0.984319\n",
      "[287]\tvalidation_0-auc:0.996885\tvalidation_1-auc:0.984317\n",
      "[288]\tvalidation_0-auc:0.996908\tvalidation_1-auc:0.984324\n",
      "[289]\tvalidation_0-auc:0.996917\tvalidation_1-auc:0.984327\n",
      "[290]\tvalidation_0-auc:0.996921\tvalidation_1-auc:0.984328\n",
      "[291]\tvalidation_0-auc:0.996933\tvalidation_1-auc:0.984327\n",
      "[292]\tvalidation_0-auc:0.996973\tvalidation_1-auc:0.984322\n",
      "[293]\tvalidation_0-auc:0.996978\tvalidation_1-auc:0.984322\n",
      "[294]\tvalidation_0-auc:0.996984\tvalidation_1-auc:0.984324\n",
      "[295]\tvalidation_0-auc:0.996994\tvalidation_1-auc:0.984326\n",
      "[296]\tvalidation_0-auc:0.997006\tvalidation_1-auc:0.984328\n",
      "[297]\tvalidation_0-auc:0.997017\tvalidation_1-auc:0.98433\n",
      "[298]\tvalidation_0-auc:0.997046\tvalidation_1-auc:0.98433\n",
      "[299]\tvalidation_0-auc:0.99706\tvalidation_1-auc:0.984326\n",
      "[300]\tvalidation_0-auc:0.997077\tvalidation_1-auc:0.984325\n",
      "[301]\tvalidation_0-auc:0.997082\tvalidation_1-auc:0.984325\n",
      "[302]\tvalidation_0-auc:0.997089\tvalidation_1-auc:0.984322\n",
      "[303]\tvalidation_0-auc:0.997102\tvalidation_1-auc:0.984328\n",
      "[304]\tvalidation_0-auc:0.997103\tvalidation_1-auc:0.984329\n",
      "[305]\tvalidation_0-auc:0.997117\tvalidation_1-auc:0.984328\n",
      "[306]\tvalidation_0-auc:0.997136\tvalidation_1-auc:0.98432\n",
      "[307]\tvalidation_0-auc:0.997144\tvalidation_1-auc:0.984322\n",
      "[308]\tvalidation_0-auc:0.997153\tvalidation_1-auc:0.984316\n",
      "[309]\tvalidation_0-auc:0.997176\tvalidation_1-auc:0.984315\n",
      "[310]\tvalidation_0-auc:0.997185\tvalidation_1-auc:0.984317\n",
      "[311]\tvalidation_0-auc:0.997207\tvalidation_1-auc:0.98432\n",
      "[312]\tvalidation_0-auc:0.997222\tvalidation_1-auc:0.984314\n",
      "[313]\tvalidation_0-auc:0.997227\tvalidation_1-auc:0.984311\n",
      "[314]\tvalidation_0-auc:0.997242\tvalidation_1-auc:0.984313\n",
      "[315]\tvalidation_0-auc:0.997247\tvalidation_1-auc:0.984314\n",
      "[316]\tvalidation_0-auc:0.997262\tvalidation_1-auc:0.984315\n",
      "[317]\tvalidation_0-auc:0.997279\tvalidation_1-auc:0.984316\n",
      "[318]\tvalidation_0-auc:0.997284\tvalidation_1-auc:0.984318\n",
      "[319]\tvalidation_0-auc:0.997304\tvalidation_1-auc:0.98431\n",
      "[320]\tvalidation_0-auc:0.99731\tvalidation_1-auc:0.984312\n",
      "[321]\tvalidation_0-auc:0.997317\tvalidation_1-auc:0.984316\n",
      "[322]\tvalidation_0-auc:0.997347\tvalidation_1-auc:0.984314\n",
      "[323]\tvalidation_0-auc:0.997356\tvalidation_1-auc:0.984311\n",
      "[324]\tvalidation_0-auc:0.99736\tvalidation_1-auc:0.984309\n",
      "[325]\tvalidation_0-auc:0.997366\tvalidation_1-auc:0.984309\n",
      "[326]\tvalidation_0-auc:0.997376\tvalidation_1-auc:0.984307\n",
      "[327]\tvalidation_0-auc:0.997383\tvalidation_1-auc:0.984306\n",
      "[328]\tvalidation_0-auc:0.997397\tvalidation_1-auc:0.984303\n",
      "[329]\tvalidation_0-auc:0.99741\tvalidation_1-auc:0.9843\n",
      "[330]\tvalidation_0-auc:0.997424\tvalidation_1-auc:0.984303\n",
      "[331]\tvalidation_0-auc:0.997442\tvalidation_1-auc:0.984306\n",
      "[332]\tvalidation_0-auc:0.997446\tvalidation_1-auc:0.984306\n",
      "[333]\tvalidation_0-auc:0.997456\tvalidation_1-auc:0.984306\n",
      "[334]\tvalidation_0-auc:0.997469\tvalidation_1-auc:0.984308\n",
      "[335]\tvalidation_0-auc:0.997475\tvalidation_1-auc:0.984313\n",
      "[336]\tvalidation_0-auc:0.997494\tvalidation_1-auc:0.984307\n",
      "[337]\tvalidation_0-auc:0.997515\tvalidation_1-auc:0.984308\n",
      "[338]\tvalidation_0-auc:0.997518\tvalidation_1-auc:0.984309\n",
      "[339]\tvalidation_0-auc:0.997528\tvalidation_1-auc:0.984312\n",
      "[340]\tvalidation_0-auc:0.997546\tvalidation_1-auc:0.984313\n",
      "[341]\tvalidation_0-auc:0.997557\tvalidation_1-auc:0.98431\n",
      "[342]\tvalidation_0-auc:0.997563\tvalidation_1-auc:0.984311\n",
      "[343]\tvalidation_0-auc:0.997578\tvalidation_1-auc:0.984311\n",
      "[344]\tvalidation_0-auc:0.997587\tvalidation_1-auc:0.984316\n",
      "[345]\tvalidation_0-auc:0.997604\tvalidation_1-auc:0.984317\n",
      "[346]\tvalidation_0-auc:0.99761\tvalidation_1-auc:0.984318\n",
      "[347]\tvalidation_0-auc:0.99762\tvalidation_1-auc:0.984317\n",
      "[348]\tvalidation_0-auc:0.997628\tvalidation_1-auc:0.984317\n",
      "[349]\tvalidation_0-auc:0.997633\tvalidation_1-auc:0.984314\n",
      "[350]\tvalidation_0-auc:0.997646\tvalidation_1-auc:0.984312\n",
      "[351]\tvalidation_0-auc:0.997661\tvalidation_1-auc:0.984312\n",
      "[352]\tvalidation_0-auc:0.997668\tvalidation_1-auc:0.984315\n",
      "[353]\tvalidation_0-auc:0.997697\tvalidation_1-auc:0.984311\n",
      "[354]\tvalidation_0-auc:0.997705\tvalidation_1-auc:0.984315\n",
      "[355]\tvalidation_0-auc:0.997719\tvalidation_1-auc:0.984311\n",
      "Stopping. Best iteration:\n",
      "[255]\tvalidation_0-auc:0.996459\tvalidation_1-auc:0.984336\n",
      "\n"
     ]
    },
    {
     "data": {
      "text/plain": [
       "XGBClassifier(base_score=0.5, booster='gbtree', colsample_bylevel=1,\n",
       "       colsample_bytree=0.82, gamma=0.2, learning_rate=0.03,\n",
       "       max_delta_step=0, max_depth=10, min_child_weight=5, missing=None,\n",
       "       n_estimators=20000, n_jobs=-1, nthread=None,\n",
       "       objective='binary:logistic', random_state=0, reg_alpha=0.05,\n",
       "       reg_lambda=1, scale_pos_weight=1, seed=420, silent=True,\n",
       "       subsample=0.87)"
      ]
     },
     "execution_count": 21,
     "metadata": {},
     "output_type": "execute_result"
    }
   ],
   "source": [
    "# test final model\n",
    "# [65]\tvalidation_0-auc:0.995769\tvalidation_1-auc:0.983838 (lr=0.1)\n",
    "# [210]\tvalidation_0-auc:0.997505\tvalidation_1-auc:0.98399\n",
    "# [255]\tvalidation_0-auc:0.996459\tvalidation_1-auc:0.984336 (lr=0.03)\n",
    "# [1288]\tvalidation_0-auc:0.998344\tvalidation_1-auc:0.984239 (lr=0.01)\n",
    "models = xgb.XGBClassifier(learning_rate=0.03, reg_alpha=0.05,\n",
    "                           max_depth=10, min_child_weight=5, gamma=0.2,\n",
    "                           subsample=0.87, colsample_bytree=0.82,\n",
    "                           n_estimators=20000, n_jobs=-1, seed=420)\n",
    "models.fit(train_x, train_y, eval_metric=['auc'], early_stopping_rounds=100,\n",
    "           eval_set=[(train_x, train_y), (test_x, test_y)])"
   ]
  },
  {
   "cell_type": "code",
   "execution_count": 22,
   "metadata": {},
   "outputs": [
    {
     "name": "stderr",
     "output_type": "stream",
     "text": [
      "/home/ubuntu/anaconda3/envs/python3/lib/python3.6/site-packages/sklearn/preprocessing/label.py:151: DeprecationWarning: The truth value of an empty array is ambiguous. Returning False, but in future this will result in an error. Use `array.size > 0` to check that an array is not empty.\n",
      "  if diff:\n"
     ]
    },
    {
     "data": {
      "text/plain": [
       "0.9425278782680043"
      ]
     },
     "execution_count": 22,
     "metadata": {},
     "output_type": "execute_result"
    }
   ],
   "source": [
    "pred_y = models.predict(test_x)\n",
    "(pred_y==test_y).sum()/test_y.count()"
   ]
  },
  {
   "cell_type": "code",
   "execution_count": 81,
   "metadata": {
    "scrolled": true
   },
   "outputs": [
    {
     "name": "stdout",
     "output_type": "stream",
     "text": [
      "Fitting 4 folds for each of 1 candidates, totalling 4 fits\n",
      "[CV] subsample=0.87 ..................................................\n",
      "[CV] ......... subsample=0.87, score=0.9833011648177508, total=  34.9s\n",
      "[CV] subsample=0.87 ..................................................\n"
     ]
    },
    {
     "name": "stderr",
     "output_type": "stream",
     "text": [
      "[Parallel(n_jobs=1)]: Done   1 out of   1 | elapsed:   35.5s remaining:    0.0s\n"
     ]
    },
    {
     "name": "stdout",
     "output_type": "stream",
     "text": [
      "[CV] ......... subsample=0.87, score=0.9833985471862587, total=  35.8s\n",
      "[CV] subsample=0.87 ..................................................\n"
     ]
    },
    {
     "name": "stderr",
     "output_type": "stream",
     "text": [
      "[Parallel(n_jobs=1)]: Done   2 out of   2 | elapsed:  1.2min remaining:    0.0s\n"
     ]
    },
    {
     "name": "stdout",
     "output_type": "stream",
     "text": [
      "[CV] ......... subsample=0.87, score=0.9837048450018876, total=  35.9s\n",
      "[CV] subsample=0.87 ..................................................\n"
     ]
    },
    {
     "name": "stderr",
     "output_type": "stream",
     "text": [
      "[Parallel(n_jobs=1)]: Done   3 out of   3 | elapsed:  1.8min remaining:    0.0s\n"
     ]
    },
    {
     "name": "stdout",
     "output_type": "stream",
     "text": [
      "[CV] ......... subsample=0.87, score=0.9831469172205841, total=  33.1s\n"
     ]
    },
    {
     "name": "stderr",
     "output_type": "stream",
     "text": [
      "[Parallel(n_jobs=1)]: Done   4 out of   4 | elapsed:  2.4min remaining:    0.0s\n",
      "[Parallel(n_jobs=1)]: Done   4 out of   4 | elapsed:  2.4min finished\n"
     ]
    },
    {
     "data": {
      "text/plain": [
       "GridSearchCV(cv=4, error_score='raise',\n",
       "       estimator=XGBClassifier(base_score=0.5, booster='gbtree', colsample_bylevel=1,\n",
       "       colsample_bytree=0.82, gamma=0.2, learning_rate=0.03,\n",
       "       max_delta_step=0, max_depth=10, min_child_weight=5, missing=None,\n",
       "       n_estimators=255, n_jobs=-1, nthread=None,\n",
       "       objective='binary:logistic', random_state=0, reg_alpha=0.05,\n",
       "       reg_lambda=1, scale_pos_weight=1, seed=420, silent=True,\n",
       "       subsample=0.87),\n",
       "       fit_params=None, iid=True, n_jobs=1,\n",
       "       param_grid={'subsample': [0.87]}, pre_dispatch='2*n_jobs',\n",
       "       refit=True, return_train_score='warn', scoring='roc_auc',\n",
       "       verbose=10)"
      ]
     },
     "execution_count": 81,
     "metadata": {},
     "output_type": "execute_result"
    }
   ],
   "source": [
    "param_test = {\n",
    "    'subsample': [0.87]\n",
    "}\n",
    "\n",
    "gsearch = GridSearchCV(estimator = xgb.XGBClassifier(learning_rate=0.03, reg_alpha=0.05,\n",
    "                           max_depth=10, min_child_weight=5, gamma=0.2,\n",
    "                           subsample=0.87, colsample_bytree=0.82,\n",
    "                           n_estimators=256, n_jobs=-1, seed=420),\n",
    "                        param_grid = param_test, \n",
    "                        scoring='roc_auc', cv=4, verbose=10)\n",
    "gsearch.fit(X,Y)"
   ]
  },
  {
   "cell_type": "code",
   "execution_count": 82,
   "metadata": {},
   "outputs": [
    {
     "name": "stderr",
     "output_type": "stream",
     "text": [
      "/home/ubuntu/anaconda3/envs/python3/lib/python3.6/site-packages/sklearn/model_selection/_search.py:761: DeprecationWarning: The grid_scores_ attribute was deprecated in version 0.18 in favor of the more elaborate cv_results_ attribute. The grid_scores_ attribute will not be available from 0.20\n",
      "  DeprecationWarning)\n"
     ]
    },
    {
     "data": {
      "text/plain": [
       "([mean: 0.98339, std: 0.00020, params: {'subsample': 0.87}],\n",
       " {'subsample': 0.87},\n",
       " 0.9833878703539197)"
      ]
     },
     "execution_count": 82,
     "metadata": {},
     "output_type": "execute_result"
    }
   ],
   "source": [
    "(gsearch.grid_scores_, gsearch.best_params_, gsearch.best_score_)"
   ]
  },
  {
   "cell_type": "markdown",
   "metadata": {},
   "source": [
    "## 2.2 Final Model"
   ]
  },
  {
   "cell_type": "code",
   "execution_count": 19,
   "metadata": {},
   "outputs": [],
   "source": [
    "models2 = xgb.XGBClassifier(learning_rate=0.03, reg_alpha=0.05,\n",
    "                           max_depth=10, min_child_weight=5, gamma=0.2,\n",
    "                           subsample=0.87, colsample_bytree=0.82,\n",
    "                           n_estimators=256, n_jobs=-1, seed=420)"
   ]
  },
  {
   "cell_type": "code",
   "execution_count": 20,
   "metadata": {
    "scrolled": true
   },
   "outputs": [
    {
     "name": "stdout",
     "output_type": "stream",
     "text": [
      "[0]\tvalidation_0-auc:0.9448\n",
      "[1]\tvalidation_0-auc:0.975744\n",
      "[2]\tvalidation_0-auc:0.981692\n",
      "[3]\tvalidation_0-auc:0.983878\n",
      "[4]\tvalidation_0-auc:0.984974\n",
      "[5]\tvalidation_0-auc:0.985543\n",
      "[6]\tvalidation_0-auc:0.985405\n",
      "[7]\tvalidation_0-auc:0.985128\n",
      "[8]\tvalidation_0-auc:0.985685\n",
      "[9]\tvalidation_0-auc:0.98607\n",
      "[10]\tvalidation_0-auc:0.986353\n",
      "[11]\tvalidation_0-auc:0.986703\n",
      "[12]\tvalidation_0-auc:0.98695\n",
      "[13]\tvalidation_0-auc:0.987119\n",
      "[14]\tvalidation_0-auc:0.987326\n",
      "[15]\tvalidation_0-auc:0.987086\n",
      "[16]\tvalidation_0-auc:0.987245\n",
      "[17]\tvalidation_0-auc:0.987426\n",
      "[18]\tvalidation_0-auc:0.987615\n",
      "[19]\tvalidation_0-auc:0.987743\n",
      "[20]\tvalidation_0-auc:0.98787\n",
      "[21]\tvalidation_0-auc:0.988038\n",
      "[22]\tvalidation_0-auc:0.988158\n",
      "[23]\tvalidation_0-auc:0.988276\n",
      "[24]\tvalidation_0-auc:0.98835\n",
      "[25]\tvalidation_0-auc:0.988488\n",
      "[26]\tvalidation_0-auc:0.988528\n",
      "[27]\tvalidation_0-auc:0.988623\n",
      "[28]\tvalidation_0-auc:0.988677\n",
      "[29]\tvalidation_0-auc:0.988758\n",
      "[30]\tvalidation_0-auc:0.988855\n",
      "[31]\tvalidation_0-auc:0.988814\n",
      "[32]\tvalidation_0-auc:0.988883\n",
      "[33]\tvalidation_0-auc:0.988962\n",
      "[34]\tvalidation_0-auc:0.98903\n",
      "[35]\tvalidation_0-auc:0.989093\n",
      "[36]\tvalidation_0-auc:0.989161\n",
      "[37]\tvalidation_0-auc:0.989242\n",
      "[38]\tvalidation_0-auc:0.989311\n",
      "[39]\tvalidation_0-auc:0.989375\n",
      "[40]\tvalidation_0-auc:0.989372\n",
      "[41]\tvalidation_0-auc:0.989454\n",
      "[42]\tvalidation_0-auc:0.989548\n",
      "[43]\tvalidation_0-auc:0.989579\n",
      "[44]\tvalidation_0-auc:0.989663\n",
      "[45]\tvalidation_0-auc:0.989707\n",
      "[46]\tvalidation_0-auc:0.98979\n",
      "[47]\tvalidation_0-auc:0.989861\n",
      "[48]\tvalidation_0-auc:0.989926\n",
      "[49]\tvalidation_0-auc:0.989984\n",
      "[50]\tvalidation_0-auc:0.99005\n",
      "[51]\tvalidation_0-auc:0.990115\n",
      "[52]\tvalidation_0-auc:0.990166\n",
      "[53]\tvalidation_0-auc:0.990219\n",
      "[54]\tvalidation_0-auc:0.990271\n",
      "[55]\tvalidation_0-auc:0.990299\n",
      "[56]\tvalidation_0-auc:0.990358\n",
      "[57]\tvalidation_0-auc:0.990422\n",
      "[58]\tvalidation_0-auc:0.990431\n",
      "[59]\tvalidation_0-auc:0.990482\n",
      "[60]\tvalidation_0-auc:0.99055\n",
      "[61]\tvalidation_0-auc:0.990614\n",
      "[62]\tvalidation_0-auc:0.990662\n",
      "[63]\tvalidation_0-auc:0.990709\n",
      "[64]\tvalidation_0-auc:0.990771\n",
      "[65]\tvalidation_0-auc:0.990823\n",
      "[66]\tvalidation_0-auc:0.990844\n",
      "[67]\tvalidation_0-auc:0.990889\n",
      "[68]\tvalidation_0-auc:0.990941\n",
      "[69]\tvalidation_0-auc:0.99099\n",
      "[70]\tvalidation_0-auc:0.991043\n",
      "[71]\tvalidation_0-auc:0.991058\n",
      "[72]\tvalidation_0-auc:0.99112\n",
      "[73]\tvalidation_0-auc:0.991166\n",
      "[74]\tvalidation_0-auc:0.991216\n",
      "[75]\tvalidation_0-auc:0.991269\n",
      "[76]\tvalidation_0-auc:0.991307\n",
      "[77]\tvalidation_0-auc:0.991359\n",
      "[78]\tvalidation_0-auc:0.991364\n",
      "[79]\tvalidation_0-auc:0.991412\n",
      "[80]\tvalidation_0-auc:0.991462\n",
      "[81]\tvalidation_0-auc:0.991476\n",
      "[82]\tvalidation_0-auc:0.991527\n",
      "[83]\tvalidation_0-auc:0.99156\n",
      "[84]\tvalidation_0-auc:0.991603\n",
      "[85]\tvalidation_0-auc:0.991636\n",
      "[86]\tvalidation_0-auc:0.991654\n",
      "[87]\tvalidation_0-auc:0.991713\n",
      "[88]\tvalidation_0-auc:0.991769\n",
      "[89]\tvalidation_0-auc:0.991808\n",
      "[90]\tvalidation_0-auc:0.991856\n",
      "[91]\tvalidation_0-auc:0.991909\n",
      "[92]\tvalidation_0-auc:0.991965\n",
      "[93]\tvalidation_0-auc:0.992008\n",
      "[94]\tvalidation_0-auc:0.992053\n",
      "[95]\tvalidation_0-auc:0.992098\n",
      "[96]\tvalidation_0-auc:0.992113\n",
      "[97]\tvalidation_0-auc:0.992137\n",
      "[98]\tvalidation_0-auc:0.992193\n",
      "[99]\tvalidation_0-auc:0.992233\n",
      "[100]\tvalidation_0-auc:0.992283\n",
      "[101]\tvalidation_0-auc:0.99234\n",
      "[102]\tvalidation_0-auc:0.992358\n",
      "[103]\tvalidation_0-auc:0.992396\n",
      "[104]\tvalidation_0-auc:0.992437\n",
      "[105]\tvalidation_0-auc:0.992481\n",
      "[106]\tvalidation_0-auc:0.992521\n",
      "[107]\tvalidation_0-auc:0.992562\n",
      "[108]\tvalidation_0-auc:0.992604\n",
      "[109]\tvalidation_0-auc:0.99264\n",
      "[110]\tvalidation_0-auc:0.992674\n",
      "[111]\tvalidation_0-auc:0.992711\n",
      "[112]\tvalidation_0-auc:0.992758\n",
      "[113]\tvalidation_0-auc:0.992792\n",
      "[114]\tvalidation_0-auc:0.992838\n",
      "[115]\tvalidation_0-auc:0.992889\n",
      "[116]\tvalidation_0-auc:0.992928\n",
      "[117]\tvalidation_0-auc:0.992978\n",
      "[118]\tvalidation_0-auc:0.993017\n",
      "[119]\tvalidation_0-auc:0.993048\n",
      "[120]\tvalidation_0-auc:0.993086\n",
      "[121]\tvalidation_0-auc:0.993131\n",
      "[122]\tvalidation_0-auc:0.993163\n",
      "[123]\tvalidation_0-auc:0.993192\n",
      "[124]\tvalidation_0-auc:0.993228\n",
      "[125]\tvalidation_0-auc:0.993264\n",
      "[126]\tvalidation_0-auc:0.993297\n",
      "[127]\tvalidation_0-auc:0.993334\n",
      "[128]\tvalidation_0-auc:0.99338\n",
      "[129]\tvalidation_0-auc:0.993424\n",
      "[130]\tvalidation_0-auc:0.99345\n",
      "[131]\tvalidation_0-auc:0.993483\n",
      "[132]\tvalidation_0-auc:0.993524\n",
      "[133]\tvalidation_0-auc:0.99355\n",
      "[134]\tvalidation_0-auc:0.993584\n",
      "[135]\tvalidation_0-auc:0.993618\n",
      "[136]\tvalidation_0-auc:0.993642\n",
      "[137]\tvalidation_0-auc:0.993667\n",
      "[138]\tvalidation_0-auc:0.993696\n",
      "[139]\tvalidation_0-auc:0.993728\n",
      "[140]\tvalidation_0-auc:0.993751\n",
      "[141]\tvalidation_0-auc:0.993783\n",
      "[142]\tvalidation_0-auc:0.993808\n",
      "[143]\tvalidation_0-auc:0.993844\n",
      "[144]\tvalidation_0-auc:0.993884\n",
      "[145]\tvalidation_0-auc:0.993905\n",
      "[146]\tvalidation_0-auc:0.993923\n",
      "[147]\tvalidation_0-auc:0.993949\n",
      "[148]\tvalidation_0-auc:0.993974\n",
      "[149]\tvalidation_0-auc:0.994009\n",
      "[150]\tvalidation_0-auc:0.994035\n",
      "[151]\tvalidation_0-auc:0.994068\n",
      "[152]\tvalidation_0-auc:0.994097\n",
      "[153]\tvalidation_0-auc:0.994119\n",
      "[154]\tvalidation_0-auc:0.994146\n",
      "[155]\tvalidation_0-auc:0.994168\n",
      "[156]\tvalidation_0-auc:0.994188\n",
      "[157]\tvalidation_0-auc:0.994214\n",
      "[158]\tvalidation_0-auc:0.994252\n",
      "[159]\tvalidation_0-auc:0.994274\n",
      "[160]\tvalidation_0-auc:0.994303\n",
      "[161]\tvalidation_0-auc:0.994321\n",
      "[162]\tvalidation_0-auc:0.994338\n",
      "[163]\tvalidation_0-auc:0.994357\n",
      "[164]\tvalidation_0-auc:0.994376\n",
      "[165]\tvalidation_0-auc:0.994392\n",
      "[166]\tvalidation_0-auc:0.994424\n",
      "[167]\tvalidation_0-auc:0.994438\n",
      "[168]\tvalidation_0-auc:0.994461\n",
      "[169]\tvalidation_0-auc:0.994487\n",
      "[170]\tvalidation_0-auc:0.994522\n",
      "[171]\tvalidation_0-auc:0.994548\n",
      "[172]\tvalidation_0-auc:0.994562\n",
      "[173]\tvalidation_0-auc:0.994578\n",
      "[174]\tvalidation_0-auc:0.994603\n",
      "[175]\tvalidation_0-auc:0.99461\n",
      "[176]\tvalidation_0-auc:0.994629\n",
      "[177]\tvalidation_0-auc:0.994667\n",
      "[178]\tvalidation_0-auc:0.994702\n",
      "[179]\tvalidation_0-auc:0.99472\n",
      "[180]\tvalidation_0-auc:0.99473\n",
      "[181]\tvalidation_0-auc:0.994748\n",
      "[182]\tvalidation_0-auc:0.994755\n",
      "[183]\tvalidation_0-auc:0.99476\n",
      "[184]\tvalidation_0-auc:0.994775\n",
      "[185]\tvalidation_0-auc:0.994801\n",
      "[186]\tvalidation_0-auc:0.994819\n",
      "[187]\tvalidation_0-auc:0.994825\n",
      "[188]\tvalidation_0-auc:0.994829\n",
      "[189]\tvalidation_0-auc:0.994848\n",
      "[190]\tvalidation_0-auc:0.994867\n",
      "[191]\tvalidation_0-auc:0.994905\n",
      "[192]\tvalidation_0-auc:0.994912\n",
      "[193]\tvalidation_0-auc:0.99494\n",
      "[194]\tvalidation_0-auc:0.994949\n",
      "[195]\tvalidation_0-auc:0.994958\n",
      "[196]\tvalidation_0-auc:0.995002\n",
      "[197]\tvalidation_0-auc:0.995033\n",
      "[198]\tvalidation_0-auc:0.995076\n",
      "[199]\tvalidation_0-auc:0.995097\n",
      "[200]\tvalidation_0-auc:0.995111\n",
      "[201]\tvalidation_0-auc:0.995121\n",
      "[202]\tvalidation_0-auc:0.99513\n",
      "[203]\tvalidation_0-auc:0.995139\n",
      "[204]\tvalidation_0-auc:0.995151\n",
      "[205]\tvalidation_0-auc:0.995158\n",
      "[206]\tvalidation_0-auc:0.995177\n",
      "[207]\tvalidation_0-auc:0.995186\n",
      "[208]\tvalidation_0-auc:0.995219\n",
      "[209]\tvalidation_0-auc:0.995235\n",
      "[210]\tvalidation_0-auc:0.995265\n",
      "[211]\tvalidation_0-auc:0.9953\n",
      "[212]\tvalidation_0-auc:0.995311\n",
      "[213]\tvalidation_0-auc:0.995322\n",
      "[214]\tvalidation_0-auc:0.995361\n",
      "[215]\tvalidation_0-auc:0.995381\n",
      "[216]\tvalidation_0-auc:0.995389\n",
      "[217]\tvalidation_0-auc:0.995409\n",
      "[218]\tvalidation_0-auc:0.995414\n",
      "[219]\tvalidation_0-auc:0.995424\n",
      "[220]\tvalidation_0-auc:0.995429\n",
      "[221]\tvalidation_0-auc:0.995464\n",
      "[222]\tvalidation_0-auc:0.995487\n",
      "[223]\tvalidation_0-auc:0.99551\n",
      "[224]\tvalidation_0-auc:0.995524\n",
      "[225]\tvalidation_0-auc:0.995529\n",
      "[226]\tvalidation_0-auc:0.995546\n",
      "[227]\tvalidation_0-auc:0.995555\n",
      "[228]\tvalidation_0-auc:0.995568\n",
      "[229]\tvalidation_0-auc:0.995595\n",
      "[230]\tvalidation_0-auc:0.995602\n",
      "[231]\tvalidation_0-auc:0.995611\n",
      "[232]\tvalidation_0-auc:0.995619\n",
      "[233]\tvalidation_0-auc:0.995632\n",
      "[234]\tvalidation_0-auc:0.995641\n",
      "[235]\tvalidation_0-auc:0.995661\n",
      "[236]\tvalidation_0-auc:0.995671\n",
      "[237]\tvalidation_0-auc:0.995678\n",
      "[238]\tvalidation_0-auc:0.995695\n",
      "[239]\tvalidation_0-auc:0.995703\n",
      "[240]\tvalidation_0-auc:0.995708\n",
      "[241]\tvalidation_0-auc:0.995726\n",
      "[242]\tvalidation_0-auc:0.995737\n",
      "[243]\tvalidation_0-auc:0.995748\n",
      "[244]\tvalidation_0-auc:0.995761\n",
      "[245]\tvalidation_0-auc:0.995781\n",
      "[246]\tvalidation_0-auc:0.995799\n",
      "[247]\tvalidation_0-auc:0.995813\n",
      "[248]\tvalidation_0-auc:0.995822\n",
      "[249]\tvalidation_0-auc:0.995834\n",
      "[250]\tvalidation_0-auc:0.995857\n",
      "[251]\tvalidation_0-auc:0.995872\n",
      "[252]\tvalidation_0-auc:0.995886\n",
      "[253]\tvalidation_0-auc:0.995903\n",
      "[254]\tvalidation_0-auc:0.995907\n",
      "[255]\tvalidation_0-auc:0.995913\n"
     ]
    },
    {
     "data": {
      "text/plain": [
       "XGBClassifier(base_score=0.5, booster='gbtree', colsample_bylevel=1,\n",
       "       colsample_bytree=0.82, gamma=0.2, learning_rate=0.03,\n",
       "       max_delta_step=0, max_depth=10, min_child_weight=5, missing=None,\n",
       "       n_estimators=256, n_jobs=-1, nthread=None,\n",
       "       objective='binary:logistic', random_state=0, reg_alpha=0.05,\n",
       "       reg_lambda=1, scale_pos_weight=1, seed=420, silent=True,\n",
       "       subsample=0.87)"
      ]
     },
     "execution_count": 20,
     "metadata": {},
     "output_type": "execute_result"
    }
   ],
   "source": [
    "models2.fit(X, Y, eval_metric='auc', eval_set=[(X, Y)])\n"
   ]
  },
  {
   "cell_type": "code",
   "execution_count": 106,
   "metadata": {},
   "outputs": [
    {
     "data": {
      "text/plain": [
       "[('y_entry_19', 0.11676897),\n",
       " ('x_entry_19', 0.041110184),\n",
       " ('duration_19', 0.025248382),\n",
       " ('entry_hour_19', 0.02436599),\n",
       " ('y_entry_2', 0.019651614),\n",
       " ('y_entry_18', 0.01964161),\n",
       " ('y_exit_18', 0.014286882),\n",
       " ('y_exit_1', 0.014022528),\n",
       " ('vmax_9', 0.010110569),\n",
       " ('x_entry_2', 0.009191091),\n",
       " ('x_exit_18', 0.008180014),\n",
       " ('x_exit_2', 0.007038316),\n",
       " ('y_entry_3', 0.00698125),\n",
       " ('y_exit_2', 0.0068428223),\n",
       " ('x_entry_3', 0.0062673013),\n",
       " ('x_entry_12', 0.0062101083),\n",
       " ('x_entry_18', 0.0061816396),\n",
       " ('x_entry_4', 0.0061089606),\n",
       " ('y_entry_0', 0.0059725656),\n",
       " ('y_entry_8', 0.0059519703),\n",
       " ('x_exit_6', 0.005729021),\n",
       " ('y_exit_0', 0.005675687),\n",
       " ('x_entry_7', 0.0053745396),\n",
       " ('x_entry_8', 0.0053210724),\n",
       " ('entry_minute_19', 0.0052934885),\n",
       " ('y_exit_9', 0.0052486104),\n",
       " ('x_entry_1', 0.0052465196),\n",
       " ('x_exit_11', 0.005195101),\n",
       " ('speed_5', 0.005096183),\n",
       " ('x_exit_5', 0.0046734386),\n",
       " ('y_entry_1', 0.0044644587),\n",
       " ('y_entry_6', 0.0043883733),\n",
       " ('y_entry_12', 0.0043539233),\n",
       " ('y_entry_7', 0.004219402),\n",
       " ('x_entry_10', 0.0042026727),\n",
       " ('x_exit_9', 0.004153493),\n",
       " ('y_exit_3', 0.004066131),\n",
       " ('distance_18', 0.0039697923),\n",
       " ('x_entry_0', 0.0039619682),\n",
       " ('x_exit_7', 0.0039484375),\n",
       " ('y_exit_17', 0.0039154366),\n",
       " ('x_exit_0', 0.003909969),\n",
       " ('distance_5', 0.003893961),\n",
       " ('exit_hour_3', 0.0037287986),\n",
       " ('exit_hour_4', 0.0037201657),\n",
       " ('y_exit_13', 0.0036882008),\n",
       " ('x_exit_3', 0.0036816942),\n",
       " ('y_entry_13', 0.0036292889),\n",
       " ('vmean_17', 0.0035602166),\n",
       " ('duration_6', 0.003500126),\n",
       " ('y_exit_6', 0.0034946115),\n",
       " ('y_exit_5', 0.0034830414),\n",
       " ('x_exit_4', 0.0034418297),\n",
       " ('exit_hour_5', 0.0034219376),\n",
       " ('x_entry_6', 0.0034195664),\n",
       " ('entry_hour_5', 0.0034185285),\n",
       " ('x_exit_1', 0.0034172127),\n",
       " ('y_entry_9', 0.0033990182),\n",
       " ('y_entry_5', 0.0033975814),\n",
       " ('y_exit_7', 0.0033152166),\n",
       " ('vmin_10', 0.0032680463),\n",
       " ('y_exit_12', 0.003245632),\n",
       " ('y_exit_8', 0.0032276975),\n",
       " ('exit_minute_19', 0.003224405),\n",
       " ('x_exit_8', 0.0032198126),\n",
       " ('y_entry_10', 0.0031990272),\n",
       " ('y_entry_15', 0.0031448249),\n",
       " ('y_entry_4', 0.0031133445),\n",
       " ('x_entry_5', 0.0030996967),\n",
       " ('x_exit_12', 0.003085318),\n",
       " ('vmean_12', 0.0030851758),\n",
       " ('y_exit_15', 0.0030141687),\n",
       " ('x_entry_13', 0.0030138786),\n",
       " ('vmean_15', 0.0029697516),\n",
       " ('vmin_14', 0.002967594),\n",
       " ('distance_4', 0.002959899),\n",
       " ('x_entry_16', 0.0029489028),\n",
       " ('vmax_8', 0.0029354906),\n",
       " ('y_entry_14', 0.0029263701),\n",
       " ('y_entry_11', 0.0029191878),\n",
       " ('entry_hour_4', 0.002907769),\n",
       " ('y_entry_16', 0.0029034496),\n",
       " ('distance_17', 0.0028608833),\n",
       " ('y_exit_4', 0.0028322232),\n",
       " ('x_entry_9', 0.0028261663),\n",
       " ('y_exit_16', 0.0028240106),\n",
       " ('vmax_18', 0.0028095301),\n",
       " ('exit_hour_10', 0.0027916026),\n",
       " ('entry_hour_10', 0.0027908955),\n",
       " ('exit_hour_9', 0.0027701007),\n",
       " ('exit_hour_8', 0.0027295244),\n",
       " ('vmean_16', 0.0026844856),\n",
       " ('y_entry_17', 0.002683482),\n",
       " ('vmean_10', 0.0026705517),\n",
       " ('x_entry_15', 0.002644993),\n",
       " ('distance_16', 0.0026364655),\n",
       " ('entry_hour_quarter_1', 0.00263403),\n",
       " ('duration_4', 0.0026019108),\n",
       " ('vmean_18', 0.0025874206),\n",
       " ('x_exit_13', 0.0025630496),\n",
       " ('vmax_12', 0.0025293366),\n",
       " ('x_exit_16', 0.0025289084),\n",
       " ('vmin_18', 0.002519105),\n",
       " ('x_exit_17', 0.00251855),\n",
       " ('y_exit_10', 0.0024891635),\n",
       " ('entry_hour_quarter_3', 0.0024842138),\n",
       " ('x_entry_11', 0.002481789),\n",
       " ('distance_15', 0.002472213),\n",
       " ('vmin_7', 0.0024651727),\n",
       " ('vmax_13', 0.0024644502),\n",
       " ('y_exit_11', 0.0024310455),\n",
       " ('duration_10', 0.0024275964),\n",
       " ('x_entry_14', 0.0024072095),\n",
       " ('vmean_6', 0.00240557),\n",
       " ('x_entry_17', 0.0023912382),\n",
       " ('vmean_7', 0.0023885795),\n",
       " ('entry_hour_6', 0.0023821658),\n",
       " ('exit_second_1', 0.0023813425),\n",
       " ('vmean_4', 0.0023782968),\n",
       " ('vmax_6', 0.002367981),\n",
       " ('entry_hour_9', 0.0023438842),\n",
       " ('vmax_15', 0.002338242),\n",
       " ('vmin_9', 0.0023232368),\n",
       " ('vmean_8', 0.0023061887),\n",
       " ('exit_hour_7', 0.0022908293),\n",
       " ('x_exit_15', 0.0022904566),\n",
       " ('exit_hour_12', 0.0022864158),\n",
       " ('duration_9', 0.0022842386),\n",
       " ('vmin_12', 0.0022628794),\n",
       " ('duration_14', 0.00225831),\n",
       " ('speed_10', 0.002256268),\n",
       " ('entry_hour_7', 0.002251823),\n",
       " ('speed_18', 0.0022405095),\n",
       " ('duration_18', 0.002232897),\n",
       " ('vmean_11', 0.002230868),\n",
       " ('distance_14', 0.002216861),\n",
       " ('exit_second_4', 0.00221297),\n",
       " ('vmax_16', 0.0021986868),\n",
       " ('y_exit_14', 0.0021930083),\n",
       " ('vmax_11', 0.002188324),\n",
       " ('entry_second_1', 0.0021774438),\n",
       " ('entry_minute_1', 0.0021631431),\n",
       " ('x_exit_10', 0.0021531384),\n",
       " ('vmin_17', 0.0021513484),\n",
       " ('entry_hour_8', 0.0021446205),\n",
       " ('speed_16', 0.0021414123),\n",
       " ('entry_minute_3', 0.0021298684),\n",
       " ('distance_8', 0.0021222364),\n",
       " ('vmean_14', 0.002113514),\n",
       " ('vmax_10', 0.0020921966),\n",
       " ('x_exit_14', 0.0020747446),\n",
       " ('entry_second_4', 0.0020683438),\n",
       " ('exit_hour_quarter_0', 0.0020632676),\n",
       " ('distance_12', 0.0020623892),\n",
       " ('speed_17', 0.0020545498),\n",
       " ('distance_7', 0.0020271135),\n",
       " ('speed_15', 0.00201951),\n",
       " ('vmean_9', 0.0020178296),\n",
       " ('entry_hour_1', 0.0020143979),\n",
       " ('entry_second_6', 0.0020115091),\n",
       " ('exit_hour_13', 0.0020012273),\n",
       " ('exit_hour_14', 0.0019977994),\n",
       " ('vmin_13', 0.001996385),\n",
       " ('entry_hour_14', 0.0019943798),\n",
       " ('exit_minute_2', 0.0019836056),\n",
       " ('exit_hour_11', 0.0019828265),\n",
       " ('entry_second_2', 0.0019827983),\n",
       " ('exit_second_6', 0.0019775778),\n",
       " ('vmax_17', 0.001971503),\n",
       " ('exit_minute_10', 0.001966905),\n",
       " ('exit_minute_3', 0.0019634762),\n",
       " ('entry_second_0', 0.0019632145),\n",
       " ('speed_14', 0.0019442962),\n",
       " ('exit_second_2', 0.0019434929),\n",
       " ('vmin_16', 0.0019401684),\n",
       " ('duration_11', 0.0019390738),\n",
       " ('exit_minute_4', 0.0019348052),\n",
       " ('vmean_13', 0.0019270702),\n",
       " ('entry_second_7', 0.0019111454),\n",
       " ('entry_minute_7', 0.0019021122),\n",
       " ('entry_hour_11', 0.0018990901),\n",
       " ('exit_hour_16', 0.0018984168),\n",
       " ('exit_second_3', 0.001895971),\n",
       " ('vmin_6', 0.0018777119),\n",
       " ('entry_minute_2', 0.0018769748),\n",
       " ('entry_hour_13', 0.0018762163),\n",
       " ('vmax_7', 0.0018742372),\n",
       " ('distance_10', 0.0018685611),\n",
       " ('exit_minute_7', 0.0018678997),\n",
       " ('entry_second_11', 0.0018659164),\n",
       " ('exit_minute_8', 0.0018585005),\n",
       " ('exit_hour_18', 0.0018566644),\n",
       " ('speed_9', 0.001852112),\n",
       " ('entry_hour_quarter_0', 0.0018518537),\n",
       " ('exit_minute_1', 0.0018506052),\n",
       " ('duration_15', 0.0018482745),\n",
       " ('entry_second_12', 0.0018451699),\n",
       " ('exit_hour_15', 0.0018401763),\n",
       " ('exit_second_5', 0.0018387756),\n",
       " ('vmin_5', 0.0018214948),\n",
       " ('entry_hour_18', 0.0018209075),\n",
       " ('vmin_11', 0.001817611),\n",
       " ('speed_12', 0.0018121727),\n",
       " ('exit_second_8', 0.0018113995),\n",
       " ('entry_second_3', 0.0018085656),\n",
       " ('exit_minute_5', 0.0017990463),\n",
       " ('entry_minute_10', 0.0017941396),\n",
       " ('entry_second_8', 0.0017926894),\n",
       " ('entry_minute_5', 0.0017879279),\n",
       " ('exit_minute_6', 0.001777186),\n",
       " ('duration_16', 0.0017755135),\n",
       " ('duration_13', 0.0017732828),\n",
       " ('entry_minute_17', 0.001773052),\n",
       " ('duration_17', 0.0017692107),\n",
       " ('speed_6', 0.0017680764),\n",
       " ('entry_second_14', 0.0017673619),\n",
       " ('entry_second_9', 0.001765499),\n",
       " ('entry_minute_4', 0.001763748),\n",
       " ('entry_hour_17', 0.0017635247),\n",
       " ('entry_minute_11', 0.0017609011),\n",
       " ('entry_second_5', 0.0017608247),\n",
       " ('entry_second_10', 0.001760528),\n",
       " ('speed_13', 0.0017579608),\n",
       " ('exit_minute_12', 0.0017577003),\n",
       " ('exit_second_13', 0.0017572003),\n",
       " ('exit_second_7', 0.0017529576),\n",
       " ('exit_minute_0', 0.0017486662),\n",
       " ('entry_second_15', 0.0017450231),\n",
       " ('distance_13', 0.0017439144),\n",
       " ('exit_minute_18', 0.0017384641),\n",
       " ('exit_hour_17', 0.001734952),\n",
       " ('entry_second_18', 0.0017338983),\n",
       " ('exit_minute_9', 0.0017325232),\n",
       " ('exit_minute_15', 0.0017294363),\n",
       " ('exit_second_12', 0.0017283318),\n",
       " ('entry_second_16', 0.001715898),\n",
       " ('entry_minute_16', 0.001713544),\n",
       " ('vmax_14', 0.0017091281),\n",
       " ('exit_second_9', 0.0017088507),\n",
       " ('entry_minute_12', 0.0017040686),\n",
       " ('vmin_15', 0.0017031616),\n",
       " ('duration_12', 0.0017000263),\n",
       " ('entry_second_13', 0.0016997032),\n",
       " ('exit_second_11', 0.0016992242),\n",
       " ('entry_minute_8', 0.0016887817),\n",
       " ('duration_8', 0.0016857818),\n",
       " ('exit_second_14', 0.0016854669),\n",
       " ('exit_minute_17', 0.0016761721),\n",
       " ('exit_second_10', 0.0016715351),\n",
       " ('entry_minute_13', 0.0016714222),\n",
       " ('exit_minute_13', 0.0016671851),\n",
       " ('entry_second_19', 0.0016671144),\n",
       " ('exit_second_16', 0.0016666831),\n",
       " ('entry_minute_9', 0.0016607336),\n",
       " ('exit_second_19', 0.001659981),\n",
       " ('exit_minute_16', 0.0016559258),\n",
       " ('exit_minute_11', 0.001648962),\n",
       " ('entry_hour_15', 0.0016457965),\n",
       " ('vmax_3', 0.0016457326),\n",
       " ('entry_minute_18', 0.0016445406),\n",
       " ('exit_minute_14', 0.0016430672),\n",
       " ('entry_minute_14', 0.0016420063),\n",
       " ('exit_second_15', 0.0016360781),\n",
       " ('entry_minute_0', 0.0016262634),\n",
       " ('exit_second_17', 0.0016194691),\n",
       " ('entry_minute_15', 0.0016134974),\n",
       " ('distance_11', 0.0015949903),\n",
       " ('entry_minute_6', 0.0015936878),\n",
       " ('entry_hour_12', 0.0015759912),\n",
       " ('speed_11', 0.0015736708),\n",
       " ('speed_8', 0.0015589154),\n",
       " ('entry_second_17', 0.0015575561),\n",
       " ('exit_hour_6', 0.0015476166),\n",
       " ('exit_second_18', 0.0015384031),\n",
       " ('entry_hour_0', 0.0015352978),\n",
       " ('vmean_3', 0.0015346516),\n",
       " ('duration_2', 0.0015025742),\n",
       " ('entry_hour_16', 0.0014990214),\n",
       " ('exit_hour_quarter_1', 0.0014636305),\n",
       " ('speed_4', 0.0014472281),\n",
       " ('entry_hour_2', 0.0014438905),\n",
       " ('speed_7', 0.0013277467),\n",
       " ('distance_9', 0.0013201901),\n",
       " ('exit_second_0', 0.0012098942),\n",
       " ('entry_hour_3', 0.0011877301),\n",
       " ('exit_hour_0', 0.0011367233),\n",
       " ('duration_7', 0.0010580036),\n",
       " ('duration_5', 0.00064407685),\n",
       " ('distance_6', 0.000604295),\n",
       " ('distance_0', 0.0),\n",
       " ('duration_0', 0.0),\n",
       " ('speed_0', 0.0),\n",
       " ('vmax_0', 0.0),\n",
       " ('vmean_0', 0.0),\n",
       " ('vmin_0', 0.0),\n",
       " ('distance_1', 0.0),\n",
       " ('duration_1', 0.0),\n",
       " ('exit_hour_1', 0.0),\n",
       " ('speed_1', 0.0),\n",
       " ('vmax_1', 0.0),\n",
       " ('vmean_1', 0.0),\n",
       " ('vmin_1', 0.0),\n",
       " ('distance_2', 0.0),\n",
       " ('entry_hour_quarter_2', 0.0),\n",
       " ('exit_hour_2', 0.0),\n",
       " ('exit_hour_quarter_2', 0.0),\n",
       " ('speed_2', 0.0),\n",
       " ('vmax_2', 0.0),\n",
       " ('vmean_2', 0.0),\n",
       " ('vmin_2', 0.0),\n",
       " ('distance_3', 0.0),\n",
       " ('duration_3', 0.0),\n",
       " ('exit_hour_quarter_3', 0.0),\n",
       " ('speed_3', 0.0),\n",
       " ('vmin_3', 0.0),\n",
       " ('entry_hour_quarter_4', 0.0),\n",
       " ('exit_hour_quarter_4', 0.0),\n",
       " ('vmax_4', 0.0),\n",
       " ('vmin_4', 0.0),\n",
       " ('entry_hour_quarter_5', 0.0),\n",
       " ('exit_hour_quarter_5', 0.0),\n",
       " ('vmax_5', 0.0),\n",
       " ('vmean_5', 0.0),\n",
       " ('entry_hour_quarter_6', 0.0),\n",
       " ('exit_hour_quarter_6', 0.0),\n",
       " ('entry_hour_quarter_7', 0.0),\n",
       " ('exit_hour_quarter_7', 0.0),\n",
       " ('entry_hour_quarter_8', 0.0),\n",
       " ('exit_hour_quarter_8', 0.0),\n",
       " ('vmin_8', 0.0),\n",
       " ('entry_hour_quarter_9', 0.0),\n",
       " ('exit_hour_quarter_9', 0.0),\n",
       " ('entry_hour_quarter_10', 0.0),\n",
       " ('exit_hour_quarter_10', 0.0),\n",
       " ('entry_hour_quarter_11', 0.0),\n",
       " ('exit_hour_quarter_11', 0.0),\n",
       " ('entry_hour_quarter_12', 0.0),\n",
       " ('exit_hour_quarter_12', 0.0),\n",
       " ('entry_hour_quarter_13', 0.0),\n",
       " ('exit_hour_quarter_13', 0.0),\n",
       " ('entry_hour_quarter_14', 0.0),\n",
       " ('exit_hour_quarter_14', 0.0),\n",
       " ('entry_hour_quarter_15', 0.0),\n",
       " ('exit_hour_quarter_15', 0.0),\n",
       " ('entry_hour_quarter_16', 0.0),\n",
       " ('exit_hour_quarter_16', 0.0),\n",
       " ('entry_hour_quarter_17', 0.0),\n",
       " ('exit_hour_quarter_17', 0.0),\n",
       " ('entry_hour_quarter_18', 0.0),\n",
       " ('exit_hour_quarter_18', 0.0),\n",
       " ('entry_hour_quarter_19', 0.0),\n",
       " ('exit_hour_19', 0.0),\n",
       " ('exit_hour_quarter_19', 0.0)]"
      ]
     },
     "execution_count": 106,
     "metadata": {},
     "output_type": "execute_result"
    }
   ],
   "source": [
    "sorted(zip(X.columns.values, models2.feature_importances_), key=lambda x: x[1], reverse=True)\n"
   ]
  },
  {
   "cell_type": "code",
   "execution_count": 21,
   "metadata": {},
   "outputs": [],
   "source": [
    "pickle.dump(models2, open(\"models/final.pickle\", \"wb\"))"
   ]
  },
  {
   "cell_type": "markdown",
   "metadata": {},
   "source": [
    "# 3. Make Prediction"
   ]
  },
  {
   "cell_type": "code",
   "execution_count": 22,
   "metadata": {},
   "outputs": [],
   "source": [
    "models2 = pickle.load(open(\"models/final.pickle\", \"rb\"))"
   ]
  },
  {
   "cell_type": "code",
   "execution_count": 23,
   "metadata": {},
   "outputs": [
    {
     "name": "stderr",
     "output_type": "stream",
     "text": [
      "/home/ubuntu/anaconda3/envs/python3/lib/python3.6/site-packages/IPython/core/interactiveshell.py:2785: DtypeWarning: Columns (2,3,4,5) have mixed types. Specify dtype option on import or set low_memory=False.\n",
      "  interactivity=interactivity, compiler=compiler, result=result)\n"
     ]
    }
   ],
   "source": [
    "test2 = pd.read_csv(\"data/interim/data_test_concat.csv\", index_col=False)"
   ]
  },
  {
   "cell_type": "code",
   "execution_count": 24,
   "metadata": {},
   "outputs": [
    {
     "data": {
      "text/plain": [
       "(33515, 381)"
      ]
     },
     "execution_count": 24,
     "metadata": {},
     "output_type": "execute_result"
    }
   ],
   "source": [
    "test2.shape"
   ]
  },
  {
   "cell_type": "code",
   "execution_count": 25,
   "metadata": {
    "scrolled": true
   },
   "outputs": [],
   "source": [
    "tname = test2['trajectory_id_19']"
   ]
  },
  {
   "cell_type": "code",
   "execution_count": 26,
   "metadata": {},
   "outputs": [],
   "source": [
    "tX = test2.drop([x+str(y) for y in range(20) for x in ['Unnamed: 0_', 'hash_', 'trajectory_id_', 'time_entry_', 'time_exit_']] \\\n",
    "    + ['x_exit_19', 'y_exit_19','vmax_19', 'vmin_19', 'vmean_19'] + ['Unnamed: 0'], axis=1)\n",
    "# X = X.fillna(0)"
   ]
  },
  {
   "cell_type": "code",
   "execution_count": 27,
   "metadata": {},
   "outputs": [],
   "source": [
    "# extrapolation\n",
    "for i in range(18,-1,-1):\n",
    "    cur = str(i)\n",
    "    nex = str(i+1)\n",
    "    nan = tX['x_entry_'+cur].isnull()\n",
    "    for x,y in zip(['x_entry_'+cur, 'y_entry_'+cur, 'entry_hour_'+cur, 'entry_minute_'+cur, 'entry_second_'+cur],\n",
    "                   ['x_entry_'+nex, 'y_entry_'+nex, 'entry_hour_'+nex, 'entry_minute_'+nex, 'entry_second_'+nex]):\n",
    "        tX.iloc[np.where(nan)[0], tX.columns.get_loc(x)] = tX[y][nan]\n",
    "    for x,y in zip(['x_exit_'+cur, 'y_exit_'+cur, 'exit_hour_'+cur, 'exit_minute_'+cur, 'exit_second_'+cur],\n",
    "                   ['x_entry_'+nex, 'y_entry_'+nex, 'entry_hour_'+nex, 'entry_minute_'+nex, 'entry_second_'+nex]):\n",
    "        tX.iloc[np.where(nan)[0], tX.columns.get_loc(x)] = tX[y][nan]"
   ]
  },
  {
   "cell_type": "code",
   "execution_count": 28,
   "metadata": {},
   "outputs": [],
   "source": [
    "# space and velocity inference\n",
    "for i in range(19):\n",
    "    tX['distance_'+str(i)] = ((tX['x_entry_'+str(i)]-tX['x_exit_'+str(i)]).pow(2)+(tX['y_entry_'+str(i)]-tX['y_exit_'+str(i)]).pow(2)).pow(0.5)\n",
    "    tX['speed_'+str(i)] = tX['distance_'+str(i)]/tX['duration_'+str(i)]\n",
    "tX = tX.replace([np.inf, -np.inf], np.nan)\n",
    "tX = tX.fillna(0)"
   ]
  },
  {
   "cell_type": "code",
   "execution_count": 29,
   "metadata": {},
   "outputs": [],
   "source": [
    "# time feature\n",
    "for i in range(20):\n",
    "    tX['entry_hour_quarter_'+str(i)] = tX['entry_hour_'+str(1)]*4 + np.ceil(tX['entry_minute_'+str(1)]/15)\n",
    "    tX['exit_hour_quarter_'+str(i)] = tX['exit_hour_'+str(1)]*4 + np.ceil(tX['exit_minute_'+str(1)]/15)\n",
    "    "
   ]
  },
  {
   "cell_type": "code",
   "execution_count": 30,
   "metadata": {},
   "outputs": [],
   "source": [
    "sortcol = sorted(tX.columns.tolist(), key=lambda x: (int(x[x.rfind(\"_\")+1:]), x[:x.rfind(\"_\")]))\n",
    "tX = tX[sortcol]"
   ]
  },
  {
   "cell_type": "code",
   "execution_count": 31,
   "metadata": {},
   "outputs": [
    {
     "data": {
      "text/plain": [
       "['distance_0',\n",
       " 'duration_0',\n",
       " 'entry_hour_0',\n",
       " 'entry_hour_quarter_0',\n",
       " 'entry_minute_0',\n",
       " 'entry_second_0',\n",
       " 'exit_hour_0',\n",
       " 'exit_hour_quarter_0',\n",
       " 'exit_minute_0',\n",
       " 'exit_second_0',\n",
       " 'speed_0',\n",
       " 'vmax_0',\n",
       " 'vmean_0',\n",
       " 'vmin_0',\n",
       " 'x_entry_0',\n",
       " 'x_exit_0',\n",
       " 'y_entry_0',\n",
       " 'y_exit_0',\n",
       " 'distance_1',\n",
       " 'duration_1',\n",
       " 'entry_hour_1',\n",
       " 'entry_hour_quarter_1',\n",
       " 'entry_minute_1',\n",
       " 'entry_second_1',\n",
       " 'exit_hour_1',\n",
       " 'exit_hour_quarter_1',\n",
       " 'exit_minute_1',\n",
       " 'exit_second_1',\n",
       " 'speed_1',\n",
       " 'vmax_1',\n",
       " 'vmean_1',\n",
       " 'vmin_1',\n",
       " 'x_entry_1',\n",
       " 'x_exit_1',\n",
       " 'y_entry_1',\n",
       " 'y_exit_1',\n",
       " 'distance_2',\n",
       " 'duration_2',\n",
       " 'entry_hour_2',\n",
       " 'entry_hour_quarter_2',\n",
       " 'entry_minute_2',\n",
       " 'entry_second_2',\n",
       " 'exit_hour_2',\n",
       " 'exit_hour_quarter_2',\n",
       " 'exit_minute_2',\n",
       " 'exit_second_2',\n",
       " 'speed_2',\n",
       " 'vmax_2',\n",
       " 'vmean_2',\n",
       " 'vmin_2',\n",
       " 'x_entry_2',\n",
       " 'x_exit_2',\n",
       " 'y_entry_2',\n",
       " 'y_exit_2',\n",
       " 'distance_3',\n",
       " 'duration_3',\n",
       " 'entry_hour_3',\n",
       " 'entry_hour_quarter_3',\n",
       " 'entry_minute_3',\n",
       " 'entry_second_3',\n",
       " 'exit_hour_3',\n",
       " 'exit_hour_quarter_3',\n",
       " 'exit_minute_3',\n",
       " 'exit_second_3',\n",
       " 'speed_3',\n",
       " 'vmax_3',\n",
       " 'vmean_3',\n",
       " 'vmin_3',\n",
       " 'x_entry_3',\n",
       " 'x_exit_3',\n",
       " 'y_entry_3',\n",
       " 'y_exit_3',\n",
       " 'distance_4',\n",
       " 'duration_4',\n",
       " 'entry_hour_4',\n",
       " 'entry_hour_quarter_4',\n",
       " 'entry_minute_4',\n",
       " 'entry_second_4',\n",
       " 'exit_hour_4',\n",
       " 'exit_hour_quarter_4',\n",
       " 'exit_minute_4',\n",
       " 'exit_second_4',\n",
       " 'speed_4',\n",
       " 'vmax_4',\n",
       " 'vmean_4',\n",
       " 'vmin_4',\n",
       " 'x_entry_4',\n",
       " 'x_exit_4',\n",
       " 'y_entry_4',\n",
       " 'y_exit_4',\n",
       " 'distance_5',\n",
       " 'duration_5',\n",
       " 'entry_hour_5',\n",
       " 'entry_hour_quarter_5',\n",
       " 'entry_minute_5',\n",
       " 'entry_second_5',\n",
       " 'exit_hour_5',\n",
       " 'exit_hour_quarter_5',\n",
       " 'exit_minute_5',\n",
       " 'exit_second_5',\n",
       " 'speed_5',\n",
       " 'vmax_5',\n",
       " 'vmean_5',\n",
       " 'vmin_5',\n",
       " 'x_entry_5',\n",
       " 'x_exit_5',\n",
       " 'y_entry_5',\n",
       " 'y_exit_5',\n",
       " 'distance_6',\n",
       " 'duration_6',\n",
       " 'entry_hour_6',\n",
       " 'entry_hour_quarter_6',\n",
       " 'entry_minute_6',\n",
       " 'entry_second_6',\n",
       " 'exit_hour_6',\n",
       " 'exit_hour_quarter_6',\n",
       " 'exit_minute_6',\n",
       " 'exit_second_6',\n",
       " 'speed_6',\n",
       " 'vmax_6',\n",
       " 'vmean_6',\n",
       " 'vmin_6',\n",
       " 'x_entry_6',\n",
       " 'x_exit_6',\n",
       " 'y_entry_6',\n",
       " 'y_exit_6',\n",
       " 'distance_7',\n",
       " 'duration_7',\n",
       " 'entry_hour_7',\n",
       " 'entry_hour_quarter_7',\n",
       " 'entry_minute_7',\n",
       " 'entry_second_7',\n",
       " 'exit_hour_7',\n",
       " 'exit_hour_quarter_7',\n",
       " 'exit_minute_7',\n",
       " 'exit_second_7',\n",
       " 'speed_7',\n",
       " 'vmax_7',\n",
       " 'vmean_7',\n",
       " 'vmin_7',\n",
       " 'x_entry_7',\n",
       " 'x_exit_7',\n",
       " 'y_entry_7',\n",
       " 'y_exit_7',\n",
       " 'distance_8',\n",
       " 'duration_8',\n",
       " 'entry_hour_8',\n",
       " 'entry_hour_quarter_8',\n",
       " 'entry_minute_8',\n",
       " 'entry_second_8',\n",
       " 'exit_hour_8',\n",
       " 'exit_hour_quarter_8',\n",
       " 'exit_minute_8',\n",
       " 'exit_second_8',\n",
       " 'speed_8',\n",
       " 'vmax_8',\n",
       " 'vmean_8',\n",
       " 'vmin_8',\n",
       " 'x_entry_8',\n",
       " 'x_exit_8',\n",
       " 'y_entry_8',\n",
       " 'y_exit_8',\n",
       " 'distance_9',\n",
       " 'duration_9',\n",
       " 'entry_hour_9',\n",
       " 'entry_hour_quarter_9',\n",
       " 'entry_minute_9',\n",
       " 'entry_second_9',\n",
       " 'exit_hour_9',\n",
       " 'exit_hour_quarter_9',\n",
       " 'exit_minute_9',\n",
       " 'exit_second_9',\n",
       " 'speed_9',\n",
       " 'vmax_9',\n",
       " 'vmean_9',\n",
       " 'vmin_9',\n",
       " 'x_entry_9',\n",
       " 'x_exit_9',\n",
       " 'y_entry_9',\n",
       " 'y_exit_9',\n",
       " 'distance_10',\n",
       " 'duration_10',\n",
       " 'entry_hour_10',\n",
       " 'entry_hour_quarter_10',\n",
       " 'entry_minute_10',\n",
       " 'entry_second_10',\n",
       " 'exit_hour_10',\n",
       " 'exit_hour_quarter_10',\n",
       " 'exit_minute_10',\n",
       " 'exit_second_10',\n",
       " 'speed_10',\n",
       " 'vmax_10',\n",
       " 'vmean_10',\n",
       " 'vmin_10',\n",
       " 'x_entry_10',\n",
       " 'x_exit_10',\n",
       " 'y_entry_10',\n",
       " 'y_exit_10',\n",
       " 'distance_11',\n",
       " 'duration_11',\n",
       " 'entry_hour_11',\n",
       " 'entry_hour_quarter_11',\n",
       " 'entry_minute_11',\n",
       " 'entry_second_11',\n",
       " 'exit_hour_11',\n",
       " 'exit_hour_quarter_11',\n",
       " 'exit_minute_11',\n",
       " 'exit_second_11',\n",
       " 'speed_11',\n",
       " 'vmax_11',\n",
       " 'vmean_11',\n",
       " 'vmin_11',\n",
       " 'x_entry_11',\n",
       " 'x_exit_11',\n",
       " 'y_entry_11',\n",
       " 'y_exit_11',\n",
       " 'distance_12',\n",
       " 'duration_12',\n",
       " 'entry_hour_12',\n",
       " 'entry_hour_quarter_12',\n",
       " 'entry_minute_12',\n",
       " 'entry_second_12',\n",
       " 'exit_hour_12',\n",
       " 'exit_hour_quarter_12',\n",
       " 'exit_minute_12',\n",
       " 'exit_second_12',\n",
       " 'speed_12',\n",
       " 'vmax_12',\n",
       " 'vmean_12',\n",
       " 'vmin_12',\n",
       " 'x_entry_12',\n",
       " 'x_exit_12',\n",
       " 'y_entry_12',\n",
       " 'y_exit_12',\n",
       " 'distance_13',\n",
       " 'duration_13',\n",
       " 'entry_hour_13',\n",
       " 'entry_hour_quarter_13',\n",
       " 'entry_minute_13',\n",
       " 'entry_second_13',\n",
       " 'exit_hour_13',\n",
       " 'exit_hour_quarter_13',\n",
       " 'exit_minute_13',\n",
       " 'exit_second_13',\n",
       " 'speed_13',\n",
       " 'vmax_13',\n",
       " 'vmean_13',\n",
       " 'vmin_13',\n",
       " 'x_entry_13',\n",
       " 'x_exit_13',\n",
       " 'y_entry_13',\n",
       " 'y_exit_13',\n",
       " 'distance_14',\n",
       " 'duration_14',\n",
       " 'entry_hour_14',\n",
       " 'entry_hour_quarter_14',\n",
       " 'entry_minute_14',\n",
       " 'entry_second_14',\n",
       " 'exit_hour_14',\n",
       " 'exit_hour_quarter_14',\n",
       " 'exit_minute_14',\n",
       " 'exit_second_14',\n",
       " 'speed_14',\n",
       " 'vmax_14',\n",
       " 'vmean_14',\n",
       " 'vmin_14',\n",
       " 'x_entry_14',\n",
       " 'x_exit_14',\n",
       " 'y_entry_14',\n",
       " 'y_exit_14',\n",
       " 'distance_15',\n",
       " 'duration_15',\n",
       " 'entry_hour_15',\n",
       " 'entry_hour_quarter_15',\n",
       " 'entry_minute_15',\n",
       " 'entry_second_15',\n",
       " 'exit_hour_15',\n",
       " 'exit_hour_quarter_15',\n",
       " 'exit_minute_15',\n",
       " 'exit_second_15',\n",
       " 'speed_15',\n",
       " 'vmax_15',\n",
       " 'vmean_15',\n",
       " 'vmin_15',\n",
       " 'x_entry_15',\n",
       " 'x_exit_15',\n",
       " 'y_entry_15',\n",
       " 'y_exit_15',\n",
       " 'distance_16',\n",
       " 'duration_16',\n",
       " 'entry_hour_16',\n",
       " 'entry_hour_quarter_16',\n",
       " 'entry_minute_16',\n",
       " 'entry_second_16',\n",
       " 'exit_hour_16',\n",
       " 'exit_hour_quarter_16',\n",
       " 'exit_minute_16',\n",
       " 'exit_second_16',\n",
       " 'speed_16',\n",
       " 'vmax_16',\n",
       " 'vmean_16',\n",
       " 'vmin_16',\n",
       " 'x_entry_16',\n",
       " 'x_exit_16',\n",
       " 'y_entry_16',\n",
       " 'y_exit_16',\n",
       " 'distance_17',\n",
       " 'duration_17',\n",
       " 'entry_hour_17',\n",
       " 'entry_hour_quarter_17',\n",
       " 'entry_minute_17',\n",
       " 'entry_second_17',\n",
       " 'exit_hour_17',\n",
       " 'exit_hour_quarter_17',\n",
       " 'exit_minute_17',\n",
       " 'exit_second_17',\n",
       " 'speed_17',\n",
       " 'vmax_17',\n",
       " 'vmean_17',\n",
       " 'vmin_17',\n",
       " 'x_entry_17',\n",
       " 'x_exit_17',\n",
       " 'y_entry_17',\n",
       " 'y_exit_17',\n",
       " 'distance_18',\n",
       " 'duration_18',\n",
       " 'entry_hour_18',\n",
       " 'entry_hour_quarter_18',\n",
       " 'entry_minute_18',\n",
       " 'entry_second_18',\n",
       " 'exit_hour_18',\n",
       " 'exit_hour_quarter_18',\n",
       " 'exit_minute_18',\n",
       " 'exit_second_18',\n",
       " 'speed_18',\n",
       " 'vmax_18',\n",
       " 'vmean_18',\n",
       " 'vmin_18',\n",
       " 'x_entry_18',\n",
       " 'x_exit_18',\n",
       " 'y_entry_18',\n",
       " 'y_exit_18',\n",
       " 'duration_19',\n",
       " 'entry_hour_19',\n",
       " 'entry_hour_quarter_19',\n",
       " 'entry_minute_19',\n",
       " 'entry_second_19',\n",
       " 'exit_hour_19',\n",
       " 'exit_hour_quarter_19',\n",
       " 'exit_minute_19',\n",
       " 'exit_second_19',\n",
       " 'x_entry_19',\n",
       " 'y_entry_19']"
      ]
     },
     "execution_count": 31,
     "metadata": {},
     "output_type": "execute_result"
    }
   ],
   "source": [
    "tX.columns.tolist()"
   ]
  },
  {
   "cell_type": "code",
   "execution_count": 32,
   "metadata": {},
   "outputs": [],
   "source": [
    "tX[:] = scaler.transform(tX)"
   ]
  },
  {
   "cell_type": "code",
   "execution_count": 33,
   "metadata": {},
   "outputs": [
    {
     "data": {
      "text/plain": [
       "((134063, 353), (33515, 353))"
      ]
     },
     "execution_count": 33,
     "metadata": {},
     "output_type": "execute_result"
    }
   ],
   "source": [
    "(X.shape, tX.shape)"
   ]
  },
  {
   "cell_type": "code",
   "execution_count": 34,
   "metadata": {},
   "outputs": [
    {
     "data": {
      "text/html": [
       "<div>\n",
       "<style scoped>\n",
       "    .dataframe tbody tr th:only-of-type {\n",
       "        vertical-align: middle;\n",
       "    }\n",
       "\n",
       "    .dataframe tbody tr th {\n",
       "        vertical-align: top;\n",
       "    }\n",
       "\n",
       "    .dataframe thead th {\n",
       "        text-align: right;\n",
       "    }\n",
       "</style>\n",
       "<table border=\"1\" class=\"dataframe\">\n",
       "  <thead>\n",
       "    <tr style=\"text-align: right;\">\n",
       "      <th></th>\n",
       "      <th>distance_0</th>\n",
       "      <th>duration_0</th>\n",
       "      <th>entry_hour_0</th>\n",
       "      <th>entry_hour_quarter_0</th>\n",
       "      <th>entry_minute_0</th>\n",
       "      <th>entry_second_0</th>\n",
       "      <th>exit_hour_0</th>\n",
       "      <th>exit_hour_quarter_0</th>\n",
       "      <th>exit_minute_0</th>\n",
       "      <th>exit_second_0</th>\n",
       "      <th>...</th>\n",
       "      <th>entry_hour_19</th>\n",
       "      <th>entry_hour_quarter_19</th>\n",
       "      <th>entry_minute_19</th>\n",
       "      <th>entry_second_19</th>\n",
       "      <th>exit_hour_19</th>\n",
       "      <th>exit_hour_quarter_19</th>\n",
       "      <th>exit_minute_19</th>\n",
       "      <th>exit_second_19</th>\n",
       "      <th>x_entry_19</th>\n",
       "      <th>y_entry_19</th>\n",
       "    </tr>\n",
       "  </thead>\n",
       "  <tbody>\n",
       "    <tr>\n",
       "      <th>0</th>\n",
       "      <td>-0.014382</td>\n",
       "      <td>-0.019108</td>\n",
       "      <td>1.067279</td>\n",
       "      <td>1.100958</td>\n",
       "      <td>0.828158</td>\n",
       "      <td>-0.419023</td>\n",
       "      <td>1.067261</td>\n",
       "      <td>1.100934</td>\n",
       "      <td>0.828093</td>\n",
       "      <td>-0.419057</td>\n",
       "      <td>...</td>\n",
       "      <td>0.394396</td>\n",
       "      <td>1.100958</td>\n",
       "      <td>-1.303436</td>\n",
       "      <td>0.458538</td>\n",
       "      <td>-0.013928</td>\n",
       "      <td>1.100934</td>\n",
       "      <td>-0.880061</td>\n",
       "      <td>0.423521</td>\n",
       "      <td>1.384915</td>\n",
       "      <td>1.012140</td>\n",
       "    </tr>\n",
       "    <tr>\n",
       "      <th>1</th>\n",
       "      <td>-0.014382</td>\n",
       "      <td>-0.019108</td>\n",
       "      <td>0.318053</td>\n",
       "      <td>0.230919</td>\n",
       "      <td>-1.179225</td>\n",
       "      <td>-0.065709</td>\n",
       "      <td>0.318028</td>\n",
       "      <td>0.230835</td>\n",
       "      <td>-1.179252</td>\n",
       "      <td>-0.065751</td>\n",
       "      <td>...</td>\n",
       "      <td>0.394396</td>\n",
       "      <td>0.230919</td>\n",
       "      <td>0.144160</td>\n",
       "      <td>-0.903092</td>\n",
       "      <td>-0.013928</td>\n",
       "      <td>0.230835</td>\n",
       "      <td>0.296528</td>\n",
       "      <td>1.840450</td>\n",
       "      <td>1.041301</td>\n",
       "      <td>-1.567424</td>\n",
       "    </tr>\n",
       "    <tr>\n",
       "      <th>2</th>\n",
       "      <td>-0.014382</td>\n",
       "      <td>-0.019108</td>\n",
       "      <td>0.318053</td>\n",
       "      <td>0.355210</td>\n",
       "      <td>0.942866</td>\n",
       "      <td>-1.125652</td>\n",
       "      <td>0.318028</td>\n",
       "      <td>0.355135</td>\n",
       "      <td>0.942799</td>\n",
       "      <td>-1.125671</td>\n",
       "      <td>...</td>\n",
       "      <td>0.394396</td>\n",
       "      <td>0.355210</td>\n",
       "      <td>-0.022870</td>\n",
       "      <td>-0.962294</td>\n",
       "      <td>-0.013928</td>\n",
       "      <td>0.355135</td>\n",
       "      <td>0.061210</td>\n",
       "      <td>-0.993409</td>\n",
       "      <td>-0.327550</td>\n",
       "      <td>-0.218088</td>\n",
       "    </tr>\n",
       "    <tr>\n",
       "      <th>3</th>\n",
       "      <td>-0.014382</td>\n",
       "      <td>-0.019108</td>\n",
       "      <td>0.567795</td>\n",
       "      <td>0.479502</td>\n",
       "      <td>-1.064517</td>\n",
       "      <td>-1.243423</td>\n",
       "      <td>0.567773</td>\n",
       "      <td>0.479435</td>\n",
       "      <td>-1.064546</td>\n",
       "      <td>-1.243440</td>\n",
       "      <td>...</td>\n",
       "      <td>0.394396</td>\n",
       "      <td>0.479502</td>\n",
       "      <td>0.478221</td>\n",
       "      <td>-0.370281</td>\n",
       "      <td>-0.013928</td>\n",
       "      <td>0.479435</td>\n",
       "      <td>1.002482</td>\n",
       "      <td>-1.170525</td>\n",
       "      <td>0.004736</td>\n",
       "      <td>-1.746494</td>\n",
       "    </tr>\n",
       "    <tr>\n",
       "      <th>4</th>\n",
       "      <td>-0.014382</td>\n",
       "      <td>-0.019108</td>\n",
       "      <td>0.318053</td>\n",
       "      <td>0.417356</td>\n",
       "      <td>1.114927</td>\n",
       "      <td>0.817577</td>\n",
       "      <td>0.318028</td>\n",
       "      <td>0.417285</td>\n",
       "      <td>1.114857</td>\n",
       "      <td>0.817516</td>\n",
       "      <td>...</td>\n",
       "      <td>-2.440666</td>\n",
       "      <td>0.417356</td>\n",
       "      <td>1.536080</td>\n",
       "      <td>-1.021495</td>\n",
       "      <td>-0.013928</td>\n",
       "      <td>0.417285</td>\n",
       "      <td>-1.174208</td>\n",
       "      <td>-0.639176</td>\n",
       "      <td>0.640926</td>\n",
       "      <td>0.680892</td>\n",
       "    </tr>\n",
       "  </tbody>\n",
       "</table>\n",
       "<p>5 rows × 353 columns</p>\n",
       "</div>"
      ],
      "text/plain": [
       "   distance_0  duration_0  entry_hour_0  entry_hour_quarter_0  entry_minute_0  \\\n",
       "0   -0.014382   -0.019108      1.067279              1.100958        0.828158   \n",
       "1   -0.014382   -0.019108      0.318053              0.230919       -1.179225   \n",
       "2   -0.014382   -0.019108      0.318053              0.355210        0.942866   \n",
       "3   -0.014382   -0.019108      0.567795              0.479502       -1.064517   \n",
       "4   -0.014382   -0.019108      0.318053              0.417356        1.114927   \n",
       "\n",
       "   entry_second_0  exit_hour_0  exit_hour_quarter_0  exit_minute_0  \\\n",
       "0       -0.419023     1.067261             1.100934       0.828093   \n",
       "1       -0.065709     0.318028             0.230835      -1.179252   \n",
       "2       -1.125652     0.318028             0.355135       0.942799   \n",
       "3       -1.243423     0.567773             0.479435      -1.064546   \n",
       "4        0.817577     0.318028             0.417285       1.114857   \n",
       "\n",
       "   exit_second_0     ...      entry_hour_19  entry_hour_quarter_19  \\\n",
       "0      -0.419057     ...           0.394396               1.100958   \n",
       "1      -0.065751     ...           0.394396               0.230919   \n",
       "2      -1.125671     ...           0.394396               0.355210   \n",
       "3      -1.243440     ...           0.394396               0.479502   \n",
       "4       0.817516     ...          -2.440666               0.417356   \n",
       "\n",
       "   entry_minute_19  entry_second_19  exit_hour_19  exit_hour_quarter_19  \\\n",
       "0        -1.303436         0.458538     -0.013928              1.100934   \n",
       "1         0.144160        -0.903092     -0.013928              0.230835   \n",
       "2        -0.022870        -0.962294     -0.013928              0.355135   \n",
       "3         0.478221        -0.370281     -0.013928              0.479435   \n",
       "4         1.536080        -1.021495     -0.013928              0.417285   \n",
       "\n",
       "   exit_minute_19  exit_second_19  x_entry_19  y_entry_19  \n",
       "0       -0.880061        0.423521    1.384915    1.012140  \n",
       "1        0.296528        1.840450    1.041301   -1.567424  \n",
       "2        0.061210       -0.993409   -0.327550   -0.218088  \n",
       "3        1.002482       -1.170525    0.004736   -1.746494  \n",
       "4       -1.174208       -0.639176    0.640926    0.680892  \n",
       "\n",
       "[5 rows x 353 columns]"
      ]
     },
     "execution_count": 34,
     "metadata": {},
     "output_type": "execute_result"
    }
   ],
   "source": [
    "tX[:5]"
   ]
  },
  {
   "cell_type": "code",
   "execution_count": 35,
   "metadata": {},
   "outputs": [
    {
     "name": "stderr",
     "output_type": "stream",
     "text": [
      "/home/ubuntu/anaconda3/envs/python3/lib/python3.6/site-packages/sklearn/preprocessing/label.py:151: DeprecationWarning: The truth value of an empty array is ambiguous. Returning False, but in future this will result in an error. Use `array.size > 0` to check that an array is not empty.\n",
      "  if diff:\n"
     ]
    }
   ],
   "source": [
    "pred_y = models2.predict(tX)\n",
    "print(pred_y.sum(), pred_y.shape)"
   ]
  },
  {
   "cell_type": "code",
   "execution_count": 40,
   "metadata": {},
   "outputs": [],
   "source": [
    "output = pd.DataFrame({'id': tname, 'target': pred_y.astype(int)})\n",
    "output.to_csv('data/submissions/submission10.csv', index=False, columns=['id', 'target'])"
   ]
  },
  {
   "cell_type": "code",
   "execution_count": null,
   "metadata": {},
   "outputs": [],
   "source": []
  }
 ],
 "metadata": {
  "kernelspec": {
   "display_name": "Environment (conda_python3)",
   "language": "python",
   "name": "conda_python3"
  },
  "language_info": {
   "codemirror_mode": {
    "name": "ipython",
    "version": 3
   },
   "file_extension": ".py",
   "mimetype": "text/x-python",
   "name": "python",
   "nbconvert_exporter": "python",
   "pygments_lexer": "ipython3",
   "version": "3.6.5"
  }
 },
 "nbformat": 4,
 "nbformat_minor": 2
}
